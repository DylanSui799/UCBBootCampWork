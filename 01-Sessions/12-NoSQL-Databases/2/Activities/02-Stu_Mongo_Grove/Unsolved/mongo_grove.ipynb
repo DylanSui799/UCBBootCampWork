{
 "cells": [
  {
   "cell_type": "code",
   "execution_count": 1,
   "metadata": {},
   "outputs": [],
   "source": [
    "# Import dependencies\n",
    "from pymongo import MongoClient\n",
    "import datetime"
   ]
  },
  {
   "cell_type": "code",
   "execution_count": 2,
   "metadata": {},
   "outputs": [
    {
     "data": {
      "text/plain": [
       "Collection(Database(MongoClient(host=['localhost:27017'], document_class=dict, tz_aware=False, connect=True), 'fruits_db'), 'fruits')"
      ]
     },
     "execution_count": 2,
     "metadata": {},
     "output_type": "execute_result"
    }
   ],
   "source": [
    "# The default port used by MongoDB is 27017\n",
    "# https://docs.mongodb.com/manual/reference/default-mongodb-port/\n",
    "mongo = MongoClient(port=27017)\n",
    "\n",
    "# Declare the database\n",
    "db = mongo.fruits_db\n",
    "\n",
    "# Declare the collection\n",
    "fruits = db.fruits\n",
    "fruits"
   ]
  },
  {
   "cell_type": "code",
   "execution_count": 3,
   "metadata": {},
   "outputs": [
    {
     "data": {
      "text/plain": [
       "InsertOneResult(ObjectId('65cc3262000d809743c3515f'), acknowledged=True)"
      ]
     },
     "execution_count": 3,
     "metadata": {},
     "output_type": "execute_result"
    }
   ],
   "source": [
    "# A dictionary that represents the document to be inserted\n",
    "dictionary = {\n",
    "        'vendor': 'fruit star',\n",
    "        'fruit': \"apple\",\n",
    "        'case_quantity': 2,\n",
    "        'ripeness': 2,\n",
    "        'date': datetime.datetime.utcnow()\n",
    "    }\n",
    "\n",
    "\n",
    "# Pass the dictionary into `insert_one` to insert the document into the database\n",
    "# The database and collection, if they don't already exist, will be created at this point.\n",
    "fruits.insert_one(dictionary)"
   ]
  },
  {
   "cell_type": "code",
   "execution_count": 4,
   "metadata": {},
   "outputs": [
    {
     "name": "stdin",
     "output_type": "stream",
     "text": [
      "What is the vendor name:  Adrian\n",
      "What type of fruit tomato\n",
      "How many cases received: 0\n",
      "How ripe is the fruit (1 is unripe; 2 is ripe, 3 is over-ripe) 3\n"
     ]
    },
    {
     "data": {
      "text/plain": [
       "InsertOneResult(ObjectId('65cc327b000d809743c35160'), acknowledged=True)"
      ]
     },
     "execution_count": 4,
     "metadata": {},
     "output_type": "execute_result"
    }
   ],
   "source": [
    "# Ask the user for input. Store information into variables.\n",
    "vendor = input('What is the vendor name: ')\n",
    "fruit_type = input('What type of fruit')\n",
    "quantity = input('How many cases received:')\n",
    "ripeness = input('How ripe is the fruit (1 is unripe; 2 is ripe, 3 is over-ripe)')\n",
    "\n",
    "# A dictionary that will become a MongoDB document\n",
    "dictionary = {\n",
    "    'vendor': vendor,\n",
    "    'fruit': fruit_type,\n",
    "    'case_quantity': quantity,\n",
    "    'ripeness': ripeness,\n",
    "    'date': datetime.datetime.utcnow()\n",
    "}\n",
    "# Insert document into collection\n",
    "fruits.insert_one(dictionary)"
   ]
  },
  {
   "cell_type": "code",
   "execution_count": 5,
   "metadata": {},
   "outputs": [
    {
     "name": "stdout",
     "output_type": "stream",
     "text": [
      "{'_id': ObjectId('65cc2e6b65ac8e13572055a1'), 'vendor': 'fruit star', 'fruit': 'apple', 'case_quantity': 2, 'ripeness': 2, 'date': datetime.datetime(2024, 2, 14, 3, 7, 23, 248000)}\n",
      "{'_id': ObjectId('65cc2f1865ac8e13572055a2'), 'vendor': 'fruit star', 'fruit': 'apple', 'case_quantity': '2', 'ripeness': '2', 'date': datetime.datetime(2024, 2, 14, 3, 10, 16, 193000)}\n",
      "{'_id': ObjectId('65cc313365ac8e13572055a3'), 'vendor': 'Berkley', 'fruit': 'Banana', 'case_quantity': '25', 'ripeness': '1', 'date': datetime.datetime(2024, 2, 14, 3, 19, 15, 281000)}\n",
      "{'_id': ObjectId('65cc314e65ac8e13572055a4'), 'vendor': 'Dylan', 'fruit': 'Strawberry', 'case_quantity': '9', 'ripeness': '3', 'date': datetime.datetime(2024, 2, 14, 3, 19, 42, 27000)}\n",
      "{'_id': ObjectId('65cc323365ac8e13572055a5'), 'vendor': 'fruit star', 'fruit': 'apple', 'case_quantity': 2, 'ripeness': 2, 'date': datetime.datetime(2024, 2, 14, 3, 23, 31, 239000)}\n",
      "{'_id': ObjectId('65cc325265ac8e13572055a7'), 'vendor': 'fruit star', 'fruit': 'apple', 'case_quantity': 2, 'ripeness': 2, 'date': datetime.datetime(2024, 2, 14, 3, 24, 2, 559000)}\n",
      "{'_id': ObjectId('65cc3262000d809743c3515f'), 'vendor': 'fruit star', 'fruit': 'apple', 'case_quantity': 2, 'ripeness': 2, 'date': datetime.datetime(2024, 2, 14, 3, 24, 18, 446000)}\n",
      "{'_id': ObjectId('65cc327b000d809743c35160'), 'vendor': 'Adrian', 'fruit': 'tomato', 'case_quantity': '0', 'ripeness': '3', 'date': datetime.datetime(2024, 2, 14, 3, 24, 43, 938000)}\n"
     ]
    }
   ],
   "source": [
    "# Verify results:\n",
    "results = fruits.find()\n",
    "for result in results:\n",
    "    print(result)"
   ]
  },
  {
   "cell_type": "code",
   "execution_count": null,
   "metadata": {},
   "outputs": [],
   "source": []
  }
 ],
 "metadata": {
  "kernelspec": {
   "display_name": "Python 3 (ipykernel)",
   "language": "python",
   "name": "python3"
  },
  "language_info": {
   "codemirror_mode": {
    "name": "ipython",
    "version": 3
   },
   "file_extension": ".py",
   "mimetype": "text/x-python",
   "name": "python",
   "nbconvert_exporter": "python",
   "pygments_lexer": "ipython3",
   "version": "3.9.18"
  }
 },
 "nbformat": 4,
 "nbformat_minor": 4
}
