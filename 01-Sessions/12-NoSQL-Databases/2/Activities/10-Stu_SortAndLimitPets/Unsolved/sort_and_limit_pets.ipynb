{
 "cells": [
  {
   "cell_type": "code",
   "execution_count": 10,
   "id": "d17273e7",
   "metadata": {},
   "outputs": [],
   "source": [
    "# Import dependencies\n",
    "from pymongo import MongoClient\n",
    "from pprint import pprint"
   ]
  },
  {
   "cell_type": "code",
   "execution_count": 11,
   "id": "2fb5655e",
   "metadata": {},
   "outputs": [],
   "source": [
    "# Create an instance of MongoClient\n",
    "mongo = MongoClient(port=27017)"
   ]
  },
  {
   "cell_type": "code",
   "execution_count": 12,
   "id": "64e86434",
   "metadata": {},
   "outputs": [
    {
     "name": "stdout",
     "output_type": "stream",
     "text": [
      "['admin', 'classDB', 'config', 'epa', 'fruits_db', 'gardenDB', 'local']\n"
     ]
    }
   ],
   "source": [
    "# confirm that the \"autosaurus\" database is in MongoDB\n",
    "print(mongo.list_database_names())"
   ]
  },
  {
   "cell_type": "code",
   "execution_count": 13,
   "id": "1d9a3dde",
   "metadata": {},
   "outputs": [],
   "source": [
    "# assign the database to a variable name\n",
    "db = mongo['petsitly_marketing']"
   ]
  },
  {
   "cell_type": "code",
   "execution_count": 14,
   "id": "aa8d0ad7",
   "metadata": {},
   "outputs": [
    {
     "name": "stdout",
     "output_type": "stream",
     "text": [
      "[]\n"
     ]
    }
   ],
   "source": [
    "# review the collections in our new database\n",
    "print(db.list_collection_names())"
   ]
  },
  {
   "cell_type": "code",
   "execution_count": 15,
   "id": "90ccf45c",
   "metadata": {},
   "outputs": [],
   "source": [
    "# assign the collection to a variable\n",
    "customers = db['customer_list']"
   ]
  },
  {
   "cell_type": "code",
   "execution_count": 16,
   "id": "35a2cc6a",
   "metadata": {},
   "outputs": [
    {
     "name": "stdout",
     "output_type": "stream",
     "text": [
      "[]\n"
     ]
    }
   ],
   "source": [
    "# Create a query that finds customers who have cats or dogs\n",
    "query = {'Pet_Type': {'$in': [\"cat\", \"dog\"]}}\n",
    "\n",
    "# sort in descending order by 2021_Total_Spend\n",
    "sort = [('2021_Total_Spend', -1)]\n",
    "\n",
    "# limit the results to the first 5\n",
    "limit = 5\n",
    "\n",
    "# Pretty print the results\n",
    "pprint(list(customers.find(query).sort(sort).limit(limit)))"
   ]
  },
  {
   "cell_type": "code",
   "execution_count": 17,
   "id": "a32c3d95",
   "metadata": {},
   "outputs": [
    {
     "name": "stdout",
     "output_type": "stream",
     "text": [
      "[]\n"
     ]
    }
   ],
   "source": [
    "# Create a query that finds customers who spent less than $500 in 2021\n",
    "query = {'2021_Total_Spend': {'$lt': 500}}\n",
    "\n",
    "# sort in ascending order by Customer_Last\n",
    "sort = [('Customer_Last', 1)]\n",
    "\n",
    "# limit the results to the first 5\n",
    "limit = 5\n",
    "\n",
    "# Pretty print the results\n",
    "pprint(list(customers.find(query).sort(sort).limit(limit)))"
   ]
  },
  {
   "cell_type": "code",
   "execution_count": 18,
   "id": "5d327858",
   "metadata": {},
   "outputs": [],
   "source": [
    "# Create a query that finds customers who spent less than $500 and had more than 20 visits in 2021\n",
    "\n",
    "\n",
    "# Remove the 'Address' and 'Email' fields from the results\n",
    "\n",
    "\n",
    "# sort in ascending order by '2021_Visits', '2021_Total_Spend'\n",
    "\n",
    "\n",
    "# limit the results to the first 8\n",
    "\n",
    "\n",
    "# Pretty print the results\n"
   ]
  }
 ],
 "metadata": {
  "kernelspec": {
   "display_name": "Python 3 (ipykernel)",
   "language": "python",
   "name": "python3"
  },
  "language_info": {
   "codemirror_mode": {
    "name": "ipython",
    "version": 3
   },
   "file_extension": ".py",
   "mimetype": "text/x-python",
   "name": "python",
   "nbconvert_exporter": "python",
   "pygments_lexer": "ipython3",
   "version": "3.9.18"
  }
 },
 "nbformat": 4,
 "nbformat_minor": 5
}
