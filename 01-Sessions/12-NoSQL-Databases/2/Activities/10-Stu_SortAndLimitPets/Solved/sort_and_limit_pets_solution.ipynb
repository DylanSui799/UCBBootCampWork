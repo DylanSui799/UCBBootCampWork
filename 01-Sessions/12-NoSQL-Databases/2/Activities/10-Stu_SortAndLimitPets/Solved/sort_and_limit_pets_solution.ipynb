{
 "cells": [
  {
   "cell_type": "code",
   "execution_count": 1,
   "id": "d17273e7",
   "metadata": {},
   "outputs": [],
   "source": [
    "# Import dependencies\n",
    "from pymongo import MongoClient\n",
    "from pprint import pprint"
   ]
  },
  {
   "cell_type": "code",
   "execution_count": 2,
   "id": "2fb5655e",
   "metadata": {},
   "outputs": [],
   "source": [
    "# Create an instance of MongoClient\n",
    "mongo = MongoClient(port=27017)"
   ]
  },
  {
   "cell_type": "code",
   "execution_count": 3,
   "id": "64e86434",
   "metadata": {},
   "outputs": [
    {
     "name": "stdout",
     "output_type": "stream",
     "text": [
      "['admin', 'classDB', 'config', 'epa', 'fruits_db', 'gardenDB', 'local']\n"
     ]
    }
   ],
   "source": [
    "# confirm that the \"autosaurus\" database is in MongoDB\n",
    "print(mongo.list_database_names())"
   ]
  },
  {
   "cell_type": "code",
   "execution_count": 4,
   "id": "1d9a3dde",
   "metadata": {},
   "outputs": [],
   "source": [
    "# assign the database to a variable name\n",
    "db = mongo['petsitly_marketing']"
   ]
  },
  {
   "cell_type": "code",
   "execution_count": 5,
   "id": "aa8d0ad7",
   "metadata": {},
   "outputs": [
    {
     "name": "stdout",
     "output_type": "stream",
     "text": [
      "[]\n"
     ]
    }
   ],
   "source": [
    "# review the collections in our new database\n",
    "print(db.list_collection_names())"
   ]
  },
  {
   "cell_type": "code",
   "execution_count": 6,
   "id": "90ccf45c",
   "metadata": {},
   "outputs": [],
   "source": [
    "# assign the collection to a variable\n",
    "customers = db['customer_list']"
   ]
  },
  {
   "cell_type": "code",
   "execution_count": 7,
   "id": "35a2cc6a",
   "metadata": {},
   "outputs": [
    {
     "name": "stdout",
     "output_type": "stream",
     "text": [
      "[]\n"
     ]
    }
   ],
   "source": [
    "# Create a query that finds customers who have cats or dogs\n",
    "query = {'Pet_Type': {'$in': [\"cat\", \"dog\"]}}\n",
    "\n",
    "# sort in descending order by 2021_Total_Spend\n",
    "sort = [('2021_Total_Spend', -1)]\n",
    "\n",
    "# limit the results to the first 5\n",
    "limit = 5\n",
    "\n",
    "# Pretty print the results\n",
    "pprint(list(customers.find(query).sort(sort).limit(limit)))"
   ]
  },
  {
   "cell_type": "code",
   "execution_count": 8,
   "id": "a32c3d95",
   "metadata": {},
   "outputs": [
    {
     "name": "stdout",
     "output_type": "stream",
     "text": [
      "[]\n"
     ]
    }
   ],
   "source": [
    "# Create a query that finds customers who spent less than $500 in 2021\n",
    "query = {'2021_Total_Spend': {'$lt': 500}}\n",
    "\n",
    "# sort in ascending order by Customer_Last\n",
    "sort = [('Customer_Last', 1)]\n",
    "\n",
    "# limit the results to the first 5\n",
    "limit = 5\n",
    "\n",
    "# Pretty print the results\n",
    "pprint(list(customers.find(query).sort(sort).limit(limit)))"
   ]
  },
  {
   "cell_type": "code",
   "execution_count": 9,
   "id": "5d327858",
   "metadata": {},
   "outputs": [
    {
     "name": "stdout",
     "output_type": "stream",
     "text": [
      "[{'2021_Total_Spend': 362.25,\n",
      "  '2021_Visits': 21,\n",
      "  'Customer_First': 'Jasmyne',\n",
      "  'Customer_Last': 'Schmeler',\n",
      "  'Pet_Type': 'bird',\n",
      "  '_id': ObjectId('63c87d702592ed1be8cae677')},\n",
      " {'2021_Total_Spend': 362.25,\n",
      "  '2021_Visits': 21,\n",
      "  'Customer_First': 'Giselle',\n",
      "  'Customer_Last': 'Lesch',\n",
      "  'Pet_Type': 'dog',\n",
      "  '_id': ObjectId('63c87d702592ed1be8cae6d9')},\n",
      " {'2021_Total_Spend': 362.25,\n",
      "  '2021_Visits': 21,\n",
      "  'Customer_First': 'Lance',\n",
      "  'Customer_Last': 'Hamill',\n",
      "  'Pet_Type': 'cat',\n",
      "  '_id': ObjectId('63c87d702592ed1be8cae688')},\n",
      " {'2021_Total_Spend': 362.25,\n",
      "  '2021_Visits': 21,\n",
      "  'Customer_First': 'Cathryn',\n",
      "  'Customer_Last': 'Dickinson',\n",
      "  'Pet_Type': 'cat',\n",
      "  '_id': ObjectId('63c87d702592ed1be8cae6bf')},\n",
      " {'2021_Total_Spend': 379.5,\n",
      "  '2021_Visits': 22,\n",
      "  'Customer_First': 'Jeanetta',\n",
      "  'Customer_Last': 'Bednar',\n",
      "  'Pet_Type': 'dog',\n",
      "  '_id': ObjectId('63c87d702592ed1be8cae5e4')},\n",
      " {'2021_Total_Spend': 396.75,\n",
      "  '2021_Visits': 23,\n",
      "  'Customer_First': 'Paxton',\n",
      "  'Customer_Last': 'Franecki',\n",
      "  'Pet_Type': 'fish',\n",
      "  '_id': ObjectId('63c87d702592ed1be8cae60e')},\n",
      " {'2021_Total_Spend': 414.0,\n",
      "  '2021_Visits': 24,\n",
      "  'Customer_First': 'Corene',\n",
      "  'Customer_Last': 'Effertz',\n",
      "  'Pet_Type': 'dog',\n",
      "  '_id': ObjectId('63c87d702592ed1be8cae6d7')},\n",
      " {'2021_Total_Spend': 431.25,\n",
      "  '2021_Visits': 25,\n",
      "  'Customer_First': 'Arden',\n",
      "  'Customer_Last': 'Becker',\n",
      "  'Pet_Type': 'bird',\n",
      "  '_id': ObjectId('63c87d702592ed1be8cae6ba')}]\n"
     ]
    }
   ],
   "source": [
    "# Create a query that finds customers who spent less than $500 and had more than 20 visits in 2021\n",
    "query = {'2021_Total_Spend': {'$lt': 500},\n",
    "         '2021_Visits': {'$gt': 20}}\n",
    "\n",
    "# Remove the 'Address' and 'Email' fields from the results\n",
    "fields = {'Address': 0, 'Email': 0}\n",
    "\n",
    "# sort in ascending order by '2021_Visits', '2021_Total_Spend'\n",
    "sort = [('2021_Visits', 1), ('2021_Total_Spend', 1)]\n",
    "\n",
    "# limit the results to the first 8\n",
    "limit = 8\n",
    "\n",
    "# Pretty print the results\n",
    "pprint(list(customers.find(query, fields).sort(sort).limit(limit)))"
   ]
  },
  {
   "cell_type": "code",
   "execution_count": null,
   "id": "2e9c75ee",
   "metadata": {},
   "outputs": [],
   "source": []
  }
 ],
 "metadata": {
  "kernelspec": {
   "display_name": "Python 3 (ipykernel)",
   "language": "python",
   "name": "python3"
  },
  "language_info": {
   "codemirror_mode": {
    "name": "ipython",
    "version": 3
   },
   "file_extension": ".py",
   "mimetype": "text/x-python",
   "name": "python",
   "nbconvert_exporter": "python",
   "pygments_lexer": "ipython3",
   "version": "3.9.18"
  }
 },
 "nbformat": 4,
 "nbformat_minor": 5
}
