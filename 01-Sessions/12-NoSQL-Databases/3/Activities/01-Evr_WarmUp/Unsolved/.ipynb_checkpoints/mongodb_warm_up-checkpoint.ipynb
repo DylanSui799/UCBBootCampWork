{
 "cells": [
  {
   "cell_type": "markdown",
   "id": "bb9a7195",
   "metadata": {},
   "source": [
    "Before running any of the following code, make sure you import the dataset with `mongoimport --type json -d met -c artifacts --drop --jsonArray artifacts.json`"
   ]
  },
  {
   "cell_type": "code",
   "execution_count": 2,
   "id": "96d309a3",
   "metadata": {},
   "outputs": [],
   "source": [
    "# Import dependencies\n",
    "from pymongo import MongoClient\n",
    "from pprint import pprint"
   ]
  },
  {
   "cell_type": "code",
   "execution_count": 3,
   "id": "e22557e5",
   "metadata": {},
   "outputs": [],
   "source": [
    "# Create an instance of MongoClient\n",
    "mongo = MongoClient(port=27017)"
   ]
  },
  {
   "cell_type": "code",
   "execution_count": 4,
   "id": "d837ee14",
   "metadata": {},
   "outputs": [
    {
     "name": "stdout",
     "output_type": "stream",
     "text": [
      "['admin', 'classDB', 'config', 'epa', 'fruits_db', 'gardenDB', 'local', 'met', 'petsitly_marketing']\n"
     ]
    }
   ],
   "source": [
    "# confirm that our new database was created\n",
    "print(mongo.list_database_names())"
   ]
  },
  {
   "cell_type": "code",
   "execution_count": 5,
   "id": "17a57bf4",
   "metadata": {},
   "outputs": [],
   "source": [
    "# assign the met database to a variable name\n",
    "db = mongo['met']"
   ]
  },
  {
   "cell_type": "code",
   "execution_count": 5,
   "id": "f68f6011",
   "metadata": {},
   "outputs": [
    {
     "name": "stdout",
     "output_type": "stream",
     "text": [
      "['artifacts']\n"
     ]
    }
   ],
   "source": [
    "# review the collections in our new database\n",
    "print(db.list_collection_names())"
   ]
  },
  {
   "cell_type": "code",
   "execution_count": 6,
   "id": "2be73f8a",
   "metadata": {},
   "outputs": [
    {
     "name": "stdout",
     "output_type": "stream",
     "text": [
      "{'GalleryNumber': '',\n",
      " '_id': ObjectId('65cecbc61325c073abb7f6b8'),\n",
      " 'accessionNumber': '1989.226',\n",
      " 'accessionYear': '1989',\n",
      " 'additionalImages': ['https://images.metmuseum.org/CRDImages/ao/original/VS1989_226.jpg'],\n",
      " 'artistAlphaSort': '',\n",
      " 'artistBeginDate': '',\n",
      " 'artistDisplayBio': '',\n",
      " 'artistDisplayName': '',\n",
      " 'artistEndDate': '',\n",
      " 'artistGender': '',\n",
      " 'artistNationality': '',\n",
      " 'artistPrefix': '',\n",
      " 'artistRole': '',\n",
      " 'artistSuffix': '',\n",
      " 'artistULAN_URL': '',\n",
      " 'artistWikidata_URL': '',\n",
      " 'city': '',\n",
      " 'classification': 'Shell-Ornaments',\n",
      " 'constituents': None,\n",
      " 'country': 'Panama',\n",
      " 'county': '',\n",
      " 'creditLine': 'Rogers Fund, 1989',\n",
      " 'culture': 'International or Initial Style',\n",
      " 'department': 'The Michael C. Rockefeller Wing',\n",
      " 'dimensions': 'H. 4 3/4 × W. 1 1/4 × D. 1/2 in. (12.1 × 3.2 × 1.3 cm)',\n",
      " 'dynasty': '',\n",
      " 'excavation': '',\n",
      " 'geographyType': '',\n",
      " 'isHighlight': False,\n",
      " 'isPublicDomain': True,\n",
      " 'isTimelineWork': False,\n",
      " 'linkResource': '',\n",
      " 'locale': '',\n",
      " 'locus': '',\n",
      " 'measurements': [{'elementDescription': None,\n",
      "                   'elementMeasurements': {'Depth': 1.2700025,\n",
      "                                           'Height': 12.065024,\n",
      "                                           'Width': 3.1750064},\n",
      "                   'elementName': 'Overall'}],\n",
      " 'medium': 'Shell',\n",
      " 'metadataDate': '2020-09-16T18:35:19.457Z',\n",
      " 'objectBeginDate': 400,\n",
      " 'objectDate': '5th–10th century',\n",
      " 'objectEndDate': 1000,\n",
      " 'objectID': 316284,\n",
      " 'objectName': 'Pendant',\n",
      " 'objectURL': 'https://www.metmuseum.org/art/collection/search/316284',\n",
      " 'objectWikidata_URL': '',\n",
      " 'period': '',\n",
      " 'portfolio': '',\n",
      " 'primaryImage': 'https://images.metmuseum.org/CRDImages/ao/original/1989.226.jpg',\n",
      " 'primaryImageSmall': 'https://images.metmuseum.org/CRDImages/ao/web-large/1989.226.jpg',\n",
      " 'region': '',\n",
      " 'reign': '',\n",
      " 'repository': 'Metropolitan Museum of Art, New York, NY',\n",
      " 'rightsAndReproduction': '',\n",
      " 'river': '',\n",
      " 'state': '',\n",
      " 'subregion': '',\n",
      " 'tags': [{'AAT_URL': 'http://vocab.getty.edu/page/aat/300249525',\n",
      "           'Wikidata_URL': 'https://www.wikidata.org/wiki/Q729',\n",
      "           'term': 'Animals'}],\n",
      " 'title': 'Animal Pendant'}\n"
     ]
    }
   ],
   "source": [
    "# review a document in the artifacts collection\n",
    "pprint(db.artifacts.find_one())"
   ]
  },
  {
   "cell_type": "code",
   "execution_count": 7,
   "id": "e8b5d39a",
   "metadata": {},
   "outputs": [],
   "source": [
    "# assign the collection to a variable\n",
    "artifacts = db['artifacts']"
   ]
  },
  {
   "cell_type": "markdown",
   "id": "e2817ac0",
   "metadata": {},
   "source": [
    "## Explore the Collection"
   ]
  },
  {
   "cell_type": "code",
   "execution_count": 9,
   "id": "3ddd3b50",
   "metadata": {},
   "outputs": [
    {
     "data": {
      "text/plain": [
       "6"
      ]
     },
     "execution_count": 9,
     "metadata": {},
     "output_type": "execute_result"
    }
   ],
   "source": [
    "# Find how many documents have culture as \"Nayarit\"\n",
    "Nayarit_documents = artifacts.count_documents({'culture': 'Nayarit'})\n",
    "Nayarit_documents"
   ]
  },
  {
   "cell_type": "code",
   "execution_count": 9,
   "id": "98e6a673",
   "metadata": {},
   "outputs": [
    {
     "data": {
      "text/plain": [
       "490"
      ]
     },
     "execution_count": 9,
     "metadata": {},
     "output_type": "execute_result"
    }
   ],
   "source": [
    "# Find how many documents have a height greater than or equal to 40cm\n",
    "height_greater_40_cm = "
   ]
  },
  {
   "cell_type": "code",
   "execution_count": 10,
   "id": "4fd8c6e3",
   "metadata": {},
   "outputs": [
    {
     "name": "stdout",
     "output_type": "stream",
     "text": [
      "[{'_id': ObjectId('63c885a8435617897adf4e9b'),\n",
      "  'culture': 'Central American Isthmus',\n",
      "  'department': 'The Michael C. Rockefeller Wing',\n",
      "  'measurements': [{'elementDescription': None,\n",
      "                    'elementMeasurements': {'Height': 2.54},\n",
      "                    'elementName': 'Overall'}],\n",
      "  'objectURL': 'https://www.metmuseum.org/art/collection/search/309952',\n",
      "  'title': 'Animal pendant'},\n",
      " {'_id': ObjectId('63c885a8435617897adf521a'),\n",
      "  'culture': 'Nayarit',\n",
      "  'department': 'The Michael C. Rockefeller Wing',\n",
      "  'measurements': [{'elementDescription': None,\n",
      "                    'elementMeasurements': {'Depth': 29.210058,\n",
      "                                            'Height': 24.44755,\n",
      "                                            'Width': 20.955042},\n",
      "                    'elementName': 'Overall'}],\n",
      "  'objectURL': 'https://www.metmuseum.org/art/collection/search/316764',\n",
      "  'title': 'Female Figure Vessel'},\n",
      " {'_id': ObjectId('63c885a8435617897adf52eb'),\n",
      "  'culture': 'Nayarit',\n",
      "  'department': 'The Michael C. Rockefeller Wing',\n",
      "  'measurements': [{'elementDescription': None,\n",
      "                    'elementMeasurements': {'Depth': 17.145035,\n",
      "                                            'Height': 30.48006,\n",
      "                                            'Width': 25.400051},\n",
      "                    'elementName': 'Overall'}],\n",
      "  'objectURL': 'https://www.metmuseum.org/art/collection/search/319227',\n",
      "  'title': 'House Model'},\n",
      " {'_id': ObjectId('63c885a8435617897adf5224'),\n",
      "  'culture': 'Nayarit',\n",
      "  'department': 'The Michael C. Rockefeller Wing',\n",
      "  'measurements': [{'elementDescription': None,\n",
      "                    'elementMeasurements': {'Width': 20.96},\n",
      "                    'elementName': 'Other'},\n",
      "                   {'elementDescription': None,\n",
      "                    'elementMeasurements': {'Height': 23.8125, 'Width': 20.96},\n",
      "                    'elementName': 'Overall'}],\n",
      "  'objectURL': 'https://www.metmuseum.org/art/collection/search/316765',\n",
      "  'title': 'Male Figure Vessel'},\n",
      " {'_id': ObjectId('63c885a8435617897adf5218'),\n",
      "  'culture': 'Nayarit',\n",
      "  'department': 'The Michael C. Rockefeller Wing',\n",
      "  'measurements': [{'elementDescription': None,\n",
      "                    'elementMeasurements': {'Width': 20.96},\n",
      "                    'elementName': 'Other'},\n",
      "                   {'elementDescription': None,\n",
      "                    'elementMeasurements': {'Height': 24.4475, 'Width': 20.96},\n",
      "                    'elementName': 'Overall'}],\n",
      "  'objectURL': 'https://www.metmuseum.org/art/collection/search/698311',\n",
      "  'title': 'Pair of Figure Vessels'}]\n"
     ]
    }
   ],
   "source": [
    "# Create a query that:\n",
    "# Finds the documents where the culture is \"Nayarit\" or \"Central American Isthmus\" and\n",
    "#     the height is less than or equal to 40cm\n",
    "# Returns only the following fields: \"title\", \"department\", \"culture\", \"measurements\", and \"objectURL\"\n",
    "# Sorts alphabetically by \"title\"\n",
    "# Limits the results to 5\n",
    "\n",
    "\n",
    "# Cast the results as a list and save the results to a variable\n",
    "\n",
    "\n",
    "# Pretty print the results\n"
   ]
  },
  {
   "cell_type": "markdown",
   "id": "5ed38811",
   "metadata": {},
   "source": [
    "Data Source: [The Metropolitan Museum of Art](https://www.metmuseum.org/) (2022). The Metropolitan Museum of Art Collection API https://metmuseum.github.io/. Licensed under the [Creative Commons 0 License](https://creativecommons.org/publicdomain/zero/1.0/).<br />\n",
    "Accessed Oct 3, 2022. Data collected from departmentId=5 (\"Arts of Africa, Oceania, and the Americas\") and search string \"animal\"."
   ]
  },
  {
   "cell_type": "code",
   "execution_count": null,
   "id": "cb899bc7",
   "metadata": {},
   "outputs": [],
   "source": []
  }
 ],
 "metadata": {
  "kernelspec": {
   "display_name": "Python 3 (ipykernel)",
   "language": "python",
   "name": "python3"
  },
  "language_info": {
   "codemirror_mode": {
    "name": "ipython",
    "version": 3
   },
   "file_extension": ".py",
   "mimetype": "text/x-python",
   "name": "python",
   "nbconvert_exporter": "python",
   "pygments_lexer": "ipython3",
   "version": "3.9.18"
  }
 },
 "nbformat": 4,
 "nbformat_minor": 5
}
