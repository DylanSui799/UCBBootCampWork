{
 "cells": [
  {
   "cell_type": "code",
   "execution_count": 8,
   "id": "799e9a11",
   "metadata": {},
   "outputs": [],
   "source": [
    "# Import dependencies\n",
    "from pymongo import MongoClient\n",
    "from pprint import pprint\n",
    "import pandas as pd"
   ]
  },
  {
   "cell_type": "code",
   "execution_count": 9,
   "id": "1241a7ee",
   "metadata": {},
   "outputs": [],
   "source": [
    "# Create an instance of MongoClient\n",
    "mongo = MongoClient(port=27017)\n",
    "\n",
    "# assign the met database to a variable name\n",
    "db = mongo['met']\n",
    "\n",
    "# assign the collection to a variable\n",
    "artifacts = db['artifacts']"
   ]
  },
  {
   "cell_type": "code",
   "execution_count": 10,
   "id": "0ee73701",
   "metadata": {},
   "outputs": [],
   "source": [
    "# Write an aggregation query that counts the number of documents, grouped by \"country\"\n",
    "query = [{'$group': {'_id': \"$country\", 'count': { '$sum': 1 }}}]"
   ]
  },
  {
   "cell_type": "code",
   "execution_count": 11,
   "id": "27929407",
   "metadata": {},
   "outputs": [],
   "source": [
    "# Run the query with the aggregate method and save the results to a variable\n",
    "results = list(artifacts.aggregate(query))"
   ]
  },
  {
   "cell_type": "code",
   "execution_count": 12,
   "id": "b012b377",
   "metadata": {},
   "outputs": [
    {
     "name": "stdout",
     "output_type": "stream",
     "text": [
      "Number of countries in result:  80\n"
     ]
    }
   ],
   "source": [
    "# Print the number of countries in the result\n",
    "print(\"Number of countries in result: \", len(results))"
   ]
  },
  {
   "cell_type": "code",
   "execution_count": 13,
   "id": "741062ca",
   "metadata": {},
   "outputs": [
    {
     "name": "stdout",
     "output_type": "stream",
     "text": [
      "[{'_id': 'Zambia', 'count': 1},\n",
      " {'_id': 'Costa Rica', 'count': 20},\n",
      " {'_id': 'Mexico', 'count': 72},\n",
      " {'_id': 'Cameroon', 'count': 24},\n",
      " {'_id': 'Ecuador', 'count': 8},\n",
      " {'_id': 'India', 'count': 3},\n",
      " {'_id': 'Philippines', 'count': 2},\n",
      " {'_id': 'Colombia', 'count': 24},\n",
      " {'_id': 'southwestern Nigeria or Republic of Benin', 'count': 1},\n",
      " {'_id': \"Côte d'Ivoire or Liberia\", 'count': 5}]\n"
     ]
    }
   ],
   "source": [
    "# Print the first 10 results\n",
    "pprint(results[0:10])"
   ]
  },
  {
   "cell_type": "code",
   "execution_count": 14,
   "id": "7c9f17af",
   "metadata": {},
   "outputs": [
    {
     "name": "stdout",
     "output_type": "stream",
     "text": [
      "Rows in DataFrame:  80\n"
     ]
    },
    {
     "data": {
      "text/html": [
       "<div>\n",
       "<style scoped>\n",
       "    .dataframe tbody tr th:only-of-type {\n",
       "        vertical-align: middle;\n",
       "    }\n",
       "\n",
       "    .dataframe tbody tr th {\n",
       "        vertical-align: top;\n",
       "    }\n",
       "\n",
       "    .dataframe thead th {\n",
       "        text-align: right;\n",
       "    }\n",
       "</style>\n",
       "<table border=\"1\" class=\"dataframe\">\n",
       "  <thead>\n",
       "    <tr style=\"text-align: right;\">\n",
       "      <th></th>\n",
       "      <th>_id</th>\n",
       "      <th>count</th>\n",
       "    </tr>\n",
       "  </thead>\n",
       "  <tbody>\n",
       "    <tr>\n",
       "      <th>0</th>\n",
       "      <td>Zambia</td>\n",
       "      <td>1</td>\n",
       "    </tr>\n",
       "    <tr>\n",
       "      <th>1</th>\n",
       "      <td>Costa Rica</td>\n",
       "      <td>20</td>\n",
       "    </tr>\n",
       "    <tr>\n",
       "      <th>2</th>\n",
       "      <td>Mexico</td>\n",
       "      <td>72</td>\n",
       "    </tr>\n",
       "    <tr>\n",
       "      <th>3</th>\n",
       "      <td>Cameroon</td>\n",
       "      <td>24</td>\n",
       "    </tr>\n",
       "    <tr>\n",
       "      <th>4</th>\n",
       "      <td>Ecuador</td>\n",
       "      <td>8</td>\n",
       "    </tr>\n",
       "    <tr>\n",
       "      <th>5</th>\n",
       "      <td>India</td>\n",
       "      <td>3</td>\n",
       "    </tr>\n",
       "    <tr>\n",
       "      <th>6</th>\n",
       "      <td>Philippines</td>\n",
       "      <td>2</td>\n",
       "    </tr>\n",
       "    <tr>\n",
       "      <th>7</th>\n",
       "      <td>Colombia</td>\n",
       "      <td>24</td>\n",
       "    </tr>\n",
       "    <tr>\n",
       "      <th>8</th>\n",
       "      <td>southwestern Nigeria or Republic of Benin</td>\n",
       "      <td>1</td>\n",
       "    </tr>\n",
       "    <tr>\n",
       "      <th>9</th>\n",
       "      <td>Côte d'Ivoire or Liberia</td>\n",
       "      <td>5</td>\n",
       "    </tr>\n",
       "  </tbody>\n",
       "</table>\n",
       "</div>"
      ],
      "text/plain": [
       "                                         _id  count\n",
       "0                                     Zambia      1\n",
       "1                                 Costa Rica     20\n",
       "2                                     Mexico     72\n",
       "3                                   Cameroon     24\n",
       "4                                    Ecuador      8\n",
       "5                                      India      3\n",
       "6                                Philippines      2\n",
       "7                                   Colombia     24\n",
       "8  southwestern Nigeria or Republic of Benin      1\n",
       "9                   Côte d'Ivoire or Liberia      5"
      ]
     },
     "execution_count": 14,
     "metadata": {},
     "output_type": "execute_result"
    }
   ],
   "source": [
    "# Convert mongo result to Pandas DataFrame\n",
    "result_df = pd.DataFrame(results)\n",
    "\n",
    "print(\"Rows in DataFrame: \", len(result_df))\n",
    "result_df.head(10)"
   ]
  },
  {
   "cell_type": "code",
   "execution_count": null,
   "id": "b7c10dfe",
   "metadata": {},
   "outputs": [],
   "source": []
  },
  {
   "cell_type": "markdown",
   "id": "8b367b10",
   "metadata": {},
   "source": [
    "Data Source: [The Metropolitan Museum of Art](https://www.metmuseum.org/) (2022). The Metropolitan Museum of Art Collection API https://metmuseum.github.io/. Licensed under the [Creative Commons 0 License](https://creativecommons.org/publicdomain/zero/1.0/).<br />\n",
    "Accessed Oct 3, 2022. Data collected from departmentId=5 (\"Arts of Africa, Oceania, and the Americas\") and search string \"animal\"."
   ]
  },
  {
   "cell_type": "code",
   "execution_count": null,
   "id": "a40b6978",
   "metadata": {},
   "outputs": [],
   "source": []
  }
 ],
 "metadata": {
  "kernelspec": {
   "display_name": "Python 3 (ipykernel)",
   "language": "python",
   "name": "python3"
  },
  "language_info": {
   "codemirror_mode": {
    "name": "ipython",
    "version": 3
   },
   "file_extension": ".py",
   "mimetype": "text/x-python",
   "name": "python",
   "nbconvert_exporter": "python",
   "pygments_lexer": "ipython3",
   "version": "3.9.18"
  }
 },
 "nbformat": 4,
 "nbformat_minor": 5
}
