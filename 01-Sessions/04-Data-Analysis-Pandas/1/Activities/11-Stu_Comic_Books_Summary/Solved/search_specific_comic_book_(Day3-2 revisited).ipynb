{
 "cells": [
  {
   "cell_type": "code",
   "execution_count": 1,
   "metadata": {},
   "outputs": [],
   "source": [
    "# Import Dependencies\n",
    "import pandas as pd\n",
    "from pathlib import Path\n"
   ]
  },
  {
   "cell_type": "code",
   "execution_count": 2,
   "metadata": {
    "scrolled": true
   },
   "outputs": [
    {
     "data": {
      "text/html": [
       "<div>\n",
       "<style scoped>\n",
       "    .dataframe tbody tr th:only-of-type {\n",
       "        vertical-align: middle;\n",
       "    }\n",
       "\n",
       "    .dataframe tbody tr th {\n",
       "        vertical-align: top;\n",
       "    }\n",
       "\n",
       "    .dataframe thead th {\n",
       "        text-align: right;\n",
       "    }\n",
       "</style>\n",
       "<table border=\"1\" class=\"dataframe\">\n",
       "  <thead>\n",
       "    <tr style=\"text-align: right;\">\n",
       "      <th></th>\n",
       "      <th>ISBN</th>\n",
       "      <th>Title</th>\n",
       "      <th>Other Titles</th>\n",
       "      <th>Author</th>\n",
       "      <th>All Names</th>\n",
       "      <th>Country of Publication</th>\n",
       "      <th>Place of Publication</th>\n",
       "      <th>Publisher</th>\n",
       "      <th>Publication Year</th>\n",
       "    </tr>\n",
       "  </thead>\n",
       "  <tbody>\n",
       "    <tr>\n",
       "      <th>0</th>\n",
       "      <td>9780930193904</td>\n",
       "      <td>#$@&amp;! : the official Lloyd Llewellyn collection</td>\n",
       "      <td>Official Lloyd Llewellyn collection</td>\n",
       "      <td>Clowes, Daniel</td>\n",
       "      <td>Clowes, Daniel [person]</td>\n",
       "      <td>England ; United States of America</td>\n",
       "      <td>London ; Seattle, Washington</td>\n",
       "      <td>Fantagraphics ; Turnaround</td>\n",
       "      <td>1997</td>\n",
       "    </tr>\n",
       "    <tr>\n",
       "      <th>1</th>\n",
       "      <td>9780992664220</td>\n",
       "      <td>#WhatDoYouSee? : a graphic novel anthology of ...</td>\n",
       "      <td>NaN</td>\n",
       "      <td>NaN</td>\n",
       "      <td>Fulfilling Lives (Programme) [organisation]</td>\n",
       "      <td>England</td>\n",
       "      <td>Newcastle upon Tyne</td>\n",
       "      <td>Roots &amp; Wings</td>\n",
       "      <td>2018</td>\n",
       "    </tr>\n",
       "    <tr>\n",
       "      <th>2</th>\n",
       "      <td>9781302903299</td>\n",
       "      <td>#takebacktheshield</td>\n",
       "      <td>NaN</td>\n",
       "      <td>Spencer, Nick</td>\n",
       "      <td>Spencer, Nick, author [person]</td>\n",
       "      <td>United States of America</td>\n",
       "      <td>New York</td>\n",
       "      <td>Marvel Worldwide</td>\n",
       "      <td>2017</td>\n",
       "    </tr>\n",
       "  </tbody>\n",
       "</table>\n",
       "</div>"
      ],
      "text/plain": [
       "            ISBN                                              Title  \\\n",
       "0  9780930193904    #$@&! : the official Lloyd Llewellyn collection   \n",
       "1  9780992664220  #WhatDoYouSee? : a graphic novel anthology of ...   \n",
       "2  9781302903299                                 #takebacktheshield   \n",
       "\n",
       "                          Other Titles          Author  \\\n",
       "0  Official Lloyd Llewellyn collection  Clowes, Daniel   \n",
       "1                                  NaN             NaN   \n",
       "2                                  NaN   Spencer, Nick   \n",
       "\n",
       "                                     All Names  \\\n",
       "0                      Clowes, Daniel [person]   \n",
       "1  Fulfilling Lives (Programme) [organisation]   \n",
       "2               Spencer, Nick, author [person]   \n",
       "\n",
       "               Country of Publication          Place of Publication  \\\n",
       "0  England ; United States of America  London ; Seattle, Washington   \n",
       "1                             England           Newcastle upon Tyne   \n",
       "2            United States of America                      New York   \n",
       "\n",
       "                    Publisher  Publication Year  \n",
       "0  Fantagraphics ; Turnaround              1997  \n",
       "1               Roots & Wings              2018  \n",
       "2            Marvel Worldwide              2017  "
      ]
     },
     "execution_count": 2,
     "metadata": {},
     "output_type": "execute_result"
    }
   ],
   "source": [
    "# File to Load\n",
    "comics_path = Path(\"Resources/books_clean.csv\")\n",
    "\n",
    "# Read the modified Comic Books csv and store into Pandas DataFrame\n",
    "comics_df = pd.read_csv(comics_path, encoding=\"utf-8\")\n",
    "comics_df.head(3)\n"
   ]
  },
  {
   "cell_type": "code",
   "execution_count": 3,
   "metadata": {},
   "outputs": [],
   "source": [
    "# Prompt user for title lookup\n",
    "book = input(\"What title are you looking for? \")\n"
   ]
  },
  {
   "cell_type": "code",
   "execution_count": 4,
   "metadata": {},
   "outputs": [
    {
     "name": "stdout",
     "output_type": "stream",
     "text": [
      "Batman\n"
     ]
    }
   ],
   "source": [
    "print (book)\n"
   ]
  },
  {
   "cell_type": "code",
   "execution_count": 5,
   "metadata": {},
   "outputs": [
    {
     "name": "stdout",
     "output_type": "stream",
     "text": [
      "Batman was published by Titan in 2001\n",
      "Found at row 2765\n"
     ]
    }
   ],
   "source": [
    "# Search for the book\n",
    "result = comics_df[comics_df.iloc[:, 1] == book]\n",
    "\n",
    "# Check if the book is found\n",
    "if len(result) != 0:\n",
    "    row = result.iloc[0]\n",
    "    print(f\"{row.iloc[1]} was published by {row.iloc[7]} in {row.iloc[8]}\")\n",
    "    print(f\"Found at row {result.index[0] + 1}\")\n",
    "else:\n",
    "    print(f\"Sorry about this, we have no book with the exact tile '{book}' in our library!\")\n"
   ]
  }
 ],
 "metadata": {
  "kernelspec": {
   "display_name": "Python 3 (ipykernel)",
   "language": "python",
   "name": "python3"
  },
  "language_info": {
   "codemirror_mode": {
    "name": "ipython",
    "version": 3
   },
   "file_extension": ".py",
   "mimetype": "text/x-python",
   "name": "python",
   "nbconvert_exporter": "python",
   "pygments_lexer": "ipython3",
   "version": "3.10.13"
  }
 },
 "nbformat": 4,
 "nbformat_minor": 4
}
