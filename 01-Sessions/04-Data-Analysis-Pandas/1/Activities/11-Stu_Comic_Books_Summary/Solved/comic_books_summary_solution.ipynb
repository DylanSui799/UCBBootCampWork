{
 "cells": [
  {
   "cell_type": "code",
   "execution_count": 1,
   "metadata": {},
   "outputs": [],
   "source": [
    "# Import Dependencies\n",
    "import pandas as pd\n",
    "from pathlib import Path"
   ]
  },
  {
   "cell_type": "code",
   "execution_count": 2,
   "metadata": {
    "scrolled": true
   },
   "outputs": [
    {
     "data": {
      "text/html": [
       "<div>\n",
       "<style scoped>\n",
       "    .dataframe tbody tr th:only-of-type {\n",
       "        vertical-align: middle;\n",
       "    }\n",
       "\n",
       "    .dataframe tbody tr th {\n",
       "        vertical-align: top;\n",
       "    }\n",
       "\n",
       "    .dataframe thead th {\n",
       "        text-align: right;\n",
       "    }\n",
       "</style>\n",
       "<table border=\"1\" class=\"dataframe\">\n",
       "  <thead>\n",
       "    <tr style=\"text-align: right;\">\n",
       "      <th></th>\n",
       "      <th>ISBN</th>\n",
       "      <th>Title</th>\n",
       "      <th>Other Titles</th>\n",
       "      <th>Author</th>\n",
       "      <th>All Names</th>\n",
       "      <th>Country of Publication</th>\n",
       "      <th>Place of Publication</th>\n",
       "      <th>Publisher</th>\n",
       "      <th>Publication Year</th>\n",
       "    </tr>\n",
       "  </thead>\n",
       "  <tbody>\n",
       "    <tr>\n",
       "      <th>0</th>\n",
       "      <td>9780930193904</td>\n",
       "      <td>#$@&amp;! : the official Lloyd Llewellyn collection</td>\n",
       "      <td>Official Lloyd Llewellyn collection</td>\n",
       "      <td>Clowes, Daniel</td>\n",
       "      <td>Clowes, Daniel [person]</td>\n",
       "      <td>England ; United States of America</td>\n",
       "      <td>London ; Seattle, Washington</td>\n",
       "      <td>Fantagraphics ; Turnaround</td>\n",
       "      <td>1997</td>\n",
       "    </tr>\n",
       "    <tr>\n",
       "      <th>1</th>\n",
       "      <td>9780992664220</td>\n",
       "      <td>#WhatDoYouSee? : a graphic novel anthology of ...</td>\n",
       "      <td>NaN</td>\n",
       "      <td>NaN</td>\n",
       "      <td>Fulfilling Lives (Programme) [organisation]</td>\n",
       "      <td>England</td>\n",
       "      <td>Newcastle upon Tyne</td>\n",
       "      <td>Roots &amp; Wings</td>\n",
       "      <td>2018</td>\n",
       "    </tr>\n",
       "    <tr>\n",
       "      <th>2</th>\n",
       "      <td>9781302903299</td>\n",
       "      <td>#takebacktheshield</td>\n",
       "      <td>NaN</td>\n",
       "      <td>Spencer, Nick</td>\n",
       "      <td>Spencer, Nick, author [person]</td>\n",
       "      <td>United States of America</td>\n",
       "      <td>New York</td>\n",
       "      <td>Marvel Worldwide</td>\n",
       "      <td>2017</td>\n",
       "    </tr>\n",
       "    <tr>\n",
       "      <th>3</th>\n",
       "      <td>9781607065166</td>\n",
       "      <td>'68. Volume 1. Better run through the jungle</td>\n",
       "      <td>Better run through the jungle</td>\n",
       "      <td>Kidwell, Mark</td>\n",
       "      <td>Fotos, Jay [person] ; Jones, Nat, 1976- [perso...</td>\n",
       "      <td>United States of America</td>\n",
       "      <td>Berkeley, California</td>\n",
       "      <td>Image Comics</td>\n",
       "      <td>2012</td>\n",
       "    </tr>\n",
       "    <tr>\n",
       "      <th>4</th>\n",
       "      <td>9781600107672</td>\n",
       "      <td>'Bots of science</td>\n",
       "      <td>Trans formers ; Trans formers animated : bots ...</td>\n",
       "      <td>Bryant, Megan E.</td>\n",
       "      <td>Robbins, Robbie [person] ; Boo, 1981- [person]...</td>\n",
       "      <td>United States of America</td>\n",
       "      <td>San Diego, California</td>\n",
       "      <td>NaN</td>\n",
       "      <td>2010</td>\n",
       "    </tr>\n",
       "  </tbody>\n",
       "</table>\n",
       "</div>"
      ],
      "text/plain": [
       "            ISBN                                              Title  \\\n",
       "0  9780930193904    #$@&! : the official Lloyd Llewellyn collection   \n",
       "1  9780992664220  #WhatDoYouSee? : a graphic novel anthology of ...   \n",
       "2  9781302903299                                 #takebacktheshield   \n",
       "3  9781607065166       '68. Volume 1. Better run through the jungle   \n",
       "4  9781600107672                                   'Bots of science   \n",
       "\n",
       "                                        Other Titles            Author  \\\n",
       "0                Official Lloyd Llewellyn collection    Clowes, Daniel   \n",
       "1                                                NaN               NaN   \n",
       "2                                                NaN     Spencer, Nick   \n",
       "3                      Better run through the jungle     Kidwell, Mark   \n",
       "4  Trans formers ; Trans formers animated : bots ...  Bryant, Megan E.   \n",
       "\n",
       "                                           All Names  \\\n",
       "0                            Clowes, Daniel [person]   \n",
       "1        Fulfilling Lives (Programme) [organisation]   \n",
       "2                     Spencer, Nick, author [person]   \n",
       "3  Fotos, Jay [person] ; Jones, Nat, 1976- [perso...   \n",
       "4  Robbins, Robbie [person] ; Boo, 1981- [person]...   \n",
       "\n",
       "               Country of Publication          Place of Publication  \\\n",
       "0  England ; United States of America  London ; Seattle, Washington   \n",
       "1                             England           Newcastle upon Tyne   \n",
       "2            United States of America                      New York   \n",
       "3            United States of America          Berkeley, California   \n",
       "4            United States of America         San Diego, California   \n",
       "\n",
       "                    Publisher  Publication Year  \n",
       "0  Fantagraphics ; Turnaround              1997  \n",
       "1               Roots & Wings              2018  \n",
       "2            Marvel Worldwide              2017  \n",
       "3                Image Comics              2012  \n",
       "4                         NaN              2010  "
      ]
     },
     "execution_count": 2,
     "metadata": {},
     "output_type": "execute_result"
    }
   ],
   "source": [
    "# File to Load\n",
    "comics_path = Path(\"Resources/books_clean.csv\")\n",
    "\n",
    "# Read the modified Comic Books csv and store into Pandas DataFrame\n",
    "comics_df = pd.read_csv(comics_path)\n",
    "comics_df.head()"
   ]
  },
  {
   "cell_type": "code",
   "execution_count": 10,
   "metadata": {},
   "outputs": [
    {
     "name": "stdout",
     "output_type": "stream",
     "text": [
      "<class 'pandas.core.frame.DataFrame'>\n",
      "RangeIndex: 28692 entries, 0 to 28691\n",
      "Data columns (total 9 columns):\n",
      " #   Column                  Non-Null Count  Dtype \n",
      "---  ------                  --------------  ----- \n",
      " 0   ISBN                    28187 non-null  object\n",
      " 1   Title                   28692 non-null  object\n",
      " 2   Other Titles            12523 non-null  object\n",
      " 3   Author                  25518 non-null  object\n",
      " 4   All Names               27911 non-null  object\n",
      " 5   Country of Publication  28680 non-null  object\n",
      " 6   Place of Publication    28558 non-null  object\n",
      " 7   Publisher               26528 non-null  object\n",
      " 8   Publication Year        28692 non-null  int64 \n",
      "dtypes: int64(1), object(8)\n",
      "memory usage: 2.0+ MB\n"
     ]
    }
   ],
   "source": [
    "comics_df.info()"
   ]
  },
  {
   "cell_type": "code",
   "execution_count": 8,
   "metadata": {},
   "outputs": [
    {
     "data": {
      "text/plain": [
       "Author\n",
       "Bendis, Brian Michael                  364\n",
       "Lee, Stan                              308\n",
       "Goscinny                               300\n",
       "Ennis, Garth                           235\n",
       "Aaron, Jason                           197\n",
       "Davis, Jim                             192\n",
       "Schulz, Charles M. (Charles Monroe)    185\n",
       "Johns, Geoff                           183\n",
       "Claremont, Chris                       173\n",
       "Morrison, Grant                        171\n",
       "Name: count, dtype: int64"
      ]
     },
     "execution_count": 8,
     "metadata": {},
     "output_type": "execute_result"
    }
   ],
   "source": [
    "author_count = comics_df[\"Author\"].value_counts().head(10)\n",
    "author_count"
   ]
  },
  {
   "cell_type": "code",
   "execution_count": 25,
   "metadata": {},
   "outputs": [
    {
     "data": {
      "text/plain": [
       "Country of Publication\n",
       "United States of America                     16423\n",
       "England                                       6465\n",
       "England ; United States of America            4498\n",
       "Canada                                         349\n",
       "Scotland                                       186\n",
       "Wales                                          120\n",
       "England ; United Kingdom                       116\n",
       "Canada ; England                                65\n",
       "India                                           64\n",
       "Germany                                         55\n",
       "England ; India                                 42\n",
       "Ireland                                         34\n",
       "United Kingdom ; United States of America       30\n",
       "United Kingdom                                  24\n",
       "England ; Germany                               18\n",
       "Name: count, dtype: int64"
      ]
     },
     "execution_count": 25,
     "metadata": {},
     "output_type": "execute_result"
    }
   ],
   "source": [
    "country_count = comics_df[\"Country of Publication\"].value_counts().head(15)\n",
    "country_count"
   ]
  },
  {
   "cell_type": "code",
   "execution_count": 24,
   "metadata": {},
   "outputs": [
    {
     "data": {
      "text/plain": [
       "array(['England ; United States of America', 'England',\n",
       "       'United States of America', 'Canada', 'England ; India',\n",
       "       'United Kingdom', 'Canada ; England', 'Norway', 'Wales', nan,\n",
       "       'Scotland', 'England ; United Kingdom', 'Spain', 'England ; Wales',\n",
       "       'England ; Spain', 'India',\n",
       "       'England ; United Kingdom ; United States of America',\n",
       "       'England ; Scotland', 'France',\n",
       "       'United Kingdom ; United States of America', 'Australia',\n",
       "       'Ireland', 'Korea (South)', 'Germany',\n",
       "       'Scotland ; United States of America', 'Australia ; Wales',\n",
       "       'England ; Germany', 'Denmark', 'South Africa',\n",
       "       'Canada ; United Kingdom', 'Japan', 'England ; Slovenia',\n",
       "       'Canada ; United States of America', 'Uruguay',\n",
       "       'Germany ; United Kingdom', 'Spain ; United Kingdom',\n",
       "       'Switzerland', 'England ; Japan', 'England ; Korea (South)',\n",
       "       'England ; Ireland', 'France ; United States of America',\n",
       "       'New Zealand', 'Nigeria', 'Netherlands', 'Slovenia', 'China',\n",
       "       'Finland', 'Israel', 'Singapore', 'Montenegro',\n",
       "       'Lebanon ; United States of America', 'Lebanon', 'Malaysia',\n",
       "       'Scotland ; United Kingdom', 'Luxembourg', 'Algeria',\n",
       "       'England ; New Zealand', 'Italy', 'Belgium', 'China ; England',\n",
       "       'Australia ; England ; Wales', 'England ; South Africa'],\n",
       "      dtype=object)"
      ]
     },
     "execution_count": 24,
     "metadata": {},
     "output_type": "execute_result"
    }
   ],
   "source": [
    "comics_df[\"Country of Publication\"].unique()"
   ]
  },
  {
   "cell_type": "code",
   "execution_count": 9,
   "metadata": {},
   "outputs": [
    {
     "name": "stdout",
     "output_type": "stream",
     "text": [
      "4249\n",
      "62\n"
     ]
    }
   ],
   "source": [
    "# Calculate the number of unique authors in the DataFrame\n",
    "author_count = len(comics_df[\"Author\"].unique())\n",
    "\n",
    "# Calculate the number of unique publication countries in the DataFrame\n",
    "country_count = len(comics_df[\"Country of Publication\"].unique())\n",
    "\n",
    "# Print the number of unique authors and countries. \n",
    "print(author_count)\n",
    "print(country_count)"
   ]
  },
  {
   "cell_type": "code",
   "execution_count": 18,
   "metadata": {},
   "outputs": [
    {
     "name": "stdout",
     "output_type": "stream",
     "text": [
      "1941\n",
      "2021\n"
     ]
    }
   ],
   "source": [
    "# Calculate the earliest/latest year a book was published\n",
    "earliest_year = comics_df[\"Publication Year\"].min()\n",
    "latest_year = comics_df[\"Publication Year\"].max()\n",
    "\n",
    "# Print the earliest and latest year of publication.\n",
    "print(earliest_year)\n",
    "print(latest_year)"
   ]
  },
  {
   "cell_type": "code",
   "execution_count": 19,
   "metadata": {},
   "outputs": [],
   "source": [
    "summary_df=pd.DataFrame()"
   ]
  },
  {
   "cell_type": "code",
   "execution_count": 21,
   "metadata": {},
   "outputs": [
    {
     "data": {
      "text/html": [
       "<div>\n",
       "<style scoped>\n",
       "    .dataframe tbody tr th:only-of-type {\n",
       "        vertical-align: middle;\n",
       "    }\n",
       "\n",
       "    .dataframe tbody tr th {\n",
       "        vertical-align: top;\n",
       "    }\n",
       "\n",
       "    .dataframe thead th {\n",
       "        text-align: right;\n",
       "    }\n",
       "</style>\n",
       "<table border=\"1\" class=\"dataframe\">\n",
       "  <thead>\n",
       "    <tr style=\"text-align: right;\">\n",
       "      <th></th>\n",
       "      <th>Total Unique Authors</th>\n",
       "      <th>Total Unique Publication Countries</th>\n",
       "      <th>Earliest Year</th>\n",
       "      <th>Latest Year</th>\n",
       "    </tr>\n",
       "  </thead>\n",
       "  <tbody>\n",
       "    <tr>\n",
       "      <th>0</th>\n",
       "      <td>4249</td>\n",
       "      <td>62</td>\n",
       "      <td>1941</td>\n",
       "      <td>2021</td>\n",
       "    </tr>\n",
       "  </tbody>\n",
       "</table>\n",
       "</div>"
      ],
      "text/plain": [
       "   Total Unique Authors  Total Unique Publication Countries  Earliest Year  \\\n",
       "0                  4249                                  62           1941   \n",
       "\n",
       "   Latest Year  \n",
       "0         2021  "
      ]
     },
     "execution_count": 21,
     "metadata": {},
     "output_type": "execute_result"
    }
   ],
   "source": [
    "# Place all of the data found into a summary DataFrame\n",
    "summary_df = pd.DataFrame({\"Total Unique Authors\": [author_count],\n",
    "                              \"Total Unique Publication Countries\": country_count,\n",
    "                              \"Earliest Year\": earliest_year,\n",
    "                              \"Latest Year\": latest_year})\n",
    "summary_df"
   ]
  },
  {
   "cell_type": "code",
   "execution_count": 13,
   "metadata": {},
   "outputs": [],
   "source": [
    "summary_df.to_csv(\"export.txt\")"
   ]
  },
  {
   "cell_type": "code",
   "execution_count": null,
   "metadata": {},
   "outputs": [],
   "source": []
  }
 ],
 "metadata": {
  "kernelspec": {
   "display_name": "Python 3 (ipykernel)",
   "language": "python",
   "name": "python3"
  },
  "language_info": {
   "codemirror_mode": {
    "name": "ipython",
    "version": 3
   },
   "file_extension": ".py",
   "mimetype": "text/x-python",
   "name": "python",
   "nbconvert_exporter": "python",
   "pygments_lexer": "ipython3",
   "version": "3.10.13"
  }
 },
 "nbformat": 4,
 "nbformat_minor": 4
}
