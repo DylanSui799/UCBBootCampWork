{
 "cells": [
  {
   "cell_type": "code",
   "execution_count": 1,
   "metadata": {},
   "outputs": [],
   "source": [
    "# Dependencies\n",
    "import pandas as pd\n",
    "from pathlib import Path"
   ]
  },
  {
   "cell_type": "code",
   "execution_count": 2,
   "metadata": {},
   "outputs": [],
   "source": [
    "# Save path to the data set as a variable.\n",
    "data_file = Path(\"Resources/car_purchases.csv\")"
   ]
  },
  {
   "cell_type": "code",
   "execution_count": 3,
   "metadata": {},
   "outputs": [],
   "source": [
    "# Use Pandas to the read data.\n",
    "data_file_df = pd.read_csv(data_file)\n"
   ]
  },
  {
   "cell_type": "code",
   "execution_count": 5,
   "metadata": {},
   "outputs": [],
   "source": [
    "df = data_file_df"
   ]
  },
  {
   "cell_type": "code",
   "execution_count": 7,
   "metadata": {},
   "outputs": [
    {
     "data": {
      "text/html": [
       "<div>\n",
       "<style scoped>\n",
       "    .dataframe tbody tr th:only-of-type {\n",
       "        vertical-align: middle;\n",
       "    }\n",
       "\n",
       "    .dataframe tbody tr th {\n",
       "        vertical-align: top;\n",
       "    }\n",
       "\n",
       "    .dataframe thead th {\n",
       "        text-align: right;\n",
       "    }\n",
       "</style>\n",
       "<table border=\"1\" class=\"dataframe\">\n",
       "  <thead>\n",
       "    <tr style=\"text-align: right;\">\n",
       "      <th></th>\n",
       "      <th>id</th>\n",
       "      <th>Full Name</th>\n",
       "      <th>Gender</th>\n",
       "      <th>Amount</th>\n",
       "      <th>Car</th>\n",
       "    </tr>\n",
       "  </thead>\n",
       "  <tbody>\n",
       "    <tr>\n",
       "      <th>0</th>\n",
       "      <td>1</td>\n",
       "      <td>Minnnie Rean</td>\n",
       "      <td>male</td>\n",
       "      <td>15484.5</td>\n",
       "      <td>Jeep</td>\n",
       "    </tr>\n",
       "    <tr>\n",
       "      <th>1</th>\n",
       "      <td>2</td>\n",
       "      <td>Ursa Torricella</td>\n",
       "      <td>female</td>\n",
       "      <td>13443.3</td>\n",
       "      <td>Saturn</td>\n",
       "    </tr>\n",
       "    <tr>\n",
       "      <th>2</th>\n",
       "      <td>3</td>\n",
       "      <td>Joyann Pirolini</td>\n",
       "      <td>male</td>\n",
       "      <td>9095.6</td>\n",
       "      <td>Ram</td>\n",
       "    </tr>\n",
       "    <tr>\n",
       "      <th>3</th>\n",
       "      <td>4</td>\n",
       "      <td>Sharl Ridsdell</td>\n",
       "      <td>female</td>\n",
       "      <td>11871.6</td>\n",
       "      <td>Dodge</td>\n",
       "    </tr>\n",
       "    <tr>\n",
       "      <th>4</th>\n",
       "      <td>5</td>\n",
       "      <td>Laurence Jovasevic</td>\n",
       "      <td>male</td>\n",
       "      <td>13459.8</td>\n",
       "      <td>Chrysler</td>\n",
       "    </tr>\n",
       "    <tr>\n",
       "      <th>...</th>\n",
       "      <td>...</td>\n",
       "      <td>...</td>\n",
       "      <td>...</td>\n",
       "      <td>...</td>\n",
       "      <td>...</td>\n",
       "    </tr>\n",
       "    <tr>\n",
       "      <th>995</th>\n",
       "      <td>996</td>\n",
       "      <td>Almire Stickins</td>\n",
       "      <td>male</td>\n",
       "      <td>9795.0</td>\n",
       "      <td>Infiniti</td>\n",
       "    </tr>\n",
       "    <tr>\n",
       "      <th>996</th>\n",
       "      <td>997</td>\n",
       "      <td>Taite Pocknell</td>\n",
       "      <td>female</td>\n",
       "      <td>19485.4</td>\n",
       "      <td>BMW</td>\n",
       "    </tr>\n",
       "    <tr>\n",
       "      <th>997</th>\n",
       "      <td>998</td>\n",
       "      <td>Roselin Bartlomiejczyk</td>\n",
       "      <td>female</td>\n",
       "      <td>19330.8</td>\n",
       "      <td>Mazda</td>\n",
       "    </tr>\n",
       "    <tr>\n",
       "      <th>998</th>\n",
       "      <td>999</td>\n",
       "      <td>Amandi Wenban</td>\n",
       "      <td>female</td>\n",
       "      <td>16113.7</td>\n",
       "      <td>Lincoln</td>\n",
       "    </tr>\n",
       "    <tr>\n",
       "      <th>999</th>\n",
       "      <td>1000</td>\n",
       "      <td>Meta Abramovici</td>\n",
       "      <td>male</td>\n",
       "      <td>7637.8</td>\n",
       "      <td>Plymouth</td>\n",
       "    </tr>\n",
       "  </tbody>\n",
       "</table>\n",
       "<p>1000 rows × 5 columns</p>\n",
       "</div>"
      ],
      "text/plain": [
       "       id               Full Name  Gender   Amount       Car\n",
       "0       1            Minnnie Rean    male  15484.5      Jeep\n",
       "1       2         Ursa Torricella  female  13443.3    Saturn\n",
       "2       3         Joyann Pirolini    male   9095.6       Ram\n",
       "3       4          Sharl Ridsdell  female  11871.6     Dodge\n",
       "4       5      Laurence Jovasevic    male  13459.8  Chrysler\n",
       "..    ...                     ...     ...      ...       ...\n",
       "995   996         Almire Stickins    male   9795.0  Infiniti\n",
       "996   997          Taite Pocknell  female  19485.4       BMW\n",
       "997   998  Roselin Bartlomiejczyk  female  19330.8     Mazda\n",
       "998   999           Amandi Wenban  female  16113.7   Lincoln\n",
       "999  1000         Meta Abramovici    male   7637.8  Plymouth\n",
       "\n",
       "[1000 rows x 5 columns]"
      ]
     },
     "execution_count": 7,
     "metadata": {},
     "output_type": "execute_result"
    }
   ],
   "source": [
    "df"
   ]
  },
  {
   "cell_type": "code",
   "execution_count": 10,
   "metadata": {
    "inputHidden": false,
    "outputHidden": false
   },
   "outputs": [
    {
     "data": {
      "text/plain": [
       "count     1000.000000\n",
       "mean      9988.738100\n",
       "std       5783.375372\n",
       "min         15.300000\n",
       "25%       5043.150000\n",
       "50%       9899.500000\n",
       "75%      15044.225000\n",
       "max      19927.900000\n",
       "Name: Amount, dtype: float64"
      ]
     },
     "execution_count": 10,
     "metadata": {},
     "output_type": "execute_result"
    }
   ],
   "source": [
    "# Display a statistical overview of the DataFrame.\n",
    "df.Amount.describe()"
   ]
  },
  {
   "cell_type": "code",
   "execution_count": 9,
   "metadata": {},
   "outputs": [
    {
     "name": "stdout",
     "output_type": "stream",
     "text": [
      "<class 'pandas.core.frame.DataFrame'>\n",
      "RangeIndex: 1000 entries, 0 to 999\n",
      "Data columns (total 5 columns):\n",
      " #   Column     Non-Null Count  Dtype  \n",
      "---  ------     --------------  -----  \n",
      " 0   id         1000 non-null   int64  \n",
      " 1   Full Name  1000 non-null   object \n",
      " 2   Gender     1000 non-null   object \n",
      " 3   Amount     1000 non-null   float64\n",
      " 4   Car        1000 non-null   object \n",
      "dtypes: float64(1), int64(1), object(3)\n",
      "memory usage: 39.2+ KB\n"
     ]
    }
   ],
   "source": [
    "df.info()"
   ]
  },
  {
   "cell_type": "code",
   "execution_count": 16,
   "metadata": {},
   "outputs": [
    {
     "data": {
      "text/plain": [
       "Car\n",
       "Ford             93\n",
       "Chevrolet        68\n",
       "Dodge            50\n",
       "Toyota           47\n",
       "BMW              44\n",
       "Mercedes-Benz    40\n",
       "GMC              40\n",
       "Mazda            39\n",
       "Volkswagen       36\n",
       "Pontiac          34\n",
       "Name: count, dtype: int64"
      ]
     },
     "execution_count": 16,
     "metadata": {},
     "output_type": "execute_result"
    }
   ],
   "source": [
    "df.Car.value_counts().head(10)"
   ]
  },
  {
   "cell_type": "code",
   "execution_count": 17,
   "metadata": {},
   "outputs": [
    {
     "data": {
      "text/plain": [
       "0    15484.5\n",
       "1    13443.3\n",
       "2     9095.6\n",
       "3    11871.6\n",
       "4    13459.8\n",
       "Name: Amount, dtype: float64"
      ]
     },
     "execution_count": 17,
     "metadata": {},
     "output_type": "execute_result"
    }
   ],
   "source": [
    "# Reference a single column within a DataFrame.\n",
    "df[\"Amount\"].head()"
   ]
  },
  {
   "cell_type": "code",
   "execution_count": 19,
   "metadata": {},
   "outputs": [
    {
     "data": {
      "text/html": [
       "<div>\n",
       "<style scoped>\n",
       "    .dataframe tbody tr th:only-of-type {\n",
       "        vertical-align: middle;\n",
       "    }\n",
       "\n",
       "    .dataframe tbody tr th {\n",
       "        vertical-align: top;\n",
       "    }\n",
       "\n",
       "    .dataframe thead th {\n",
       "        text-align: right;\n",
       "    }\n",
       "</style>\n",
       "<table border=\"1\" class=\"dataframe\">\n",
       "  <thead>\n",
       "    <tr style=\"text-align: right;\">\n",
       "      <th></th>\n",
       "      <th>Amount</th>\n",
       "      <th>Gender</th>\n",
       "      <th>Car</th>\n",
       "    </tr>\n",
       "  </thead>\n",
       "  <tbody>\n",
       "    <tr>\n",
       "      <th>0</th>\n",
       "      <td>15484.5</td>\n",
       "      <td>male</td>\n",
       "      <td>Jeep</td>\n",
       "    </tr>\n",
       "    <tr>\n",
       "      <th>1</th>\n",
       "      <td>13443.3</td>\n",
       "      <td>female</td>\n",
       "      <td>Saturn</td>\n",
       "    </tr>\n",
       "    <tr>\n",
       "      <th>2</th>\n",
       "      <td>9095.6</td>\n",
       "      <td>male</td>\n",
       "      <td>Ram</td>\n",
       "    </tr>\n",
       "    <tr>\n",
       "      <th>3</th>\n",
       "      <td>11871.6</td>\n",
       "      <td>female</td>\n",
       "      <td>Dodge</td>\n",
       "    </tr>\n",
       "    <tr>\n",
       "      <th>4</th>\n",
       "      <td>13459.8</td>\n",
       "      <td>male</td>\n",
       "      <td>Chrysler</td>\n",
       "    </tr>\n",
       "  </tbody>\n",
       "</table>\n",
       "</div>"
      ],
      "text/plain": [
       "    Amount  Gender       Car\n",
       "0  15484.5    male      Jeep\n",
       "1  13443.3  female    Saturn\n",
       "2   9095.6    male       Ram\n",
       "3  11871.6  female     Dodge\n",
       "4  13459.8    male  Chrysler"
      ]
     },
     "execution_count": 19,
     "metadata": {},
     "output_type": "execute_result"
    }
   ],
   "source": [
    "# Reference multiple columns within a DataFrame.\n",
    "condensed_df = df[[\"Amount\", \"Gender\",'Car']].head()\n",
    "condensed_df"
   ]
  },
  {
   "cell_type": "code",
   "execution_count": 20,
   "metadata": {},
   "outputs": [
    {
     "name": "stdout",
     "output_type": "stream",
     "text": [
      "<class 'pandas.core.frame.DataFrame'>\n",
      "RangeIndex: 5 entries, 0 to 4\n",
      "Data columns (total 3 columns):\n",
      " #   Column  Non-Null Count  Dtype  \n",
      "---  ------  --------------  -----  \n",
      " 0   Amount  5 non-null      float64\n",
      " 1   Gender  5 non-null      object \n",
      " 2   Car     5 non-null      object \n",
      "dtypes: float64(1), object(2)\n",
      "memory usage: 248.0+ bytes\n"
     ]
    }
   ],
   "source": [
    "condensed_df.info()"
   ]
  },
  {
   "cell_type": "code",
   "execution_count": 21,
   "metadata": {},
   "outputs": [
    {
     "data": {
      "text/plain": [
       "9988.738100000002"
      ]
     },
     "execution_count": 21,
     "metadata": {},
     "output_type": "execute_result"
    }
   ],
   "source": [
    "# The mean method averages the series\n",
    "average = data_file_df[\"Amount\"].mean()\n",
    "average"
   ]
  },
  {
   "cell_type": "code",
   "execution_count": 22,
   "metadata": {},
   "outputs": [
    {
     "data": {
      "text/plain": [
       "9988738.100000001"
      ]
     },
     "execution_count": 22,
     "metadata": {},
     "output_type": "execute_result"
    }
   ],
   "source": [
    "# The sum method adds every entry in the series\n",
    "total = data_file_df[\"Amount\"].sum()\n",
    "total"
   ]
  },
  {
   "cell_type": "code",
   "execution_count": 23,
   "metadata": {},
   "outputs": [
    {
     "data": {
      "text/plain": [
       "array(['Jeep', 'Saturn', 'Ram', 'Dodge', 'Chrysler', 'Cadillac',\n",
       "       'Pontiac', 'Nissan', 'Lexus', 'Volkswagen', 'Suzuki', 'Kia',\n",
       "       'Mercury', 'Audi', 'Bugatti', 'BMW', 'Mazda', 'GMC', 'Ford',\n",
       "       'Mercedes-Benz', 'Land Rover', 'Chevrolet', 'Toyota', 'Honda',\n",
       "       'Subaru', 'Oldsmobile', 'MINI', 'Lincoln', 'Mitsubishi', 'Isuzu',\n",
       "       'Infiniti', 'Eagle', 'Saab', 'Buick', 'Volvo', 'Lotus', 'Maserati',\n",
       "       'Jensen', 'Hyundai', 'Maybach', 'Corbin', 'Acura', 'Ferrari',\n",
       "       'Plymouth', 'Studebaker', 'Jaguar', 'Rolls-Royce', 'Aston Martin',\n",
       "       'Merkur', 'Citroën', 'Daewoo', 'Tesla', 'Porsche', 'Scion', 'Geo',\n",
       "       'Hummer', 'Lamborghini', 'Fiat', 'Bentley', 'Peugeot', 'Austin',\n",
       "       'Spyker'], dtype=object)"
      ]
     },
     "execution_count": 23,
     "metadata": {},
     "output_type": "execute_result"
    }
   ],
   "source": [
    "# The unique method shows every element only once\n",
    "unique = data_file_df[\"Car\"].unique()\n",
    "unique"
   ]
  },
  {
   "cell_type": "code",
   "execution_count": 24,
   "metadata": {},
   "outputs": [
    {
     "data": {
      "text/plain": [
       "62"
      ]
     },
     "execution_count": 24,
     "metadata": {},
     "output_type": "execute_result"
    }
   ],
   "source": [
    "len(unique)"
   ]
  },
  {
   "cell_type": "code",
   "execution_count": 25,
   "metadata": {},
   "outputs": [
    {
     "data": {
      "text/plain": [
       "Car\n",
       "Ford         93\n",
       "Chevrolet    68\n",
       "Dodge        50\n",
       "Toyota       47\n",
       "BMW          44\n",
       "             ..\n",
       "Merkur        1\n",
       "Corbin        1\n",
       "Jensen        1\n",
       "Bugatti       1\n",
       "Spyker        1\n",
       "Name: count, Length: 62, dtype: int64"
      ]
     },
     "execution_count": 25,
     "metadata": {},
     "output_type": "execute_result"
    }
   ],
   "source": [
    "df.Car.value_counts()"
   ]
  },
  {
   "cell_type": "code",
   "execution_count": 26,
   "metadata": {},
   "outputs": [
    {
     "data": {
      "text/plain": [
       "Gender\n",
       "male          455\n",
       "female        446\n",
       "non-binary     99\n",
       "Name: count, dtype: int64"
      ]
     },
     "execution_count": 26,
     "metadata": {},
     "output_type": "execute_result"
    }
   ],
   "source": [
    "# The value_counts method counts unique values in a column\n",
    "count = data_file_df[\"Gender\"].value_counts()\n",
    "count"
   ]
  },
  {
   "cell_type": "code",
   "execution_count": 28,
   "metadata": {},
   "outputs": [
    {
     "data": {
      "text/html": [
       "<div>\n",
       "<style scoped>\n",
       "    .dataframe tbody tr th:only-of-type {\n",
       "        vertical-align: middle;\n",
       "    }\n",
       "\n",
       "    .dataframe tbody tr th {\n",
       "        vertical-align: top;\n",
       "    }\n",
       "\n",
       "    .dataframe thead th {\n",
       "        text-align: right;\n",
       "    }\n",
       "</style>\n",
       "<table border=\"1\" class=\"dataframe\">\n",
       "  <thead>\n",
       "    <tr style=\"text-align: right;\">\n",
       "      <th></th>\n",
       "      <th>id</th>\n",
       "      <th>Full Name</th>\n",
       "      <th>Gender</th>\n",
       "      <th>Amount</th>\n",
       "      <th>Car</th>\n",
       "      <th>Amount in kUSD</th>\n",
       "    </tr>\n",
       "  </thead>\n",
       "  <tbody>\n",
       "    <tr>\n",
       "      <th>0</th>\n",
       "      <td>1</td>\n",
       "      <td>Minnnie Rean</td>\n",
       "      <td>male</td>\n",
       "      <td>15484.5</td>\n",
       "      <td>Jeep</td>\n",
       "      <td>15.484</td>\n",
       "    </tr>\n",
       "    <tr>\n",
       "      <th>1</th>\n",
       "      <td>2</td>\n",
       "      <td>Ursa Torricella</td>\n",
       "      <td>female</td>\n",
       "      <td>13443.3</td>\n",
       "      <td>Saturn</td>\n",
       "      <td>13.443</td>\n",
       "    </tr>\n",
       "    <tr>\n",
       "      <th>2</th>\n",
       "      <td>3</td>\n",
       "      <td>Joyann Pirolini</td>\n",
       "      <td>male</td>\n",
       "      <td>9095.6</td>\n",
       "      <td>Ram</td>\n",
       "      <td>9.096</td>\n",
       "    </tr>\n",
       "    <tr>\n",
       "      <th>3</th>\n",
       "      <td>4</td>\n",
       "      <td>Sharl Ridsdell</td>\n",
       "      <td>female</td>\n",
       "      <td>11871.6</td>\n",
       "      <td>Dodge</td>\n",
       "      <td>11.872</td>\n",
       "    </tr>\n",
       "    <tr>\n",
       "      <th>4</th>\n",
       "      <td>5</td>\n",
       "      <td>Laurence Jovasevic</td>\n",
       "      <td>male</td>\n",
       "      <td>13459.8</td>\n",
       "      <td>Chrysler</td>\n",
       "      <td>13.460</td>\n",
       "    </tr>\n",
       "  </tbody>\n",
       "</table>\n",
       "</div>"
      ],
      "text/plain": [
       "   id           Full Name  Gender   Amount       Car  Amount in kUSD\n",
       "0   1        Minnnie Rean    male  15484.5      Jeep          15.484\n",
       "1   2     Ursa Torricella  female  13443.3    Saturn          13.443\n",
       "2   3     Joyann Pirolini    male   9095.6       Ram           9.096\n",
       "3   4      Sharl Ridsdell  female  11871.6     Dodge          11.872\n",
       "4   5  Laurence Jovasevic    male  13459.8  Chrysler          13.460"
      ]
     },
     "execution_count": 28,
     "metadata": {},
     "output_type": "execute_result"
    }
   ],
   "source": [
    "# Calculations can also be performed on Series and added into DataFrames as new columns\n",
    "thousands_of_dollars = round(df[\"Amount\"]/1000,3)\n",
    "df[\"Amount in kUSD\"] = thousands_of_dollars\n",
    "\n",
    "df.head()"
   ]
  },
  {
   "cell_type": "code",
   "execution_count": null,
   "metadata": {},
   "outputs": [],
   "source": []
  }
 ],
 "metadata": {
  "anaconda-cloud": {},
  "kernel_info": {
   "name": "python3"
  },
  "kernelspec": {
   "display_name": "Python 3 (ipykernel)",
   "language": "python",
   "name": "python3"
  },
  "language_info": {
   "codemirror_mode": {
    "name": "ipython",
    "version": 3
   },
   "file_extension": ".py",
   "mimetype": "text/x-python",
   "name": "python",
   "nbconvert_exporter": "python",
   "pygments_lexer": "ipython3",
   "version": "3.10.13"
  },
  "nteract": {
   "version": "0.2.0"
  }
 },
 "nbformat": 4,
 "nbformat_minor": 4
}
