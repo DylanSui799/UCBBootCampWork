{
 "cells": [
  {
   "cell_type": "code",
   "execution_count": 7,
   "id": "64936591-304f-4d4c-967c-093de662e571",
   "metadata": {},
   "outputs": [
    {
     "name": "stdin",
     "output_type": "stream",
     "text": [
      "enter a number: 7\n",
      "enter a number different than zero: two\n"
     ]
    },
    {
     "ename": "ValueError",
     "evalue": "could not convert string to float: 'two'",
     "output_type": "error",
     "traceback": [
      "\u001b[0;31m---------------------------------------------------------------------------\u001b[0m",
      "\u001b[0;31mValueError\u001b[0m                                Traceback (most recent call last)",
      "Cell \u001b[0;32mIn[7], line 4\u001b[0m\n\u001b[1;32m      1\u001b[0m a \u001b[38;5;241m=\u001b[39m \u001b[38;5;28minput\u001b[39m(\u001b[38;5;124m\"\u001b[39m\u001b[38;5;124menter a number:\u001b[39m\u001b[38;5;124m\"\u001b[39m)\n\u001b[1;32m      2\u001b[0m b \u001b[38;5;241m=\u001b[39m \u001b[38;5;28minput\u001b[39m(\u001b[38;5;124m\"\u001b[39m\u001b[38;5;124menter a number different than zero:\u001b[39m\u001b[38;5;124m\"\u001b[39m)\n\u001b[0;32m----> 4\u001b[0m division \u001b[38;5;241m=\u001b[39m (\u001b[38;5;28mfloat\u001b[39m(a)\u001b[38;5;241m/\u001b[39m\u001b[38;5;28;43mfloat\u001b[39;49m\u001b[43m(\u001b[49m\u001b[43mb\u001b[49m\u001b[43m)\u001b[49m)\n\u001b[1;32m      5\u001b[0m \u001b[38;5;28mprint\u001b[39m(\u001b[38;5;124mf\u001b[39m\u001b[38;5;124m\"\u001b[39m\u001b[38;5;124mThe result of the division is: \u001b[39m\u001b[38;5;132;01m{\u001b[39;00mdivision\u001b[38;5;132;01m}\u001b[39;00m\u001b[38;5;124m\"\u001b[39m)\n",
      "\u001b[0;31mValueError\u001b[0m: could not convert string to float: 'two'"
     ]
    }
   ],
   "source": [
    "a = input(\"enter a number:\")\n",
    "b = input(\"enter a number different than zero:\")\n",
    "\n",
    "division = (float(a)/float(b))\n",
    "print(f\"The result of the division is: {division}\")\n"
   ]
  },
  {
   "cell_type": "code",
   "execution_count": 8,
   "id": "1f2a7858-55cd-4bbc-9d78-9f036f142ebf",
   "metadata": {},
   "outputs": [
    {
     "name": "stdin",
     "output_type": "stream",
     "text": [
      "enter a number: 8\n",
      "enter a number different than zero: three\n"
     ]
    },
    {
     "name": "stdout",
     "output_type": "stream",
     "text": [
      "You need to enter a number!\n",
      "The error is: could not convert string to float: 'three'\n",
      "rest of my code\n"
     ]
    }
   ],
   "source": [
    "a = input(\"enter a number:\")\n",
    "b = input(\"enter a number different than zero:\")\n",
    "\n",
    "\n",
    "try:\n",
    "    division = (float(a)/float(b))\n",
    "\n",
    "except ZeroDivisionError as e:\n",
    "    print(\"You can't divide by zero\")\n",
    "    print(e)\n",
    "\n",
    "except ValueError as e:\n",
    "    print(\"You need to enter a number!\")\n",
    "    print(f\"The error is: {e}\")\n",
    "\n",
    "else: \n",
    "    print(f\"The result of the division is: {division}\")\n",
    "\n",
    "print(\"rest of my code\")"
   ]
  },
  {
   "cell_type": "code",
   "execution_count": null,
   "id": "24367189-6999-42de-9a10-49cb025b5120",
   "metadata": {},
   "outputs": [],
   "source": []
  }
 ],
 "metadata": {
  "kernelspec": {
   "display_name": "Python 3 (ipykernel)",
   "language": "python",
   "name": "python3"
  },
  "language_info": {
   "codemirror_mode": {
    "name": "ipython",
    "version": 3
   },
   "file_extension": ".py",
   "mimetype": "text/x-python",
   "name": "python",
   "nbconvert_exporter": "python",
   "pygments_lexer": "ipython3",
   "version": "3.10.13"
  }
 },
 "nbformat": 4,
 "nbformat_minor": 5
}
