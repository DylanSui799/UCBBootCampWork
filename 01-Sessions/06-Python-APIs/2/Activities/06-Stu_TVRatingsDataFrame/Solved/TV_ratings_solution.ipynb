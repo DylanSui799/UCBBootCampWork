{
 "cells": [
  {
   "cell_type": "code",
   "execution_count": 11,
   "metadata": {},
   "outputs": [],
   "source": [
    "# Dependencies\n",
    "import requests\n",
    "import json\n",
    "import pandas as pd\n",
    "import matplotlib.pyplot as plt\n",
    "from pprint import pprint"
   ]
  },
  {
   "cell_type": "code",
   "execution_count": 12,
   "metadata": {},
   "outputs": [],
   "source": [
    "show = \"The Office\"\n",
    "\n",
    "# TV Maze show search base URL\n",
    "base_url = \"http://api.tvmaze.com/search/shows?q=\"\n",
    "\n",
    "target_url = base_url + show\n"
   ]
  },
  {
   "cell_type": "code",
   "execution_count": 13,
   "metadata": {},
   "outputs": [
    {
     "data": {
      "text/plain": [
       "'http://api.tvmaze.com/search/shows?q=The Office'"
      ]
     },
     "execution_count": 13,
     "metadata": {},
     "output_type": "execute_result"
    }
   ],
   "source": [
    "target_url"
   ]
  },
  {
   "cell_type": "code",
   "execution_count": 19,
   "metadata": {},
   "outputs": [
    {
     "name": "stdout",
     "output_type": "stream",
     "text": [
      "{'_links': {'previousepisode': {'href': 'https://api.tvmaze.com/episodes/711203'},\n",
      "            'self': {'href': 'https://api.tvmaze.com/shows/526'}},\n",
      " 'averageRuntime': 30,\n",
      " 'dvdCountry': None,\n",
      " 'ended': '2013-05-16',\n",
      " 'externals': {'imdb': 'tt0386676', 'thetvdb': 73244, 'tvrage': 6061},\n",
      " 'genres': ['Comedy'],\n",
      " 'id': 526,\n",
      " 'image': {'medium': 'https://static.tvmaze.com/uploads/images/medium_portrait/481/1204342.jpg',\n",
      "           'original': 'https://static.tvmaze.com/uploads/images/original_untouched/481/1204342.jpg'},\n",
      " 'language': 'English',\n",
      " 'name': 'The Office',\n",
      " 'network': {'country': {'code': 'US',\n",
      "                         'name': 'United States',\n",
      "                         'timezone': 'America/New_York'},\n",
      "             'id': 1,\n",
      "             'name': 'NBC',\n",
      "             'officialSite': 'https://www.nbc.com/'},\n",
      " 'officialSite': 'http://www.nbc.com/the-office',\n",
      " 'premiered': '2005-03-24',\n",
      " 'rating': {'average': 8.5},\n",
      " 'runtime': 30,\n",
      " 'schedule': {'days': ['Thursday'], 'time': '21:00'},\n",
      " 'status': 'Ended',\n",
      " 'summary': '<p>Steve Carell stars in <b>The Office</b>, a fresh and funny '\n",
      "            'mockumentary-style glimpse into the daily interactions of the '\n",
      "            'eccentric workers at the Dunder Mifflin paper supply company. '\n",
      "            'Based on the smash-hit British series of the same name and '\n",
      "            'adapted for American Television by Greg Daniels, this fast-paced '\n",
      "            'comedy parodies contemporary American water-cooler culture. '\n",
      "            'Earnest but clueless regional manager Michael Scott believes '\n",
      "            'himself to be an exceptional boss and mentor, but actually '\n",
      "            'receives more eye-rolls than respect from his oddball staff.</p>',\n",
      " 'type': 'Scripted',\n",
      " 'updated': 1697605271,\n",
      " 'url': 'https://www.tvmaze.com/shows/526/the-office',\n",
      " 'webChannel': None,\n",
      " 'weight': 96}\n"
     ]
    }
   ],
   "source": [
    "\n",
    "response = requests.get(target_url).json()\n",
    "\n",
    "pprint (response[0]['show'])"
   ]
  },
  {
   "cell_type": "code",
   "execution_count": 20,
   "metadata": {},
   "outputs": [
    {
     "name": "stdout",
     "output_type": "stream",
     "text": [
      "8.5\n"
     ]
    }
   ],
   "source": [
    "pprint (response[0]['show']['rating']['average'])"
   ]
  },
  {
   "cell_type": "code",
   "execution_count": 21,
   "metadata": {},
   "outputs": [
    {
     "name": "stdout",
     "output_type": "stream",
     "text": [
      "'The Office'\n"
     ]
    }
   ],
   "source": [
    "pprint (response[0]['show']['name'])"
   ]
  },
  {
   "cell_type": "code",
   "execution_count": 6,
   "metadata": {},
   "outputs": [],
   "source": [
    "# list of TV show titles to query\n",
    "tv_shows = [\"Modern Family\", \"Arrested Development\", \"Breaking Bad\", \"The Flash\",\"Office\",\n",
    "            \"Vikings\", \"The Mandalorian\", \"Last of Us\", \"Peaky Blinders\", \"Big Bang Theory\"]\n",
    "\n",
    "# TV Maze show search base URL\n",
    "base_url = \"http://api.tvmaze.com/search/shows?q=\"\n",
    "\n",
    "# set up lists to hold response data for name and rating\n",
    "titles = []\n",
    "ratings = []\n",
    "\n",
    "# loop through TV show titles, make requests and parse\n",
    "for show in tv_shows:\n",
    "    target_url = base_url + show\n",
    "    response = requests.get(target_url).json()\n",
    "    titles.append(response[0]['show']['name'])\n",
    "    ratings.append(response[0]['show']['rating']['average'])"
   ]
  },
  {
   "cell_type": "code",
   "execution_count": 7,
   "metadata": {},
   "outputs": [
    {
     "data": {
      "text/plain": [
       "['Modern Family',\n",
       " 'Arrested Development',\n",
       " 'Breaking Bad',\n",
       " 'The Flash',\n",
       " 'The Office',\n",
       " 'Vikings',\n",
       " 'The Mandalorian',\n",
       " 'The Last of Us',\n",
       " 'Peaky Blinders',\n",
       " 'The Big Bang Theory']"
      ]
     },
     "execution_count": 7,
     "metadata": {},
     "output_type": "execute_result"
    }
   ],
   "source": [
    "titles"
   ]
  },
  {
   "cell_type": "code",
   "execution_count": 8,
   "metadata": {},
   "outputs": [
    {
     "data": {
      "text/plain": [
       "[7.7, 8.3, 9.3, 7.6, 8.5, 8.6, 8.6, 8.3, 8.5, 8]"
      ]
     },
     "execution_count": 8,
     "metadata": {},
     "output_type": "execute_result"
    }
   ],
   "source": [
    "ratings"
   ]
  },
  {
   "cell_type": "code",
   "execution_count": 9,
   "metadata": {},
   "outputs": [
    {
     "data": {
      "text/html": [
       "<div>\n",
       "<style scoped>\n",
       "    .dataframe tbody tr th:only-of-type {\n",
       "        vertical-align: middle;\n",
       "    }\n",
       "\n",
       "    .dataframe tbody tr th {\n",
       "        vertical-align: top;\n",
       "    }\n",
       "\n",
       "    .dataframe thead th {\n",
       "        text-align: right;\n",
       "    }\n",
       "</style>\n",
       "<table border=\"1\" class=\"dataframe\">\n",
       "  <thead>\n",
       "    <tr style=\"text-align: right;\">\n",
       "      <th></th>\n",
       "      <th>title</th>\n",
       "      <th>rating</th>\n",
       "    </tr>\n",
       "  </thead>\n",
       "  <tbody>\n",
       "    <tr>\n",
       "      <th>0</th>\n",
       "      <td>Modern Family</td>\n",
       "      <td>7.7</td>\n",
       "    </tr>\n",
       "    <tr>\n",
       "      <th>1</th>\n",
       "      <td>Arrested Development</td>\n",
       "      <td>8.3</td>\n",
       "    </tr>\n",
       "    <tr>\n",
       "      <th>2</th>\n",
       "      <td>Breaking Bad</td>\n",
       "      <td>9.3</td>\n",
       "    </tr>\n",
       "    <tr>\n",
       "      <th>3</th>\n",
       "      <td>The Flash</td>\n",
       "      <td>7.6</td>\n",
       "    </tr>\n",
       "    <tr>\n",
       "      <th>4</th>\n",
       "      <td>The Office</td>\n",
       "      <td>8.5</td>\n",
       "    </tr>\n",
       "    <tr>\n",
       "      <th>5</th>\n",
       "      <td>Vikings</td>\n",
       "      <td>8.6</td>\n",
       "    </tr>\n",
       "    <tr>\n",
       "      <th>6</th>\n",
       "      <td>The Mandalorian</td>\n",
       "      <td>8.6</td>\n",
       "    </tr>\n",
       "    <tr>\n",
       "      <th>7</th>\n",
       "      <td>The Last of Us</td>\n",
       "      <td>8.3</td>\n",
       "    </tr>\n",
       "    <tr>\n",
       "      <th>8</th>\n",
       "      <td>Peaky Blinders</td>\n",
       "      <td>8.5</td>\n",
       "    </tr>\n",
       "    <tr>\n",
       "      <th>9</th>\n",
       "      <td>The Big Bang Theory</td>\n",
       "      <td>8.0</td>\n",
       "    </tr>\n",
       "  </tbody>\n",
       "</table>\n",
       "</div>"
      ],
      "text/plain": [
       "                  title  rating\n",
       "0         Modern Family     7.7\n",
       "1  Arrested Development     8.3\n",
       "2          Breaking Bad     9.3\n",
       "3             The Flash     7.6\n",
       "4            The Office     8.5\n",
       "5               Vikings     8.6\n",
       "6       The Mandalorian     8.6\n",
       "7        The Last of Us     8.3\n",
       "8        Peaky Blinders     8.5\n",
       "9   The Big Bang Theory     8.0"
      ]
     },
     "execution_count": 9,
     "metadata": {},
     "output_type": "execute_result"
    }
   ],
   "source": [
    "# create DataFrame\n",
    "shows_df = pd.DataFrame({\n",
    "    \"title\": titles,\n",
    "    \"rating\": ratings\n",
    "})\n",
    "\n",
    "shows_df"
   ]
  },
  {
   "cell_type": "code",
   "execution_count": 10,
   "metadata": {},
   "outputs": [
    {
     "data": {
      "text/plain": [
       "<Axes: xlabel='title'>"
      ]
     },
     "execution_count": 10,
     "metadata": {},
     "output_type": "execute_result"
    },
    {
     "data": {
      "image/png": "[encoded data removed]",
      "text/plain": [
       "<Figure size 1000x500 with 1 Axes>"
      ]
     },
     "metadata": {},
     "output_type": "display_data"
    }
   ],
   "source": [
    "# Plot the data\n",
    "shows_df.plot('title', 'rating', kind='bar', figsize=(10,5), rot=45)"
   ]
  },
  {
   "cell_type": "code",
   "execution_count": null,
   "metadata": {},
   "outputs": [],
   "source": []
  }
 ],
 "metadata": {
  "kernelspec": {
   "display_name": "Python 3 (ipykernel)",
   "language": "python",
   "name": "python3"
  },
  "language_info": {
   "codemirror_mode": {
    "name": "ipython",
    "version": 3
   },
   "file_extension": ".py",
   "mimetype": "text/x-python",
   "name": "python",
   "nbconvert_exporter": "python",
   "pygments_lexer": "ipython3",
   "version": "3.10.13"
  },
  "varInspector": {
   "cols": {
    "lenName": 16,
    "lenType": 16,
    "lenVar": 40
   },
   "kernels_config": {
    "python": {
     "delete_cmd_postfix": "",
     "delete_cmd_prefix": "del ",
     "library": "var_list.py",
     "varRefreshCmd": "print(var_dic_list())"
    },
    "r": {
     "delete_cmd_postfix": ") ",
     "delete_cmd_prefix": "rm(",
     "library": "var_list.r",
     "varRefreshCmd": "cat(var_dic_list()) "
    }
   },
   "types_to_exclude": [
    "module",
    "function",
    "builtin_function_or_method",
    "instance",
    "_Feature"
   ],
   "window_display": false
  }
 },
 "nbformat": 4,
 "nbformat_minor": 4
}
