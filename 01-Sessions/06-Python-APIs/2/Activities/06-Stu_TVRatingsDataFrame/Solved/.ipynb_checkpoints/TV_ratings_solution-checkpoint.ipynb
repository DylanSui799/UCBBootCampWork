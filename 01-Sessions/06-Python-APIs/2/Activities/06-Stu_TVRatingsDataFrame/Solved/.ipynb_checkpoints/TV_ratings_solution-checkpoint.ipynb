{
 "cells": [
  {
   "cell_type": "code",
   "execution_count": 1,
   "metadata": {},
   "outputs": [],
   "source": [
    "# Dependencies\n",
    "import requests\n",
    "import json\n",
    "import pandas as pd\n",
    "import matplotlib.pyplot as plt"
   ]
  },
  {
   "cell_type": "code",
   "execution_count": 2,
   "metadata": {},
   "outputs": [
    {
     "name": "stdout",
     "output_type": "stream",
     "text": [
      "[\n",
      "    {\n",
      "        \"score\": 1.2041565,\n",
      "        \"show\": {\n",
      "            \"_links\": {\n",
      "                \"previousepisode\": {\n",
      "                    \"href\": \"https://api.tvmaze.com/episodes/1809502\"\n",
      "                },\n",
      "                \"self\": {\n",
      "                    \"href\": \"https://api.tvmaze.com/shows/80\"\n",
      "                }\n",
      "            },\n",
      "            \"averageRuntime\": 30,\n",
      "            \"dvdCountry\": null,\n",
      "            \"ended\": \"2020-04-08\",\n",
      "            \"externals\": {\n",
      "                \"imdb\": \"tt1442437\",\n",
      "                \"thetvdb\": 95011,\n",
      "                \"tvrage\": 22622\n",
      "            },\n",
      "            \"genres\": [\n",
      "                \"Comedy\",\n",
      "                \"Family\"\n",
      "            ],\n",
      "            \"id\": 80,\n",
      "            \"image\": {\n",
      "                \"medium\": \"https://static.tvmaze.com/uploads/images/medium_portrait/359/898320.jpg\",\n",
      "                \"original\": \"https://static.tvmaze.com/uploads/images/original_untouched/359/898320.jpg\"\n",
      "            },\n",
      "            \"language\": \"English\",\n",
      "            \"name\": \"Modern Family\",\n",
      "            \"network\": {\n",
      "                \"country\": {\n",
      "                    \"code\": \"US\",\n",
      "                    \"name\": \"United States\",\n",
      "                    \"timezone\": \"America/New_York\"\n",
      "                },\n",
      "                \"id\": 3,\n",
      "                \"name\": \"ABC\",\n",
      "                \"officialSite\": \"https://abc.com/\"\n",
      "            },\n",
      "            \"officialSite\": \"http://abc.go.com/shows/modern-family\",\n",
      "            \"premiered\": \"2009-09-23\",\n",
      "            \"rating\": {\n",
      "                \"average\": 7.7\n",
      "            },\n",
      "            \"runtime\": 30,\n",
      "            \"schedule\": {\n",
      "                \"days\": [\n",
      "                    \"Wednesday\"\n",
      "                ],\n",
      "                \"time\": \"21:00\"\n",
      "            },\n",
      "            \"status\": \"Ended\",\n",
      "            \"summary\": \"<p><b>Modern Family</b> revolves around three different types of families (nuclear, step- and same-sex) living in the Los Angeles area, who are interrelated through Jay Pritchett and his children, Claire Dunphy (n\\u00e9e Pritchett) and Mitchell Pritchett. Patriarch Jay is remarried to a much younger woman, Gloria Delgado Pritchett (n\\u00e9e Ramirez), a passionate Colombian with whom he has an infant son, Fulgencio (Joe) Pritchett, and a son from Gloria's previous marriage, Manny Delgado.</p><p>Jay's daughter Claire was a homemaker, but has returned to the business world. She is now the chief executive of her father's previous business, Pritchett's Closets and Blinds. She is married to Phil Dunphy, a realtor and self-professed \\\"cool dad\\\". They have three children: Haley Dunphy, a stereotypical ditzy teenage girl; Alex Dunphy, a nerdy, smart middle child; and Luke Dunphy, the off-beat only son.</p><p>Jay's lawyer son Mitchell and his husband Cameron Tucker have one daughter, Lily Tucker-Pritchett. As the name suggests, this family represents a modern-day family, and episodes are comically based on situations which many families encounter in real life.</p>\",\n",
      "            \"type\": \"Scripted\",\n",
      "            \"updated\": 1698075495,\n",
      "            \"url\": \"https://www.tvmaze.com/shows/80/modern-family\",\n",
      "            \"webChannel\": null,\n",
      "            \"weight\": 98\n",
      "        }\n",
      "    },\n",
      "    {\n",
      "        \"score\": 0.42553198,\n",
      "        \"show\": {\n",
      "            \"_links\": {\n",
      "                \"previousepisode\": {\n",
      "                    \"href\": \"https://api.tvmaze.com/episodes/2362253\"\n",
      "                },\n",
      "                \"self\": {\n",
      "                    \"href\": \"https://api.tvmaze.com/shows/63084\"\n",
      "                }\n",
      "            },\n",
      "            \"averageRuntime\": 45,\n",
      "            \"dvdCountry\": null,\n",
      "            \"ended\": \"2022-08-12\",\n",
      "            \"externals\": {\n",
      "                \"imdb\": \"tt21289712\",\n",
      "                \"thetvdb\": 415030,\n",
      "                \"tvrage\": null\n",
      "            },\n",
      "            \"genres\": [\n",
      "                \"Drama\",\n",
      "                \"Crime\",\n",
      "                \"Thriller\"\n",
      "            ],\n",
      "            \"id\": 63084,\n",
      "            \"image\": {\n",
      "                \"medium\": \"https://static.tvmaze.com/uploads/images/medium_portrait/455/1137927.jpg\",\n",
      "                \"original\": \"https://static.tvmaze.com/uploads/images/original_untouched/455/1137927.jpg\"\n",
      "            },\n",
      "            \"language\": \"Korean\",\n",
      "            \"name\": \"A Model Family\",\n",
      "            \"network\": null,\n",
      "            \"officialSite\": \"https://www.netflix.com/title/81349413\",\n",
      "            \"premiered\": \"2022-08-12\",\n",
      "            \"rating\": {\n",
      "                \"average\": null\n",
      "            },\n",
      "            \"runtime\": null,\n",
      "            \"schedule\": {\n",
      "                \"days\": [],\n",
      "                \"time\": \"\"\n",
      "            },\n",
      "            \"status\": \"Ended\",\n",
      "            \"summary\": \"<p>After unwittingly stealing money from a cartel, a cash-strapped professor finds the only way to save his broken family is by working as a drug courier.</p>\",\n",
      "            \"type\": \"Scripted\",\n",
      "            \"updated\": 1682112600,\n",
      "            \"url\": \"https://www.tvmaze.com/shows/63084/a-model-family\",\n",
      "            \"webChannel\": {\n",
      "                \"country\": null,\n",
      "                \"id\": 1,\n",
      "                \"name\": \"Netflix\",\n",
      "                \"officialSite\": \"https://www.netflix.com/\"\n",
      "            },\n",
      "            \"weight\": 42\n",
      "        }\n",
      "    }\n",
      "]\n"
     ]
    }
   ],
   "source": [
    "show = \"Modern Family\"\n",
    "\n",
    "# TV Maze show search base URL\n",
    "base_url = \"http://api.tvmaze.com/search/shows?q=\"\n",
    "\n",
    "target_url = base_url + show\n",
    "\n",
    "response = requests.get(target_url).json()\n",
    "\n",
    "print(json.dumps(response, indent = 4, sort_keys= True))"
   ]
  },
  {
   "cell_type": "code",
   "execution_count": 3,
   "metadata": {},
   "outputs": [],
   "source": [
    "# list of TV show titles to query\n",
    "tv_shows = [\"Modern Family\", \"Arrested Development\", \"Breaking Bad\", \"The Flash\",\n",
    "            \"Vikings\", \"The Mandalorian\", \"Last of Us\", \"Peaky Blinders\", \"Big Bang Theory\"]\n",
    "\n",
    "# TV Maze show search base URL\n",
    "base_url = \"http://api.tvmaze.com/search/shows?q=\"\n",
    "\n",
    "# set up lists to hold response data for name and rating\n",
    "titles = []\n",
    "ratings = []\n",
    "\n",
    "# loop through TV show titles, make requests and parse\n",
    "for show in tv_shows:\n",
    "    target_url = base_url + show\n",
    "    response = requests.get(target_url).json()\n",
    "    titles.append(response[0]['show']['name'])\n",
    "    ratings.append(response[0]['show']['rating']['average'])"
   ]
  },
  {
   "cell_type": "code",
   "execution_count": 4,
   "metadata": {},
   "outputs": [
    {
     "data": {
      "text/html": [
       "<div>\n",
       "<style scoped>\n",
       "    .dataframe tbody tr th:only-of-type {\n",
       "        vertical-align: middle;\n",
       "    }\n",
       "\n",
       "    .dataframe tbody tr th {\n",
       "        vertical-align: top;\n",
       "    }\n",
       "\n",
       "    .dataframe thead th {\n",
       "        text-align: right;\n",
       "    }\n",
       "</style>\n",
       "<table border=\"1\" class=\"dataframe\">\n",
       "  <thead>\n",
       "    <tr style=\"text-align: right;\">\n",
       "      <th></th>\n",
       "      <th>title</th>\n",
       "      <th>rating</th>\n",
       "    </tr>\n",
       "  </thead>\n",
       "  <tbody>\n",
       "    <tr>\n",
       "      <th>0</th>\n",
       "      <td>Modern Family</td>\n",
       "      <td>7.7</td>\n",
       "    </tr>\n",
       "    <tr>\n",
       "      <th>1</th>\n",
       "      <td>Arrested Development</td>\n",
       "      <td>8.3</td>\n",
       "    </tr>\n",
       "    <tr>\n",
       "      <th>2</th>\n",
       "      <td>Breaking Bad</td>\n",
       "      <td>9.3</td>\n",
       "    </tr>\n",
       "    <tr>\n",
       "      <th>3</th>\n",
       "      <td>The Flash</td>\n",
       "      <td>7.6</td>\n",
       "    </tr>\n",
       "    <tr>\n",
       "      <th>4</th>\n",
       "      <td>Vikings</td>\n",
       "      <td>8.6</td>\n",
       "    </tr>\n",
       "    <tr>\n",
       "      <th>5</th>\n",
       "      <td>The Mandalorian</td>\n",
       "      <td>8.6</td>\n",
       "    </tr>\n",
       "    <tr>\n",
       "      <th>6</th>\n",
       "      <td>The Last of Us</td>\n",
       "      <td>8.3</td>\n",
       "    </tr>\n",
       "    <tr>\n",
       "      <th>7</th>\n",
       "      <td>Peaky Blinders</td>\n",
       "      <td>8.5</td>\n",
       "    </tr>\n",
       "    <tr>\n",
       "      <th>8</th>\n",
       "      <td>The Big Bang Theory</td>\n",
       "      <td>8.0</td>\n",
       "    </tr>\n",
       "  </tbody>\n",
       "</table>\n",
       "</div>"
      ],
      "text/plain": [
       "                  title  rating\n",
       "0         Modern Family     7.7\n",
       "1  Arrested Development     8.3\n",
       "2          Breaking Bad     9.3\n",
       "3             The Flash     7.6\n",
       "4               Vikings     8.6\n",
       "5       The Mandalorian     8.6\n",
       "6        The Last of Us     8.3\n",
       "7        Peaky Blinders     8.5\n",
       "8   The Big Bang Theory     8.0"
      ]
     },
     "execution_count": 4,
     "metadata": {},
     "output_type": "execute_result"
    }
   ],
   "source": [
    "# create DataFrame\n",
    "shows_df = pd.DataFrame({\n",
    "    \"title\": titles,\n",
    "    \"rating\": ratings\n",
    "})\n",
    "\n",
    "shows_df"
   ]
  },
  {
   "cell_type": "code",
   "execution_count": 5,
   "metadata": {},
   "outputs": [
    {
     "data": {
      "text/plain": [
       "<Axes: xlabel='title'>"
      ]
     },
     "execution_count": 5,
     "metadata": {},
     "output_type": "execute_result"
    },
    {
     "data": {
      "image/png": "[encoded data removed]",
      "text/plain": [
       "<Figure size 1000x500 with 1 Axes>"
      ]
     },
     "metadata": {},
     "output_type": "display_data"
    }
   ],
   "source": [
    "# Plot the data\n",
    "shows_df.plot('title', 'rating', kind='bar', figsize=(10,5), rot=45)"
   ]
  },
  {
   "cell_type": "code",
   "execution_count": null,
   "metadata": {},
   "outputs": [],
   "source": []
  }
 ],
 "metadata": {
  "kernelspec": {
   "display_name": "Python 3 (ipykernel)",
   "language": "python",
   "name": "python3"
  },
  "language_info": {
   "codemirror_mode": {
    "name": "ipython",
    "version": 3
   },
   "file_extension": ".py",
   "mimetype": "text/x-python",
   "name": "python",
   "nbconvert_exporter": "python",
   "pygments_lexer": "ipython3",
   "version": "3.10.13"
  },
  "varInspector": {
   "cols": {
    "lenName": 16,
    "lenType": 16,
    "lenVar": 40
   },
   "kernels_config": {
    "python": {
     "delete_cmd_postfix": "",
     "delete_cmd_prefix": "del ",
     "library": "var_list.py",
     "varRefreshCmd": "print(var_dic_list())"
    },
    "r": {
     "delete_cmd_postfix": ") ",
     "delete_cmd_prefix": "rm(",
     "library": "var_list.r",
     "varRefreshCmd": "cat(var_dic_list()) "
    }
   },
   "types_to_exclude": [
    "module",
    "function",
    "builtin_function_or_method",
    "instance",
    "_Feature"
   ],
   "window_display": false
  }
 },
 "nbformat": 4,
 "nbformat_minor": 2
}
