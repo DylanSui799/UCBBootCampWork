{
 "cells": [
  {
   "cell_type": "code",
   "execution_count": 19,
   "metadata": {},
   "outputs": [],
   "source": [
    "# Dependencies\n",
    "import json\n",
    "import requests\n",
    "import pandas as pd"
   ]
  },
  {
   "cell_type": "code",
   "execution_count": 20,
   "metadata": {},
   "outputs": [
    {
     "name": "stdout",
     "output_type": "stream",
     "text": [
      "{\n",
      "    \"count\": 1,\n",
      "    \"next\": null,\n",
      "    \"previous\": null,\n",
      "    \"results\": [\n",
      "        {\n",
      "            \"birth_year\": \"200BBY\",\n",
      "            \"created\": \"2014-12-10T16:42:45.066000Z\",\n",
      "            \"edited\": \"2014-12-20T21:17:50.332000Z\",\n",
      "            \"eye_color\": \"blue\",\n",
      "            \"films\": [\n",
      "                \"https://swapi.dev/api/films/1/\",\n",
      "                \"https://swapi.dev/api/films/2/\",\n",
      "                \"https://swapi.dev/api/films/3/\",\n",
      "                \"https://swapi.dev/api/films/6/\"\n",
      "            ],\n",
      "            \"gender\": \"male\",\n",
      "            \"hair_color\": \"brown\",\n",
      "            \"height\": \"228\",\n",
      "            \"homeworld\": \"https://swapi.dev/api/planets/14/\",\n",
      "            \"mass\": \"112\",\n",
      "            \"name\": \"Chewbacca\",\n",
      "            \"skin_color\": \"unknown\",\n",
      "            \"species\": [\n",
      "                \"https://swapi.dev/api/species/3/\"\n",
      "            ],\n",
      "            \"starships\": [\n",
      "                \"https://swapi.dev/api/starships/10/\",\n",
      "                \"https://swapi.dev/api/starships/22/\"\n",
      "            ],\n",
      "            \"url\": \"https://swapi.dev/api/people/13/\",\n",
      "            \"vehicles\": [\n",
      "                \"https://swapi.dev/api/vehicles/19/\"\n",
      "            ]\n",
      "        }\n",
      "    ]\n",
      "}\n"
     ]
    }
   ],
   "source": [
    "url = 'https://swapi.dev/api/people/?search='\n",
    "character = \"Chewbacca\"\n",
    "    # Create search query, make request and store in json\n",
    "query = url+character\n",
    "\n",
    "data = requests.get(query).json()\n",
    "\n",
    "# Use json.dumps to print the json\n",
    "print(json.dumps(data, indent=4, sort_keys=True))"
   ]
  },
  {
   "cell_type": "code",
   "execution_count": 21,
   "metadata": {},
   "outputs": [
    {
     "name": "stdout",
     "output_type": "stream",
     "text": [
      "R2-D2 found! Appending stats\n",
      "Darth Vader found! Appending stats\n",
      "Character not found\n",
      "Luke Skywalker found! Appending stats\n",
      "Character not found\n",
      "Boba Fett found! Appending stats\n",
      "Character not found\n",
      "Character not found\n",
      "Han Solo found! Appending stats\n"
     ]
    }
   ],
   "source": [
    "# List of character\n",
    "search_characters = ['R2-D2', 'Darth Vader', 'Godzilla', 'Luke Skywalker', 'Frodo',\n",
    "                     'Boba Fett', 'Iron Man', 'Jon Snow', 'Han Solo']\n",
    "\n",
    "# Set url for API\n",
    "url = 'https://swapi.dev/api/people/?search='\n",
    "\n",
    "# Set empty lists to hold characters height and mass\n",
    "height = []\n",
    "mass = []\n",
    "starwars_characters = []\n",
    "\n",
    "# Loop through each character\n",
    "for character in search_characters:\n",
    "\n",
    "    # Create search query, make request and store in json\n",
    "    query = url + character\n",
    "    response = requests.get(query)\n",
    "    response_json = response.json()\n",
    "\n",
    "    # Try to grab the height and mass of characters if they are available in the Star Wars API\n",
    "    try:\n",
    "        height.append(response_json['results'][0]['height'])\n",
    "        mass.append(response_json['results'][0]['mass'])\n",
    "        starwars_characters.append(character)\n",
    "        print(f\"{character} found! Appending stats\")\n",
    "\n",
    "    # Handle exceptions for a character that is not available in the Star Wars API\n",
    "    except:\n",
    "        # Append null values\n",
    "        print(\"Character not found\")\n",
    "        pass"
   ]
  },
  {
   "cell_type": "code",
   "execution_count": 24,
   "metadata": {},
   "outputs": [
    {
     "data": {
      "text/html": [
       "<div>\n",
       "<style scoped>\n",
       "    .dataframe tbody tr th:only-of-type {\n",
       "        vertical-align: middle;\n",
       "    }\n",
       "\n",
       "    .dataframe tbody tr th {\n",
       "        vertical-align: top;\n",
       "    }\n",
       "\n",
       "    .dataframe thead th {\n",
       "        text-align: right;\n",
       "    }\n",
       "</style>\n",
       "<table border=\"1\" class=\"dataframe\">\n",
       "  <thead>\n",
       "    <tr style=\"text-align: right;\">\n",
       "      <th></th>\n",
       "      <th>character</th>\n",
       "      <th>height (cm)</th>\n",
       "      <th>mass (kg)</th>\n",
       "      <th>BMI</th>\n",
       "    </tr>\n",
       "  </thead>\n",
       "  <tbody>\n",
       "    <tr>\n",
       "      <th>0</th>\n",
       "      <td>R2-D2</td>\n",
       "      <td>96</td>\n",
       "      <td>32</td>\n",
       "      <td>34.7</td>\n",
       "    </tr>\n",
       "    <tr>\n",
       "      <th>1</th>\n",
       "      <td>Darth Vader</td>\n",
       "      <td>202</td>\n",
       "      <td>136</td>\n",
       "      <td>33.3</td>\n",
       "    </tr>\n",
       "    <tr>\n",
       "      <th>2</th>\n",
       "      <td>Luke Skywalker</td>\n",
       "      <td>172</td>\n",
       "      <td>77</td>\n",
       "      <td>26.0</td>\n",
       "    </tr>\n",
       "    <tr>\n",
       "      <th>3</th>\n",
       "      <td>Boba Fett</td>\n",
       "      <td>183</td>\n",
       "      <td>78.2</td>\n",
       "      <td>23.4</td>\n",
       "    </tr>\n",
       "    <tr>\n",
       "      <th>4</th>\n",
       "      <td>Han Solo</td>\n",
       "      <td>180</td>\n",
       "      <td>80</td>\n",
       "      <td>24.7</td>\n",
       "    </tr>\n",
       "  </tbody>\n",
       "</table>\n",
       "</div>"
      ],
      "text/plain": [
       "        character height (cm) mass (kg)   BMI\n",
       "0           R2-D2          96        32  34.7\n",
       "1     Darth Vader         202       136  33.3\n",
       "2  Luke Skywalker         172        77  26.0\n",
       "3       Boba Fett         183      78.2  23.4\n",
       "4        Han Solo         180        80  24.7"
      ]
     },
     "execution_count": 24,
     "metadata": {},
     "output_type": "execute_result"
    }
   ],
   "source": [
    "# Create DataFrame\n",
    "character_height = pd.DataFrame({\n",
    "    'character': starwars_characters,\n",
    "    'height (cm)': height,\n",
    "    'mass (kg)': mass,\n",
    "    'BMI': [round(float(m) / (float(h) / 100) ** 2, 1) for m, h in zip(mass, height)]\n",
    "})\n",
    "\n",
    "character_height\n"
   ]
  }
 ],
 "metadata": {
  "kernelspec": {
   "display_name": "Python 3 (ipykernel)",
   "language": "python",
   "name": "python3"
  },
  "language_info": {
   "codemirror_mode": {
    "name": "ipython",
    "version": 3
   },
   "file_extension": ".py",
   "mimetype": "text/x-python",
   "name": "python",
   "nbconvert_exporter": "python",
   "pygments_lexer": "ipython3",
   "version": "3.10.13"
  },
  "latex_envs": {
   "LaTeX_envs_menu_present": true,
   "autoclose": false,
   "autocomplete": true,
   "bibliofile": "biblio.bib",
   "cite_by": "apalike",
   "current_citInitial": 1,
   "eqLabelWithNumbers": true,
   "eqNumInitial": 1,
   "hotkeys": {
    "equation": "Ctrl-E",
    "itemize": "Ctrl-I"
   },
   "labels_anchors": false,
   "latex_user_defs": false,
   "report_style_numbering": false,
   "user_envs_cfg": false
  }
 },
 "nbformat": 4,
 "nbformat_minor": 2
}
