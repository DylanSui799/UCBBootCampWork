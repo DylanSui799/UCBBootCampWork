{
 "cells": [
  {
   "attachments": {},
   "cell_type": "markdown",
   "metadata": {},
   "source": [
    "# Mars Facts Scrape"
   ]
  },
  {
   "cell_type": "code",
   "execution_count": 3,
   "metadata": {},
   "outputs": [],
   "source": [
    "from selenium import webdriver\n",
    "from selenium.webdriver.chrome.options import Options\n",
    "from bs4 import BeautifulSoup\n",
    "\n",
    "# Set Chrome options to run headless\n",
    "chrome_options = Options()\n",
    "chrome_options.add_argument(\"--headless\")\n",
    "\n",
    "# Initialize the browser\n",
    "browser = webdriver.Chrome(options=chrome_options)\n",
    "\n",
    "# Visit the Mars Facts site\n",
    "url = 'https://static.bc-edx.com/data/web/mars_facts/index.html'\n",
    "browser.get(url)\n",
    "\n",
    "# Parse the HTML\n",
    "html = browser.page_source\n",
    "soup = BeautifulSoup(html, 'html.parser')\n",
    "\n",
    "# Close the browser\n",
    "browser.quit()\n"
   ]
  },
  {
   "cell_type": "code",
   "execution_count": 4,
   "metadata": {},
   "outputs": [
    {
     "data": {
      "text/plain": [
       "'<html><head>\\n\\t<meta charset=\"utf-8\">\\n    <meta name=\"viewport\" content=\"width=device-width, initial-scale=1\">\\t\\n\\t<link rel=\"stylesheet\" type=\"text/css\" href=\"css/bootstrap.min.5.2.2.css\">\\n    <link rel=\"stylesheet\" type=\"text/css\" href=\"css/app.css\">\\n    <title>Mars Facts - Interesting facts about Planet Mars</title>\\n</head>\\n<body>\\n    <nav class=\"navbar navbar-expand-lg navbar-light fixed-top\">\\n\\t  <div class=\"container\">\\n\\t    <a class=\"navbar-brand\" href=\"#\"> <img src=\"images/logo2.png\">\\n\\t    </a>\\n\\t    <button class=\"navbar-toggler\" type=\"button\" data-bs-toggle=\"collapse\" data-bs-target=\"#navbarNav\" aria-controls=\"navbarNav\" aria-expanded=\"false\" aria-label=\"Toggle navigation\">\\n\\t      <span class=\"navbar-toggler-icon\"></span>\\n\\t    </button>\\n\\t    <div class=\"collapse navbar-collapse justify-content-end\" id=\"navbarNav\">\\n\\t      <ul class=\"navbar-nav\">\\n\\t        <li class=\"nav-item\">\\n\\t          <a class=\"nav-link active\" aria-current=\"page\" href=\"#\">Planets</a>\\n\\t        </li>\\n\\t        <li class=\"nav-item\">\\n\\t          <a class=\"nav-link\" href=\"#\">Solar System</a>\\n\\t        </li>\\n\\t        <li class=\"nav-item\">\\n\\t          <a class=\"nav-link\" href=\"#\">Galaxies</a>\\n\\t        </li>\\n\\t        <li class=\"nav-item\">\\n\\t          <a class=\"nav-link\" href=\"#\">Moons</a>\\n\\t        </li>\\n\\t        <li class=\"nav-item\">\\n\\t          <a class=\"nav-link\" href=\"#\">Universe</a>\\n\\t        </li>\\n\\t        <li class=\"nav-item nav_search\">\\n\\t          <a class=\"nav-link \" href=\"#\"><i class=\"fa fa-search\" aria-hidden=\"true\"></i></a>\\n\\t        </li>\\n\\t      </ul>\\n\\t    </div>\\n\\t  </div>\\n\\t</nav>\\n\\n<div class=\"container-fluid site-content\" style=\"margin-top: 150px;\">\\n\\t<div class=\"col-md-12\">\\n\\t\\t<h2 class=\"page-title text-center\">Mars Facts</h2>\\n\\t</div>\\n\\n\\n\\t<div class=\"col-md-12\">\\n\\t\\t<div class=\"row\">\\t\\t\\t\\n\\t\\t\\t<div class=\"col-md-4\">\\n\\t\\t\\t\\t<div class=\"sidebar\">\\n\\t\\t\\t\\t\\t<h5>MARS PLANET PROFILE</h5>\\n\\t\\t\\t\\t\\t<table class=\"table table-striped\">\\n\\t\\t\\t\\t\\t  <tbody>\\n\\t\\t\\t\\t\\t\\t<tr>\\n\\t\\t\\t\\t\\t\\t  <th scope=\"row\">Equatorial Diameter:</th>\\n\\t\\t\\t\\t\\t\\t  <td>6,792 km</td>\\n\\t\\t\\t\\t\\t\\t</tr>\\n\\t\\t\\t\\t\\t\\t<tr>\\n\\t\\t\\t\\t\\t\\t  <th scope=\"row\">Polar Diameter:</th>\\n\\t\\t\\t\\t\\t\\t  <td>6,752 km</td>\\n\\t\\t\\t\\t\\t\\t</tr>\\n\\t\\t\\t\\t\\t\\t<tr>\\n\\t\\t\\t\\t\\t\\t  <th scope=\"row\">Mass:</th>\\n\\t\\t\\t\\t\\t\\t  <td>\\t6.39 × 10^23 kg (0.11 Earths)</td>\\n\\t\\t\\t\\t\\t\\t</tr>\\n\\t\\t\\t\\t\\t\\t<tr>\\n\\t\\t\\t\\t\\t\\t  <th scope=\"row\">Moons:</th>\\n\\t\\t\\t\\t\\t\\t  <td>\\t2 (<span class=\"red\">Phobos </span> &amp; <span class=\"red\"> Deimos</span>)</td>\\n\\t\\t\\t\\t\\t\\t</tr>\\n\\t\\t\\t\\t\\t\\t<tr>\\n\\t\\t\\t\\t\\t\\t  <th scope=\"row\">Orbit Distance:</th>\\n\\t\\t\\t\\t\\t\\t  <td>\\t227,943,824 km (1.38 AU)</td>\\n\\t\\t\\t\\t\\t\\t</tr>\\n\\t\\t\\t\\t\\t\\t<tr>\\n\\t\\t\\t\\t\\t\\t  <th scope=\"row\">Orbit Period:</th>\\n\\t\\t\\t\\t\\t\\t  <td>\\t687 days (1.9 years)</td>\\n\\t\\t\\t\\t\\t\\t</tr>\\n\\t\\t\\t\\t\\t\\t<tr>\\n\\t\\t\\t\\t\\t\\t  <th scope=\"row\">Surface Temperature:</th>\\n\\t\\t\\t\\t\\t\\t  <td>\\t-87 to -5 °C</td>\\n\\t\\t\\t\\t\\t\\t</tr>\\n\\t\\t\\t\\t\\t\\t<tr>\\n\\t\\t\\t\\t\\t\\t  <th scope=\"row\">First Record:</th>\\n\\t\\t\\t\\t\\t\\t  <td>\\t2nd millennium BC</td>\\n\\t\\t\\t\\t\\t\\t</tr>\\n\\t\\t\\t\\t\\t\\t<tr>\\n\\t\\t\\t\\t\\t\\t  <th scope=\"row\">Recorded By:</th>\\n\\t\\t\\t\\t\\t\\t  <td>\\tEgyptian astronomers</td>\\n\\t\\t\\t\\t\\t\\t</tr>\\n\\t\\t\\t\\t\\t  </tbody>\\n\\t\\t\\t\\t\\t</table>\\n\\t\\n\\t\\n\\t\\t\\t\\t\\t<h5 class=\"mt-5\">PLANETS</h5>\\n\\t\\t\\t\\t\\t<div class=\"col-md-12 mt-3\">\\n\\t\\t\\t\\t\\t\\t<div class=\"row\">\\n\\t\\t\\t\\t\\t\\t\\t<div class=\"col-md-3\">\\n\\t\\t\\t\\t\\t\\t\\t\\t<img src=\"images/jupiter.png\" class=\"img-fluid mt-2\">\\n\\t\\t\\t\\t\\t\\t\\t</div>\\n\\t\\t\\t\\t\\t\\t\\t<div class=\"col-md-9\">\\n\\t\\t\\t\\t\\t\\t\\t\\t<p class=\"mt-4\"><span class=\"red\">Jupiter</span> </p>\\n\\t\\t\\t\\t\\t\\t\\t</div>\\n\\t\\t\\t\\t\\t\\t</div>\\n\\t\\t\\t\\t\\t\\t<div class=\"row\">\\n\\t\\t\\t\\t\\t\\t\\t<div class=\"col-md-3\">\\n\\t\\t\\t\\t\\t\\t\\t\\t<img src=\"images/earth.png\" class=\"img-fluid mt-2\">\\n\\t\\t\\t\\t\\t\\t\\t</div>\\n\\t\\t\\t\\t\\t\\t\\t<div class=\"col-md-9\">\\n\\t\\t\\t\\t\\t\\t\\t\\t<p class=\"mt-4\"><span class=\"red\">Earth</span> </p>\\n\\t\\t\\t\\t\\t\\t\\t</div>\\n\\t\\t\\t\\t\\t\\t</div>\\n\\t\\t\\t\\t\\t\\t<div class=\"row\">\\n\\t\\t\\t\\t\\t\\t\\t<div class=\"col-md-3\">\\n\\t\\t\\t\\t\\t\\t\\t\\t<img src=\"images/mercury.png\" class=\"img-fluid mt-2\">\\t\\n\\t\\t\\t\\t\\t\\t\\t</div>\\n\\t\\t\\t\\t\\t\\t\\t<div class=\"col-md-9\">\\n\\t\\t\\t\\t\\t\\t\\t\\t<p class=\"mt-4\"><span class=\"red\">Mercury </span> </p>\\n\\t\\t\\t\\t\\t\\t\\t</div>\\n\\t\\t\\t\\t\\t\\t</div>\\n\\t\\t\\t\\t\\t\\t<div class=\"row\">\\n\\t\\t\\t\\t\\t\\t\\t<div class=\"col-md-3\">\\n\\t\\t\\t\\t\\t\\t\\t\\t<img src=\"images/mars.png\" class=\"img-fluid mt-2\">\\n\\t\\t\\t\\t\\t\\t\\t</div>\\n\\t\\t\\t\\t\\t\\t\\t<div class=\"col-md-9\">\\n\\t\\t\\t\\t\\t\\t\\t\\t<p class=\"mt-4\"><span class=\"red\">Mars </span> </p>\\n\\t\\t\\t\\t\\t\\t\\t</div>\\n\\t\\t\\t\\t\\t\\t</div>\\n\\t\\t\\t\\t\\t\\t<div class=\"row\">\\n\\t\\t\\t\\t\\t\\t\\t<div class=\"col-md-3\">\\n\\t\\t\\t\\t\\t\\t\\t\\t<img src=\"images/venus.png\" class=\"img-fluid mt-2\">\\n\\t\\t\\t\\t\\t\\t\\t</div>\\n\\t\\t\\t\\t\\t\\t\\t<div class=\"col-md-9\">\\n\\t\\t\\t\\t\\t\\t\\t\\t<p class=\"mt-4\"><span class=\"red\">Venus </span> </p>\\n\\t\\t\\t\\t\\t\\t\\t</div>\\n\\t\\t\\t\\t\\t\\t</div>\\n\\t\\t\\t\\t\\t\\t<div class=\"row\">\\n\\t\\t\\t\\t\\t\\t\\t<div class=\"col-md-3\">\\n\\t\\t\\t\\t\\t\\t\\t\\t<img src=\"images/saturn.png\" class=\"img-fluid mt-2\">\\n\\t\\t\\t\\t\\t\\t\\t</div>\\n\\t\\t\\t\\t\\t\\t\\t<div class=\"col-md-9\">\\n\\t\\t\\t\\t\\t\\t\\t\\t<p class=\"mt-4\"><span class=\"red\">Saturn</span> </p>\\n\\t\\t\\t\\t\\t\\t\\t</div>\\n\\t\\t\\t\\t\\t\\t</div>\\n\\t\\t\\t\\t\\t\\t<div class=\"row\">\\n\\t\\t\\t\\t\\t\\t\\t<div class=\"col-md-3\">\\n\\t\\t\\t\\t\\t\\t\\t\\t<img src=\"images/uranus.png\" class=\"img-fluid mt-2\">\\n\\t\\t\\t\\t\\t\\t\\t</div>\\n\\t\\t\\t\\t\\t\\t\\t<div class=\"col-md-9\">\\n\\t\\t\\t\\t\\t\\t\\t\\t<p class=\"mt-4\"><span class=\"red\">Uranus</span> </p>\\n\\t\\t\\t\\t\\t\\t\\t</div>\\n\\t\\t\\t\\t\\t\\t</div>\\n\\t\\t\\t\\t\\t\\t<div class=\"row\">\\n\\t\\t\\t\\t\\t\\t\\t<div class=\"col-md-3\">\\n\\t\\t\\t\\t\\t\\t\\t\\t<img src=\"images/neptune.png\" class=\"img-fluid mt-2\">\\n\\t\\t\\t\\t\\t\\t\\t</div>\\n\\t\\t\\t\\t\\t\\t\\t<div class=\"col-md-9\">\\n\\t\\t\\t\\t\\t\\t\\t\\t<p class=\"mt-4\"><span class=\"red\">Neptune</span> </p>\\n\\t\\t\\t\\t\\t\\t\\t</div>\\n\\t\\t\\t\\t\\t\\t</div>\\n\\t\\t\\t\\t\\t</div>\\n\\t\\t\\t\\t</div>\\t\\t\\n\\t\\t\\t</div>\\n\\t\\t\\t<div class=\"col-md-8\">\\n\\t\\t\\t\\t<div class=\"content-single\">\\n\\t\\t\\t\\t\\t<img src=\"images/mars-grand-canyon.jpg\" class=\"img-fluid\">\\n\\n\\t\\t\\t\\t\\t<p class=\"mt-5\">Mars is the fourth planet from the <span class=\"red\"> Sun </span> and is the second smallest planet in the solar system. Named after the Roman god of war, Mars is also often described as the “Red Planet” due to its reddish appearance. Mars is a <span class=\"red\">terrestrial planet</span> with a thin atmosphere composed primarily of carbon dioxide.</p>\\n\\n\\t\\t\\t\\t\\t<h3 class=\"mt-5\">Mars Diagrams</h3>\\n\\t\\t\\t\\t\\t<div class=\"diagram mt-4\">\\n\\t\\t\\t\\t\\t\\t<img src=\"images/Mars-Earth-comparison.png\" width=\"90%\">\\n\\t\\t\\t\\t\\t\\t<p><span class=\"marsData\"><b> Mars </b></span>size compared to <span class=\"earthData\"><b> Earth </b></span> </p>\\n\\n\\t\\t\\t\\t\\t\\t<table class=\"table\" id=\"m-e-comparison\">\\n\\t\\t\\t\\t\\t\\t\\n\\t\\t\\t\\t\\t\\t<tbody>\\n\\t\\t\\t\\t\\t\\t\\t<tr>\\n\\t\\t\\t\\t\\t\\t\\t\\t<th scope=\"row\"><b> Mars - Earth Comparison</b></th>\\n\\t\\t\\t\\t\\t\\t\\t\\t<td><span class=\"marsData\"><b> Mars</b></span></td>\\n\\t\\t\\t\\t\\t\\t\\t\\t<td><span class=\"earthData\"> <b>Earth </b></span> </td>\\n\\t\\t\\t\\t\\t\\t\\t</tr>\\n\\t\\t\\t\\t\\t\\t\\t<tr>\\n\\t\\t\\t\\t\\t\\t\\t\\t<th scope=\"row\">Diameter:</th>\\n\\t\\t\\t\\t\\t\\t\\t\\t<td><span class=\"marsData\">6,779 km</span></td>\\n\\t\\t\\t\\t\\t\\t\\t\\t<td><span class=\"earthData\">12,742 km</span> </td>\\n\\t\\t\\t\\t\\t\\t\\t</tr>\\n\\t\\t\\t\\t\\t\\t\\t<tr>\\n\\t\\t\\t\\t\\t\\t\\t\\t<th scope=\"row\">Mass:</th>\\n\\t\\t\\t\\t\\t\\t\\t\\t<td><span class=\"marsData\">6.39 × 10^23 kg </span></td>\\n\\t\\t\\t\\t\\t\\t\\t\\t<td><span class=\"earthData\">5.97 × 10^24 kg</span> </td>\\n\\t\\t\\t\\t\\t\\t\\t</tr>\\n\\t\\t\\t\\t\\t\\t\\t<tr>\\n\\t\\t\\t\\t\\t\\t\\t\\t<th scope=\"row\">Moons:</th>\\n\\t\\t\\t\\t\\t\\t\\t\\t<td><span class=\"marsData\">2</span></td>\\n\\t\\t\\t\\t\\t\\t\\t\\t<td><span class=\"earthData\">1</span> </td>\\n\\t\\t\\t\\t\\t\\t\\t</tr>\\n\\t\\t\\t\\t\\t\\t\\t<tr>\\n\\t\\t\\t\\t\\t\\t\\t\\t<th scope=\"row\">Distance from Sun:</th>\\n\\t\\t\\t\\t\\t\\t\\t\\t<td><span class=\"marsData\">227,943,824 km</span></td>\\n\\t\\t\\t\\t\\t\\t\\t\\t<td><span class=\"earthData\">149,598,262 km</span> </td>\\n\\t\\t\\t\\t\\t\\t\\t</tr>\\n\\t\\t\\t\\t\\t\\t\\t<tr>\\n\\t\\t\\t\\t\\t\\t\\t\\t<th scope=\"row\">Length of Year:</th>\\n\\t\\t\\t\\t\\t\\t\\t\\t<td><span class=\"marsData\">687 Earth days</span></td>\\n\\t\\t\\t\\t\\t\\t\\t\\t<td><span class=\"earthData\">365.24 days</span> </td>\\n\\t\\t\\t\\t\\t\\t\\t</tr>\\n\\t\\t\\t\\t\\t\\t\\t<tr>\\n\\t\\t\\t\\t\\t\\t\\t\\t<th scope=\"row\">Length of Day:</th>\\n\\t\\t\\t\\t\\t\\t\\t\\t<td><span class=\"marsData\">24 hours 37 minutes</span></td>\\n\\t\\t\\t\\t\\t\\t\\t\\t<td><span class=\"earthData\">23 hours 56 minutes</span> </td>\\n\\t\\t\\t\\t\\t\\t\\t</tr>\\n\\t\\t\\t\\t\\t\\t\\t<tr>\\n\\t\\t\\t\\t\\t\\t\\t\\t<th scope=\"row\">Temperature:</th>\\n\\t\\t\\t\\t\\t\\t\\t\\t<td><span class=\"marsData\">-87 to -5 °C</span></td>\\n\\t\\t\\t\\t\\t\\t\\t\\t<td><span class=\"earthData\">-88 to 58°C</span> </td>\\n\\t\\t\\t\\t\\t\\t\\t</tr>\\n\\t\\t\\t\\t\\t\\t\\t<tr>\\n\\t\\t\\t\\t\\t\\t\\t\\t<th scope=\"row\">Atmosphere:</th>\\n\\t\\t\\t\\t\\t\\t\\t\\t<td><span class=\"marsData\">mostly carbon dioxide, some water vapor</span></td>\\n\\t\\t\\t\\t\\t\\t\\t\\t<td><span class=\"earthData\">nitrogen, oxygen, argon, others</span> </td>\\n\\t\\t\\t\\t\\t\\t\\t\\t</tr>\\n\\t\\t\\t\\t\\t\\t\\t</tbody>\\n\\t\\t\\t\\t\\t\\t</table>\\n\\t\\t\\t\\t\\t</div>\\n\\n\\t\\t\\t\\t\\t<h3 class=\"mt-5\">Mars Features</h3>\\n\\t\\t\\t\\t\\t<h4 class=\"mt-3\">Moons</h4>\\n\\t\\t\\t\\t\\t<p>Mars has two small moons, <span class=\"red\">Phobos</span> and <span class=\"red\">Deimos</span>. They were discovered in 1877 by astronomer Asaph Hall, who named them for the Latin terms “fear” and “panic”. These moons are thought to be captured asteroids and are among the smallest natural satellites in the solar system.</p>\\n\\n\\t\\t\\t\\t\\t<table class=\"table table-dark\" id=\"moons-table\">\\n\\t\\t\\t\\t\\t\\t\\n\\t\\t\\t\\t\\t\\t<tbody>\\n\\t\\t\\t\\t\\t\\t<tr>\\n\\t\\t\\t\\t\\t\\t\\t<th scope=\"row\"></th>\\n\\t\\t\\t\\t\\t\\t\\t<td><b> PHOBOS (fear)</b></td>\\n\\t\\t\\t\\t\\t\\t\\t<td><b>DEIMOS (panic)</b></td>\\n\\t\\t\\t\\t\\t\\t</tr>\\n\\t\\t\\t\\t\\t\\t<tr>\\n\\t\\t\\t\\t\\t\\t\\t<th scope=\"row\">Mean distance from Mars (km)</th>\\n\\t\\t\\t\\t\\t\\t\\t<td><span class=\"moons\">9,377 km</span></td>\\n\\t\\t\\t\\t\\t\\t\\t<td><span class=\"moons\">23,436 km</span> </td>\\n\\t\\t\\t\\t\\t\\t</tr>\\n\\t\\t\\t\\t\\t\\t<tr>\\n\\t\\t\\t\\t\\t\\t\\t<th scope=\"row\">Orbital period (Mars days)</th>\\n\\t\\t\\t\\t\\t\\t\\t<td><span class=\"moons\">0.31891</span></td>\\n\\t\\t\\t\\t\\t\\t\\t<td><span class=\"moons\">1.26244</span> </td>\\n\\t\\t\\t\\t\\t\\t</tr>\\n\\t\\t\\t\\t\\t\\t<tr>\\n\\t\\t\\t\\t\\t\\t\\t<th scope=\"row\">Major axis (km)</th>\\n\\t\\t\\t\\t\\t\\t\\t<td><span class=\"moons\">26</span></td>\\n\\t\\t\\t\\t\\t\\t\\t<td><span class=\"moons\">16</span> </td>\\n\\t\\t\\t\\t\\t\\t</tr>\\n\\t\\t\\t\\t\\t\\t<tr>\\n\\t\\t\\t\\t\\t\\t\\t<th scope=\"row\">Minor axis (km)</th>\\n\\t\\t\\t\\t\\t\\t\\t<td><span class=\"moons\">18</span></td>\\n\\t\\t\\t\\t\\t\\t\\t<td><span class=\"moons\">10</span> </td>\\n\\t\\t\\t\\t\\t\\t</tr>\\n\\t\\t\\t\\t\\t\\t<tr>\\n\\t\\t\\t\\t\\t\\t\\t<th scope=\"row\">LMass (x 1015 kg)</th>\\n\\t\\t\\t\\t\\t\\t\\t<td><span class=\"moons\">10.8</span></td>\\n\\t\\t\\t\\t\\t\\t\\t<td><span class=\"moons\">1.8</span> </td>\\n\\t\\t\\t\\t\\t\\t</tr>\\n\\t\\t\\t\\t\\t\\t<tr>\\n\\t\\t\\t\\t\\t\\t\\t<th scope=\"row\">Mean density (kg/m3)</th>\\n\\t\\t\\t\\t\\t\\t\\t<td><span class=\"moons\">1,900</span></td>\\n\\t\\t\\t\\t\\t\\t\\t<td><span class=\"moons\">1,750</span> </td>\\n\\t\\t\\t\\t\\t\\t</tr>\\n\\t\\t\\t\\t\\t\\t</tbody>\\n\\t\\t\\t\\t\\t</table>\\n\\t\\t\\t\\t</div>\\n\\t\\t\\t</div>\\n\\n\\t\\t\\t<h5>RELATED SPACE FACTS:</h5>\\n\\t\\t\\t<div class=\"col-md-12\">\\n\\t\\t\\t\\t<div class=\"row\">\\n\\t\\t\\t\\t\\t<div class=\"col-md-4\" style=\"padding: 6px;\">\\n\\t\\t\\t\\t\\t\\t<img src=\"images/earth_dscovr_320x240.jpeg\" class=\"img-fluid\" style=\"padding: 0px;\">\\n\\t\\t\\t\\t\\t\\t<p><span class=\"red\">Earth Facts</span> </p>\\n\\t\\t\\t\\t\\t</div>\\n\\t\\t\\t\\t\\t<div class=\"col-md-4\" style=\"padding: 6px;\">\\n\\t\\t\\t\\t\\t\\t<img src=\"images/2220_Eclipse_Panel-640x480.jpeg\" class=\"img-fluid\" style=\"padding: 0px;\">\\n\\t\\t\\t\\t\\t\\t<p><span class=\"red\"> Eclipse Facts </span></p>\\n\\t\\t\\t\\t\\t</div>\\n\\t\\t\\t\\t\\t<div class=\"col-md-4\" style=\"padding: 6px;\">\\n\\t\\t\\t\\t\\t\\t<img src=\"images/101_asteroids_480x320.jpeg\" class=\"img-fluid\" style=\"padding: 0px;\">\\n\\t\\t\\t\\t\\t\\t<p><span class=\"red\">Asteroid Facts</span></p>\\n\\t\\t\\t\\t\\t</div>\\n\\t\\t\\t\\t</div>\\n\\t\\t\\t</div>\\n\\t\\t\\t<div class=\"col-md-12\">\\n\\t\\t\\t\\t<div class=\"card border-info mb-3\">\\n\\t\\t\\t\\t\\t<div class=\"card-header\">References:</div>\\n\\t\\t\\t\\t\\t\\t<div class=\"card-body text-secondary\">\\n\\t\\t\\t\\t\\t\\t\\t<div class=\"row\">\\n\\t\\t\\t\\t\\t\\t\\t\\t<div class=\"col-md-6\">\\n\\t\\t\\t\\t\\t\\t\\t\\t\\t<h5 class=\"card-title ml-5\">Images</h5>\\n\\t\\t\\t\\t\\t\\t\\t\\t\\t<p class=\"card-text\">Images obtained from the NASA website in accordance with their <a href=\"https://www.nasa.gov/multimedia/guidelines/index.html\">Media Usage Guidelines</a>. \\n\\t\\t\\t\\t\\t\\t\\t\\t\\t</p>\\t\\n\\t\\t\\t\\t\\t\\t\\t\\t\\t<p class=\"card-text\">\\t\\t\\t\\t\\n\\t\\t\\t\\t\\t\\t\\t\\t\\t\\t</p><ul>\\n\\t\\t\\t\\t\\t\\t\\t\\t\\t\\t\\t<li><a href=\"https://solarsystem.nasa.gov/resources/683/valles-marineris-the-grand-canyon-of-mars/\">Valles Marineris: The Grand Canyon of Mars</a></li>\\n\\t\\t\\t\\t\\t\\t\\t\\t\\t\\t\\t<li><a href=\"https://solarsystem.nasa.gov/planets/overview/\">NASA Solar System Exploration: Planets</a></li>\\n\\t\\t\\t\\t\\t\\t\\t\\t\\t\\t\\t<li><a href=\"https://solarsystem.nasa.gov/resources/2332/as-the-world-turns/\">As the World Turns</a></li>\\n\\t\\t\\t\\t\\t\\t\\t\\t\\t\\t\\t<li><a href=\"https://solarsystem.nasa.gov/eclipses/home/\">Eclipses</a></li>\\n\\t\\t\\t\\t\\t\\t\\t\\t\\t\\t\\t<li><a href=\"https://solarsystem.nasa.gov/asteroids-comets-and-meteors/asteroids/overview/\">NASA Solar System Exploration: Asteroids</a></li>\\n\\t\\t\\t\\t\\t\\t\\t\\t\\t\\t</ul>\\n\\t\\t\\t\\t\\t\\t\\t\\t\\t<p></p>\\n\\t\\t\\t\\t\\t\\t\\t\\t\\t<p class=\"card-text\">Additional images produced by edX Boot Camps LLC for educational purposes only.\\n\\t\\t\\t\\t\\t\\t\\t\\t\\t</p>\\n\\t\\t\\t\\t\\t\\t\\t\\t</div>\\n\\t\\t\\t\\t\\t\\t\\t\\t<div class=\"col-md-6\">\\n\\t\\t\\t\\t\\t\\t\\t\\t\\t<h5 class=\"card-title\">Data Sources</h5>\\n\\t\\t\\t\\t\\t\\t\\t\\t\\t<p class=\"card-text datasource\">\\t\\t\\t\\t\\n\\t\\t\\t\\t\\t\\t\\t\\t\\t\\t</p><ul>\\n\\t\\t\\t\\t\\t\\t\\t\\t\\t\\t\\t<li><a href=\"https://nssdc.gsfc.nasa.gov/planetary/factsheet/marsfact.html\">Mars Fact Sheet (NASA)</a></li>\\n\\t\\t\\t\\t\\t\\t\\t\\t\\t\\t\\t<li><a href=\"https://mars.nasa.gov/all-about-mars/facts/\">Interactive Mars Facts (NASA)</a></li>\\n\\t\\t\\t\\t\\t\\t\\t\\t\\t\\t\\t<li><a href=\"https://mars.nasa.gov/all-about-mars/moons/summary/\">Mars Moons (NASA)</a></li>\\n\\t\\t\\t\\t\\t\\t\\t\\t\\t\\t</ul>\\n\\t\\t\\t\\t\\t\\t\\t\\t\\t<p></p>\\n\\t\\t\\t\\t\\t\\t\\t\\t</div>\\n\\t\\t\\t\\t\\t\\t\\t</div>\\n\\t\\t\\t\\t\\t\\t</div>\\n\\t\\t\\t\\t\\t</div>\\n\\t\\t\\t\\t</div>\\n\\t\\t\\t</div>\\n\\n\\t\\t</div>\\n\\t</div>\\t\\n\\n\\n<div class=\"footer \">\\n\\t<div class=\"container\">\\n\\t\\t<div class=\"row\">\\n\\t\\t\\t<div class=\"col-md-8\">\\n\\t\\t\\t\\t&nbsp;\\n\\t\\t\\t</div>\\n\\t\\t\\t<div class=\"col-md-4\">\\n\\t\\t\\t\\t<p class=\"right\">\\n\\t\\t\\t\\t\\t</p><ul>\\n\\t\\t\\t\\t\\t\\t<li>Blog</li>\\n\\t\\t\\t\\t\\t\\t<li>About</li>\\n\\t\\t\\t\\t\\t\\t<li>Contact</li>\\n\\t\\t\\t\\t\\t\\t<li>Privacy Policy</li>\\n\\t\\t\\t\\t\\t</ul>\\n\\t\\t\\t\\t<p></p>\\n\\t\\t\\t</div>\\n\\t\\t</div>\\n\\t\\t<p id=\"edx\">This site is operated by edX Boot Camps LLC for educational purposes only.</p>\\n\\t</div>\\t\\n</div>\\n\\n\\n\\n<script src=\"js/bootstrap.bundle.min.5.2.2.js\"></script>\\n\\n</body></html>'"
      ]
     },
     "execution_count": 4,
     "metadata": {},
     "output_type": "execute_result"
    }
   ],
   "source": [
    "html"
   ]
  },
  {
   "cell_type": "code",
   "execution_count": 5,
   "metadata": {},
   "outputs": [],
   "source": [
    "# Find the table\n",
    "table = soup.find('table', class_='table-striped')"
   ]
  },
  {
   "cell_type": "code",
   "execution_count": 6,
   "metadata": {},
   "outputs": [],
   "source": [
    "# Store the table\n",
    "mars_facts = {}\n",
    "rows = table.find_all('tr')\n",
    "\n",
    "# Loop through the rows\n",
    "for row in rows:\n",
    "    row_heading = row.find('th').text\n",
    "    row_data = row.find('td').text.strip()\n",
    "    mars_facts[row_heading] = row_data"
   ]
  },
  {
   "cell_type": "code",
   "execution_count": 7,
   "metadata": {},
   "outputs": [
    {
     "data": {
      "text/plain": [
       "{'Equatorial Diameter:': '6,792 km',\n",
       " 'Polar Diameter:': '6,752 km',\n",
       " 'Mass:': '6.39 × 10^23 kg (0.11 Earths)',\n",
       " 'Moons:': '2 (Phobos  &  Deimos)',\n",
       " 'Orbit Distance:': '227,943,824 km (1.38 AU)',\n",
       " 'Orbit Period:': '687 days (1.9 years)',\n",
       " 'Surface Temperature:': '-87 to -5 °C',\n",
       " 'First Record:': '2nd millennium BC',\n",
       " 'Recorded By:': 'Egyptian astronomers'}"
      ]
     },
     "execution_count": 7,
     "metadata": {},
     "output_type": "execute_result"
    }
   ],
   "source": [
    "# Display the scraped table dictionary\n",
    "mars_facts"
   ]
  },
  {
   "cell_type": "code",
   "execution_count": 8,
   "metadata": {},
   "outputs": [],
   "source": [
    "# Quit the browsing session\n",
    "browser.quit()"
   ]
  },
  {
   "cell_type": "code",
   "execution_count": null,
   "metadata": {},
   "outputs": [],
   "source": []
  }
 ],
 "metadata": {
  "kernelspec": {
   "display_name": "Python 3 (ipykernel)",
   "language": "python",
   "name": "python3"
  },
  "language_info": {
   "codemirror_mode": {
    "name": "ipython",
    "version": 3
   },
   "file_extension": ".py",
   "mimetype": "text/x-python",
   "name": "python",
   "nbconvert_exporter": "python",
   "pygments_lexer": "ipython3",
   "version": "3.10.13"
  },
  "vscode": {
   "interpreter": {
    "hash": "31f2aee4e71d21fbe5cf8b01ff0e069b9275f58929596ceb00d14d90e3e16cd6"
   }
  }
 },
 "nbformat": 4,
 "nbformat_minor": 4
}
