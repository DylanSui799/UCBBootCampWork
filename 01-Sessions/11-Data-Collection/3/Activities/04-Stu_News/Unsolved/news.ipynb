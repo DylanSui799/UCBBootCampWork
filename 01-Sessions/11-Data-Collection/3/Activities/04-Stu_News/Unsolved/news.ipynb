{
 "cells": [
  {
   "cell_type": "code",
   "execution_count": 3,
   "metadata": {},
   "outputs": [],
   "source": [
    "from splinter import Browser\n",
    "from bs4 import BeautifulSoup\n",
    "\n",
    "browser=Browser('chrome')"
   ]
  },
  {
   "cell_type": "code",
   "execution_count": 4,
   "metadata": {},
   "outputs": [],
   "source": [
    "# Visit the URL\n",
    "url = \"https://globalvoices.org/page/2/\"\n",
    "browser.visit(url)\n",
    "\n",
    "# Parse the HTML\n",
    "html = browser.html\n",
    "soup = BeautifulSoup(html, 'html.parser')"
   ]
  },
  {
   "cell_type": "code",
   "execution_count": 5,
   "metadata": {},
   "outputs": [],
   "source": [
    "# Close the dialogue box\n",
    "browser.links.find_by_partial_text(\"Close\").click()"
   ]
  },
  {
   "cell_type": "code",
   "execution_count": 6,
   "metadata": {},
   "outputs": [],
   "source": [
    "html = browser.html\n",
    "soup = BeautifulSoup(html, 'html.parser')\n",
    "main_area = soup.find(\"div\", class_=\"post-archive-container\")"
   ]
  },
  {
   "cell_type": "code",
   "execution_count": 13,
   "metadata": {},
   "outputs": [
    {
     "data": {
      "text/plain": [
       "\"‘The bass is the backbone': Wailers’ bass player Aston ‘Family Man’ Barrett passes away, age 77\""
      ]
     },
     "execution_count": 13,
     "metadata": {},
     "output_type": "execute_result"
    }
   ],
   "source": [
    "articles = main_area.find_all(\"div\",class_=\"gv-promo-card-text\")\n",
    "header = articles[0].find(\"h3\", class_=\"post-title\").text.strip()\n",
    "header"
   ]
  },
  {
   "cell_type": "code",
   "execution_count": 15,
   "metadata": {},
   "outputs": [
    {
     "data": {
      "text/plain": [
       "'5 _02 2024'"
      ]
     },
     "execution_count": 15,
     "metadata": {},
     "output_type": "execute_result"
    }
   ],
   "source": [
    "date = articles[0].find(\"span\", class_=\"datestamp\")[\"title\"]\n",
    "date"
   ]
  },
  {
   "cell_type": "code",
   "execution_count": 17,
   "metadata": {},
   "outputs": [
    {
     "data": {
      "text/plain": [
       "'5 02 2024'"
      ]
     },
     "execution_count": 17,
     "metadata": {},
     "output_type": "execute_result"
    }
   ],
   "source": [
    "date = date.replace('_', '')\n",
    "date"
   ]
  },
  {
   "cell_type": "code",
   "execution_count": 18,
   "metadata": {},
   "outputs": [],
   "source": [
    "# Create a function to perform the web scraping\n",
    "def get_summary():\n",
    "    # Collect the HTML from the browser\n",
    "    html = browser.html\n",
    "    # Parse the HTML with Beautiful Soup\n",
    "    soup = BeautifulSoup(html, 'html.parser')\n",
    "    # Save the main area of the web page to a variable\n",
    "    main_area = soup.find(\"div\", class_=\"post-archive-container\")\n",
    "    # Find all the articles in the main area of the web page\n",
    "    articles = main_area.find_all(\"div\",class_=\"gv-promo-card-text\")\n",
    "    # Create an empty list to hold summaries\n",
    "    summary_list = []\n",
    "    \n",
    "    # Loop through the articles\n",
    "    for article in articles:\n",
    "        # Collect the article title\n",
    "        header = article.find(\"h3\", class_=\"post-title\").text.strip()\n",
    "        # Collect the article date\n",
    "        date = article.find(\"span\", class_=\"datestamp\")[\"title\"]\n",
    "        # Remove the underscore from the date\n",
    "        date = date.replace('_', '')\n",
    "        # Create the summary dictionary\n",
    "        summary_dict = {\n",
    "            \"header\": header,\n",
    "            \"date\": date\n",
    "        }\n",
    "        # Append the summary dictionary to the list\n",
    "        summary_list.append(summary_dict)\n",
    "        \n",
    "    # Return the list of summaries\n",
    "    return summary_list\n",
    "    "
   ]
  },
  {
   "cell_type": "code",
   "execution_count": 19,
   "metadata": {},
   "outputs": [],
   "source": [
    "# Create a loop to collect the article summaries and click to the older article pages 5 times\n",
    "articles_list = []\n",
    "for _ in range(5):\n",
    "    summary = get_summary()\n",
    "    articles_list.extend(summary)\n",
    "    browser.links.find_by_partial_text(\"Older\").click()"
   ]
  },
  {
   "cell_type": "code",
   "execution_count": 20,
   "metadata": {
    "scrolled": true
   },
   "outputs": [
    {
     "data": {
      "text/plain": [
       "[{'header': \"‘The bass is the backbone': Wailers’ bass player Aston ‘Family Man’ Barrett passes away, age 77\",\n",
       "  'date': '5 02 2024'},\n",
       " {'header': 'How Myanmar journalists can help build a federal democracy',\n",
       "  'date': '2 02 2024'},\n",
       " {'header': \"The perils of extracting limestone in Nepal's Indigenous Chepang communities\",\n",
       "  'date': '2 02 2024'},\n",
       " {'header': 'In Georgia cabinet reshuffling begins after former Prime Minister returns to politics',\n",
       "  'date': '2 02 2024'},\n",
       " {'header': 'In Kazakhstan, ‘Bloody January’ is still a taboo topic',\n",
       "  'date': '2 02 2024'},\n",
       " {'header': \"The Comoros's incumbent president re-elected: Towards an electoral crisis?\",\n",
       "  'date': '2 02 2024'},\n",
       " {'header': \"‘Remember the name': The unlikely triumph of Guyana's Shamar Joseph has brought joy to West Indies cricket fans\",\n",
       "  'date': '2 02 2024'},\n",
       " {'header': 'Hong Kong’s homegrown security law seeks to define ‘state secrets’ along China’s legislative line',\n",
       "  'date': '1 02 2024'},\n",
       " {'header': 'The burden of women with HIV in Bolivia', 'date': '31 01 2024'},\n",
       " {'header': 'Ghanaians’ reactions to the UK loaning back treasures it looted from them',\n",
       "  'date': '31 01 2024'},\n",
       " {'header': 'Could the Caribbean bridge the gap between culture and sustainability?',\n",
       "  'date': '31 01 2024'},\n",
       " {'header': 'Celebrities, celebration, and a touch of controversy at the Jamaica premiere of the Marley biopic ‘One Love’',\n",
       "  'date': '31 01 2024'},\n",
       " {'header': \"Turkey's sweet F-16s deal\", 'date': '31 01 2024'},\n",
       " {'header': 'The true cost of Japan’s Linear bullet train',\n",
       "  'date': '31 01 2024'},\n",
       " {'header': 'Uzbekistan’s repression survivors tell their harrowing stories in a new documentary',\n",
       "  'date': '30 01 2024'},\n",
       " {'header': 'Hong Kong kickstarts local national security law legislation with explaining and rebuttal teams',\n",
       "  'date': '30 01 2024'},\n",
       " {'header': 'Serbian media blame Armenian ‘betrayal’ of Russia for the fall of Nagorno-Karabakh',\n",
       "  'date': '30 01 2024'},\n",
       " {'header': 'Jamaica is developing, but at what cost?', 'date': '30 01 2024'},\n",
       " {'header': 'Fleeing home as a queer Ukrainian', 'date': '29 01 2024'},\n",
       " {'header': 'Why are Afghans still seeking out the ‘weakest’ passport in the world?',\n",
       "  'date': '29 01 2024'},\n",
       " {'header': 'Council of Europe members vote to suspend Azerbaijan',\n",
       "  'date': '29 01 2024'},\n",
       " {'header': \"Can Indonesia's President Jokowi remain neutral while his son runs for vice president?\",\n",
       "  'date': '27 01 2024'},\n",
       " {'header': 'How a Nigerian mother supported her son with Down syndrome to become a successful Olympian',\n",
       "  'date': '27 01 2024'},\n",
       " {'header': 'In northern Uganda, war survivors and comfort dogs are ‘healing together’',\n",
       "  'date': '26 01 2024'},\n",
       " {'header': 'British journalist Myriam Francois hits back on Houthi bombings and Red Sea conflict',\n",
       "  'date': '26 01 2024'},\n",
       " {'header': 'Why did Taiwan impose a five-year visa ban on an influential mainland Chinese dissent journalist?',\n",
       "  'date': '26 01 2024'},\n",
       " {'header': 'Exploring migration, belonging and the meaning of home in Sri Lanka',\n",
       "  'date': '26 01 2024'},\n",
       " {'header': 'National broadcaster axes Australian journalist Antoinette Lattouf over Gaza social media post',\n",
       "  'date': '26 01 2024'},\n",
       " {'header': 'In Gaza, trapped in the rubble, body and soul',\n",
       "  'date': '25 01 2024'},\n",
       " {'header': 'Desert blues: From Tuareg rebellion to global airwaves',\n",
       "  'date': '25 01 2024'},\n",
       " {'header': 'Eight articles to help you understand the violence in Ecuador',\n",
       "  'date': '25 01 2024'},\n",
       " {'header': 'The role of climate-smart agriculture in Guyana’s push to reduce food imports',\n",
       "  'date': '25 01 2024'},\n",
       " {'header': 'Pass of Death: The treacherous route taken by migrants trying to cross illegally from Italy to France',\n",
       "  'date': '24 01 2024'},\n",
       " {'header': 'Online attacks on presidential candidates in Venezuela have a distinct gendered angle, study shows',\n",
       "  'date': '24 01 2024'},\n",
       " {'header': 'Benin: The National Vodun Festival is now ‘Vodun Days’',\n",
       "  'date': '24 01 2024'},\n",
       " {'header': 'A Brazilian municipality has approved a bill written by ChatGPT',\n",
       "  'date': '22 01 2024'},\n",
       " {'header': '‘Marta’ is now an award for the best goal scored in women’s football',\n",
       "  'date': '22 01 2024'},\n",
       " {'header': 'Uzbekistan is finally starting to address its air pollution problem',\n",
       "  'date': '22 01 2024'},\n",
       " {'header': 'In Azerbaijan, the stakes are always high for political activists',\n",
       "  'date': '22 01 2024'},\n",
       " {'header': 'Russian series on Perestroika-era youth gangs breaks popularity records, defying attempts to ban it',\n",
       "  'date': '22 01 2024'},\n",
       " {'header': 'Terrorists from Tajikistan have become a global menace',\n",
       "  'date': '22 01 2024'},\n",
       " {'header': 'Do national parks and wildlife conservation regulations in Nepal benefit Indigenous people?',\n",
       "  'date': '22 01 2024'},\n",
       " {'header': 'First Turkish astronaut travels into space',\n",
       "  'date': '20 01 2024'},\n",
       " {'header': 'Pensions are a trap of the Sandinista regime in Nicaragua',\n",
       "  'date': '19 01 2024'},\n",
       " {'header': \"Residents of Rio de Janeiro's favelas make unprecedented claim for reparations for persecution under dictatorship\",\n",
       "  'date': '19 01 2024'},\n",
       " {'header': 'From silence to symbols: How Thais are employing language in new ways towards freedom of expression',\n",
       "  'date': '19 01 2024'},\n",
       " {'header': \"Navigating Rwanda's media landscape ahead of the upcoming election\",\n",
       "  'date': '19 01 2024'},\n",
       " {'header': 'Indonesian candidates urged to address human rights concerns',\n",
       "  'date': '19 01 2024'},\n",
       " {'header': 'Amidst floods in Brazil, government minister turns environmental racism into a national debate',\n",
       "  'date': '19 01 2024'},\n",
       " {'header': 'Jamaica-born Jason Allen-Paisant is the latest Caribbean poet to win the esteemed T.S. Eliot Prize',\n",
       "  'date': '19 01 2024'},\n",
       " {'header': 'Photo essay: Provisions, pots, and firewood',\n",
       "  'date': '18 01 2024'},\n",
       " {'header': 'The femicide of Julieta Hernández, a Venezuelan migrant in Brazil, sparks outrage across South America',\n",
       "  'date': '17 01 2024'},\n",
       " {'header': 'Will Lebanon be dragged into a comprehensive war?',\n",
       "  'date': '17 01 2024'},\n",
       " {'header': 'Can a third political party realistically compete and thrive in Ghana?',\n",
       "  'date': '17 01 2024'},\n",
       " {'header': 'Azerbaijan ‘successfully’ uncovers another spy network',\n",
       "  'date': '17 01 2024'},\n",
       " {'header': 'The Socotri language straddling survival amidst the absence of technology',\n",
       "  'date': '17 01 2024'},\n",
       " {'header': \"Desi Bouterse's post-conviction disappearance leaves Suriname in turmoil\",\n",
       "  'date': '16 01 2024'},\n",
       " {'header': \"‘The will of the Chinese people’: Beijing's narrative of invading Taiwan\",\n",
       "  'date': '16 01 2024'},\n",
       " {'header': 'Belarusians returning home from immigration receive criminal charges',\n",
       "  'date': '16 01 2024'},\n",
       " {'header': \"In search of Australia's treasured koala\", 'date': '16 01 2024'},\n",
       " {'header': 'Moldova chose finalists of the national selection for the Eurovision 2024',\n",
       "  'date': '15 01 2024'},\n",
       " {'header': 'Documentary about the protest of soldiers’ wives, sisters and mothers created in Russia',\n",
       "  'date': '15 01 2024'},\n",
       " {'header': 'Establishing Nepal in the international literature scene: An interview with translator Jayant Sharma',\n",
       "  'date': '15 01 2024'},\n",
       " {'header': '‘I am Taiwanese now’: Hongkongers who have moved to the democratic island cherish their right to vote',\n",
       "  'date': '15 01 2024'},\n",
       " {'header': 'Taiwan election 2024: Ruling DPP fails to retain legislative majority after winning presidential race',\n",
       "  'date': '15 01 2024'},\n",
       " {'header': 'Kyrgyzstan’s self-proclaimed ‘new God’ and former presidential candidate found dead\\xa0in prison',\n",
       "  'date': '13 01 2024'},\n",
       " {'header': 'Indonesian court acquits two activists over charges of defaming government minister',\n",
       "  'date': '13 01 2024'},\n",
       " {'header': 'When it comes to FOMO, in Trinidad & Tobago the struggle is real',\n",
       "  'date': '12 01 2024'},\n",
       " {'header': 'The spirited competition between Ghanaians and Nigerians continues to fuel greatness among its citizens',\n",
       "  'date': '12 01 2024'},\n",
       " {'header': \"DRC: opposition groups are decrying President Félix Tshisekedi's re-election as fraudulent\",\n",
       "  'date': '12 01 2024'},\n",
       " {'header': 'In Georgia, controversy over a Stalin icon makes headlines at home and abroad',\n",
       "  'date': '12 01 2024'},\n",
       " {'header': \"Georgia's infamous former Prime Minister returns to politics\",\n",
       "  'date': '12 01 2024'},\n",
       " {'header': 'Man jailed for three months for wearing ‘seditious’ shirt with protest slogan at Hong Kong airport',\n",
       "  'date': '12 01 2024'},\n",
       " {'header': 'Creuza Oliveira: The first domestic worker celebrated with the honorary doctorate in Brazil',\n",
       "  'date': '11 01 2024'},\n",
       " {'header': 'The descendants of Buryat migrants in Mongolia have no feelings towards Russia',\n",
       "  'date': '11 01 2024'},\n",
       " {'header': 'Kazakhstan’s national identity is deeply connected to its food culture',\n",
       "  'date': '11 01 2024'},\n",
       " {'header': \"Kenya's new visa-free policy implementation faces backlash\",\n",
       "  'date': '11 01 2024'},\n",
       " {'header': 'South Africa and Israel meet at the International Court of Justice',\n",
       "  'date': '11 01 2024'},\n",
       " {'header': 'Ko Wen-ji, a third-party presidential candidate, may permanently change Taiwan’s two-party system',\n",
       "  'date': '11 01 2024'},\n",
       " {'header': \"Is the Bouterse verdict a symbol of justice in Suriname's turbulent past?\",\n",
       "  'date': '10 01 2024'},\n",
       " {'header': 'A New Zealand Minister’s ‘war’ with the media',\n",
       "  'date': '10 01 2024'},\n",
       " {'header': 'Slovenian rock stars Joker Out: From high school band to post-Eurovision success',\n",
       "  'date': '9 01 2024'},\n",
       " {'header': 'In Turkey, two football teams spur public debate',\n",
       "  'date': '9 01 2024'},\n",
       " {'header': \"Three Maldivian deputy ministers disciplined over social media comments about India's PM\",\n",
       "  'date': '9 01 2024'},\n",
       " {'header': 'Advocate for migrant rights persists despite threats from Thai and Cambodian officials',\n",
       "  'date': '9 01 2024'},\n",
       " {'header': 'Taiwan election 2024: The three presidential candidates’ views about relations with China',\n",
       "  'date': '8 01 2024'},\n",
       " {'header': 'Nigerians rally online to demand justice for student shot by Canadian police',\n",
       "  'date': '6 01 2024'},\n",
       " {'header': 'Bangladesh is heading for a one-sided general election',\n",
       "  'date': '6 01 2024'},\n",
       " {'header': 'How African nations could successfully navigate the electoral process in 2024',\n",
       "  'date': '6 01 2024'},\n",
       " {'header': \"What did Central Asian presidents talk about in their New Year's addresses?\",\n",
       "  'date': '5 01 2024'},\n",
       " {'header': 'In Trinidad & Tobago, a violent start to the new year',\n",
       "  'date': '5 01 2024'},\n",
       " {'header': 'The silent decline of childhood vaccination in Latin America',\n",
       "  'date': '4 01 2024'},\n",
       " {'header': 'In the shadows of self-censorship: The impact of the Cyber Security Act on Bangladesh’s LGBTQ+ movement',\n",
       "  'date': '4 01 2024'},\n",
       " {'header': 'Want to learn more about Nepal? Visit Ask me about Nepal',\n",
       "  'date': '4 01 2024'},\n",
       " {'header': '‘Eternal president’ and transitionary motive in Azerbaijan’s snap election',\n",
       "  'date': '4 01 2024'},\n",
       " {'header': 'Beijing dismisses election interference allegations amid aircraft and balloon intrusion',\n",
       "  'date': '4 01 2024'},\n",
       " {'header': 'Ukraine prepares to serve veterans with disabilities',\n",
       "  'date': '3 01 2024'},\n",
       " {'header': 'A horse for a car — a tale of modern diplomacy between Turkey and Hungary',\n",
       "  'date': '3 01 2024'},\n",
       " {'header': \"In Azerbaijan, President Ilham Aliyev's family takes on farming as a new lucrative business venture\",\n",
       "  'date': '3 01 2024'},\n",
       " {'header': 'On the first day of 2024, former Trinidad & Tobago prime minister Basdeo Panday dies',\n",
       "  'date': '2 01 2024'},\n",
       " {'header': 'The Sniper Alley Project: Testimony to the resilience of Sarajevo siege survivors',\n",
       "  'date': '2 01 2024'},\n",
       " {'header': 'Between four walls: The suppressed voices of peace in Azerbaijan',\n",
       "  'date': '1 01 2024'},\n",
       " {'header': 'Unveiling the most read articles about Africa on Global Voices in 2023',\n",
       "  'date': '31 12 2023'},\n",
       " {'header': 'Looking forward to 2024: A year of crucial elections in South Asia',\n",
       "  'date': '31 12 2023'},\n",
       " {'header': 'Cyberbullying hinders women’s participation in Indonesia’s 2024 elections',\n",
       "  'date': '30 12 2023'}]"
      ]
     },
     "execution_count": 20,
     "metadata": {},
     "output_type": "execute_result"
    }
   ],
   "source": [
    "# Print the articles list\n",
    "articles_list"
   ]
  },
  {
   "cell_type": "code",
   "execution_count": 22,
   "metadata": {},
   "outputs": [
    {
     "data": {
      "text/html": [
       "<div>\n",
       "<style scoped>\n",
       "    .dataframe tbody tr th:only-of-type {\n",
       "        vertical-align: middle;\n",
       "    }\n",
       "\n",
       "    .dataframe tbody tr th {\n",
       "        vertical-align: top;\n",
       "    }\n",
       "\n",
       "    .dataframe thead th {\n",
       "        text-align: right;\n",
       "    }\n",
       "</style>\n",
       "<table border=\"1\" class=\"dataframe\">\n",
       "  <thead>\n",
       "    <tr style=\"text-align: right;\">\n",
       "      <th></th>\n",
       "      <th>header</th>\n",
       "      <th>date</th>\n",
       "    </tr>\n",
       "  </thead>\n",
       "  <tbody>\n",
       "    <tr>\n",
       "      <th>0</th>\n",
       "      <td>‘The bass is the backbone': Wailers’ bass play...</td>\n",
       "      <td>5 02 2024</td>\n",
       "    </tr>\n",
       "    <tr>\n",
       "      <th>1</th>\n",
       "      <td>How Myanmar journalists can help build a feder...</td>\n",
       "      <td>2 02 2024</td>\n",
       "    </tr>\n",
       "    <tr>\n",
       "      <th>2</th>\n",
       "      <td>The perils of extracting limestone in Nepal's ...</td>\n",
       "      <td>2 02 2024</td>\n",
       "    </tr>\n",
       "    <tr>\n",
       "      <th>3</th>\n",
       "      <td>In Georgia cabinet reshuffling begins after fo...</td>\n",
       "      <td>2 02 2024</td>\n",
       "    </tr>\n",
       "    <tr>\n",
       "      <th>4</th>\n",
       "      <td>In Kazakhstan, ‘Bloody January’ is still a tab...</td>\n",
       "      <td>2 02 2024</td>\n",
       "    </tr>\n",
       "    <tr>\n",
       "      <th>...</th>\n",
       "      <td>...</td>\n",
       "      <td>...</td>\n",
       "    </tr>\n",
       "    <tr>\n",
       "      <th>100</th>\n",
       "      <td>The Sniper Alley Project: Testimony to the res...</td>\n",
       "      <td>2 01 2024</td>\n",
       "    </tr>\n",
       "    <tr>\n",
       "      <th>101</th>\n",
       "      <td>Between four walls: The suppressed voices of p...</td>\n",
       "      <td>1 01 2024</td>\n",
       "    </tr>\n",
       "    <tr>\n",
       "      <th>102</th>\n",
       "      <td>Unveiling the most read articles about Africa ...</td>\n",
       "      <td>31 12 2023</td>\n",
       "    </tr>\n",
       "    <tr>\n",
       "      <th>103</th>\n",
       "      <td>Looking forward to 2024: A year of crucial ele...</td>\n",
       "      <td>31 12 2023</td>\n",
       "    </tr>\n",
       "    <tr>\n",
       "      <th>104</th>\n",
       "      <td>Cyberbullying hinders women’s participation in...</td>\n",
       "      <td>30 12 2023</td>\n",
       "    </tr>\n",
       "  </tbody>\n",
       "</table>\n",
       "<p>105 rows × 2 columns</p>\n",
       "</div>"
      ],
      "text/plain": [
       "                                                header        date\n",
       "0    ‘The bass is the backbone': Wailers’ bass play...   5 02 2024\n",
       "1    How Myanmar journalists can help build a feder...   2 02 2024\n",
       "2    The perils of extracting limestone in Nepal's ...   2 02 2024\n",
       "3    In Georgia cabinet reshuffling begins after fo...   2 02 2024\n",
       "4    In Kazakhstan, ‘Bloody January’ is still a tab...   2 02 2024\n",
       "..                                                 ...         ...\n",
       "100  The Sniper Alley Project: Testimony to the res...   2 01 2024\n",
       "101  Between four walls: The suppressed voices of p...   1 01 2024\n",
       "102  Unveiling the most read articles about Africa ...  31 12 2023\n",
       "103  Looking forward to 2024: A year of crucial ele...  31 12 2023\n",
       "104  Cyberbullying hinders women’s participation in...  30 12 2023\n",
       "\n",
       "[105 rows x 2 columns]"
      ]
     },
     "execution_count": 22,
     "metadata": {},
     "output_type": "execute_result"
    }
   ],
   "source": [
    "# Import Pandas\n",
    "import pandas as pd\n",
    "# Convert the articles list to a Pandas DataFrame\n",
    "df = pd.DataFrame(articles_list)\n",
    "df"
   ]
  },
  {
   "cell_type": "code",
   "execution_count": 23,
   "metadata": {},
   "outputs": [
    {
     "name": "stdout",
     "output_type": "stream",
     "text": [
      "<class 'pandas.core.frame.DataFrame'>\n",
      "RangeIndex: 105 entries, 0 to 104\n",
      "Data columns (total 2 columns):\n",
      " #   Column  Non-Null Count  Dtype \n",
      "---  ------  --------------  ----- \n",
      " 0   header  105 non-null    object\n",
      " 1   date    105 non-null    object\n",
      "dtypes: object(2)\n",
      "memory usage: 1.8+ KB\n"
     ]
    }
   ],
   "source": [
    "df.info()"
   ]
  },
  {
   "cell_type": "code",
   "execution_count": 24,
   "metadata": {},
   "outputs": [],
   "source": [
    "# Convert the date column to a datetime data type\n",
    "df.date = pd.to_datetime(df.date, dayfirst=True)"
   ]
  },
  {
   "cell_type": "code",
   "execution_count": 25,
   "metadata": {
    "scrolled": true
   },
   "outputs": [
    {
     "name": "stdout",
     "output_type": "stream",
     "text": [
      "<class 'pandas.core.frame.DataFrame'>\n",
      "RangeIndex: 105 entries, 0 to 104\n",
      "Data columns (total 2 columns):\n",
      " #   Column  Non-Null Count  Dtype         \n",
      "---  ------  --------------  -----         \n",
      " 0   header  105 non-null    object        \n",
      " 1   date    105 non-null    datetime64[ns]\n",
      "dtypes: datetime64[ns](1), object(1)\n",
      "memory usage: 1.8+ KB\n"
     ]
    }
   ],
   "source": [
    "# Display the DataFrame\n",
    "df.info()"
   ]
  },
  {
   "cell_type": "code",
   "execution_count": 26,
   "metadata": {},
   "outputs": [
    {
     "data": {
      "text/html": [
       "<div>\n",
       "<style scoped>\n",
       "    .dataframe tbody tr th:only-of-type {\n",
       "        vertical-align: middle;\n",
       "    }\n",
       "\n",
       "    .dataframe tbody tr th {\n",
       "        vertical-align: top;\n",
       "    }\n",
       "\n",
       "    .dataframe thead th {\n",
       "        text-align: right;\n",
       "    }\n",
       "</style>\n",
       "<table border=\"1\" class=\"dataframe\">\n",
       "  <thead>\n",
       "    <tr style=\"text-align: right;\">\n",
       "      <th></th>\n",
       "      <th>header</th>\n",
       "      <th>date</th>\n",
       "    </tr>\n",
       "  </thead>\n",
       "  <tbody>\n",
       "    <tr>\n",
       "      <th>0</th>\n",
       "      <td>‘The bass is the backbone': Wailers’ bass play...</td>\n",
       "      <td>2024-02-05</td>\n",
       "    </tr>\n",
       "    <tr>\n",
       "      <th>1</th>\n",
       "      <td>How Myanmar journalists can help build a feder...</td>\n",
       "      <td>2024-02-02</td>\n",
       "    </tr>\n",
       "    <tr>\n",
       "      <th>2</th>\n",
       "      <td>The perils of extracting limestone in Nepal's ...</td>\n",
       "      <td>2024-02-02</td>\n",
       "    </tr>\n",
       "    <tr>\n",
       "      <th>3</th>\n",
       "      <td>In Georgia cabinet reshuffling begins after fo...</td>\n",
       "      <td>2024-02-02</td>\n",
       "    </tr>\n",
       "    <tr>\n",
       "      <th>4</th>\n",
       "      <td>In Kazakhstan, ‘Bloody January’ is still a tab...</td>\n",
       "      <td>2024-02-02</td>\n",
       "    </tr>\n",
       "    <tr>\n",
       "      <th>...</th>\n",
       "      <td>...</td>\n",
       "      <td>...</td>\n",
       "    </tr>\n",
       "    <tr>\n",
       "      <th>100</th>\n",
       "      <td>The Sniper Alley Project: Testimony to the res...</td>\n",
       "      <td>2024-01-02</td>\n",
       "    </tr>\n",
       "    <tr>\n",
       "      <th>101</th>\n",
       "      <td>Between four walls: The suppressed voices of p...</td>\n",
       "      <td>2024-01-01</td>\n",
       "    </tr>\n",
       "    <tr>\n",
       "      <th>102</th>\n",
       "      <td>Unveiling the most read articles about Africa ...</td>\n",
       "      <td>2023-12-31</td>\n",
       "    </tr>\n",
       "    <tr>\n",
       "      <th>103</th>\n",
       "      <td>Looking forward to 2024: A year of crucial ele...</td>\n",
       "      <td>2023-12-31</td>\n",
       "    </tr>\n",
       "    <tr>\n",
       "      <th>104</th>\n",
       "      <td>Cyberbullying hinders women’s participation in...</td>\n",
       "      <td>2023-12-30</td>\n",
       "    </tr>\n",
       "  </tbody>\n",
       "</table>\n",
       "<p>105 rows × 2 columns</p>\n",
       "</div>"
      ],
      "text/plain": [
       "                                                header       date\n",
       "0    ‘The bass is the backbone': Wailers’ bass play... 2024-02-05\n",
       "1    How Myanmar journalists can help build a feder... 2024-02-02\n",
       "2    The perils of extracting limestone in Nepal's ... 2024-02-02\n",
       "3    In Georgia cabinet reshuffling begins after fo... 2024-02-02\n",
       "4    In Kazakhstan, ‘Bloody January’ is still a tab... 2024-02-02\n",
       "..                                                 ...        ...\n",
       "100  The Sniper Alley Project: Testimony to the res... 2024-01-02\n",
       "101  Between four walls: The suppressed voices of p... 2024-01-01\n",
       "102  Unveiling the most read articles about Africa ... 2023-12-31\n",
       "103  Looking forward to 2024: A year of crucial ele... 2023-12-31\n",
       "104  Cyberbullying hinders women’s participation in... 2023-12-30\n",
       "\n",
       "[105 rows x 2 columns]"
      ]
     },
     "execution_count": 26,
     "metadata": {},
     "output_type": "execute_result"
    }
   ],
   "source": [
    "df"
   ]
  },
  {
   "cell_type": "code",
   "execution_count": 27,
   "metadata": {},
   "outputs": [],
   "source": [
    "# Close the browser\n",
    "browser.quit()"
   ]
  },
  {
   "cell_type": "code",
   "execution_count": null,
   "metadata": {},
   "outputs": [],
   "source": []
  }
 ],
 "metadata": {
  "kernelspec": {
   "display_name": "Python 3 (ipykernel)",
   "language": "python",
   "name": "python3"
  },
  "language_info": {
   "codemirror_mode": {
    "name": "ipython",
    "version": 3
   },
   "file_extension": ".py",
   "mimetype": "text/x-python",
   "name": "python",
   "nbconvert_exporter": "python",
   "pygments_lexer": "ipython3",
   "version": "3.10.13"
  }
 },
 "nbformat": 4,
 "nbformat_minor": 4
}
