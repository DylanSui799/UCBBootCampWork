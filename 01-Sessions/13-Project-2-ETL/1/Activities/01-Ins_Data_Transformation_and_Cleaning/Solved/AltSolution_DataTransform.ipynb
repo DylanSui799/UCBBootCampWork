{
 "cells": [
  {
   "cell_type": "code",
   "execution_count": 104,
   "id": "6bc313a0-db34-406a-9249-0103d526dbfc",
   "metadata": {},
   "outputs": [],
   "source": [
    "# Import the dependencies\n",
    "import pandas as pd"
   ]
  },
  {
   "cell_type": "code",
   "execution_count": 105,
   "id": "4228c9d1-ccd2-4666-b110-a7d3885ea57e",
   "metadata": {},
   "outputs": [
    {
     "data": {
      "text/html": [
       "<div>\n",
       "<style scoped>\n",
       "    .dataframe tbody tr th:only-of-type {\n",
       "        vertical-align: middle;\n",
       "    }\n",
       "\n",
       "    .dataframe tbody tr th {\n",
       "        vertical-align: top;\n",
       "    }\n",
       "\n",
       "    .dataframe thead th {\n",
       "        text-align: right;\n",
       "    }\n",
       "</style>\n",
       "<table border=\"1\" class=\"dataframe\">\n",
       "  <thead>\n",
       "    <tr style=\"text-align: right;\">\n",
       "      <th></th>\n",
       "      <th>Product ID,Category,Product,Size,Last Visited</th>\n",
       "    </tr>\n",
       "  </thead>\n",
       "  <tbody>\n",
       "    <tr>\n",
       "      <th>0</th>\n",
       "      <td>AH2430,Women's,Blazing Trail Shoes,Size 9,2020-04-13T15:06:15</td>\n",
       "    </tr>\n",
       "    <tr>\n",
       "      <th>1</th>\n",
       "      <td>G27341,Men's,Forest Trail Shoes,Size 11,2020-04-13T15:06:18</td>\n",
       "    </tr>\n",
       "    <tr>\n",
       "      <th>2</th>\n",
       "      <td>CM0081,Women's,Swift Running Shoes,Size 7,2020-04-13T15:06:20</td>\n",
       "    </tr>\n",
       "    <tr>\n",
       "      <th>3</th>\n",
       "      <td>B44832,Women's,Running Hard Shoes,Size 6,2020-04-13T15:06:23</td>\n",
       "    </tr>\n",
       "    <tr>\n",
       "      <th>4</th>\n",
       "      <td>D98205,Men's,Lite Racing Shoes,Size 10,2020-04-13T15:06:26</td>\n",
       "    </tr>\n",
       "    <tr>\n",
       "      <th>5</th>\n",
       "      <td>B75586,Men's,Running Rebound Shoes,Size 12,2020-04-13T15:06:30</td>\n",
       "    </tr>\n",
       "    <tr>\n",
       "      <th>6</th>\n",
       "      <td>CG4051,Women's,Inspired Victory Shoes,Size 8,2020-04-13T15:06:33</td>\n",
       "    </tr>\n",
       "    <tr>\n",
       "      <th>7</th>\n",
       "      <td>CM0080,Women's,Responsive Trail Shoes,Size 9,2020-04-13T15:06:36</td>\n",
       "    </tr>\n",
       "    <tr>\n",
       "      <th>8</th>\n",
       "      <td>B75990,Men's,Energy Boost Running Shoes,Size 13,2020-04-13T15:06:40</td>\n",
       "    </tr>\n",
       "    <tr>\n",
       "      <th>9</th>\n",
       "      <td>EE5761,Men's,Pure Bouncer Running Shoes,Size 9,2020-04-13T15:06:45</td>\n",
       "    </tr>\n",
       "  </tbody>\n",
       "</table>\n",
       "</div>"
      ],
      "text/plain": [
       "                         Product ID,Category,Product,Size,Last Visited\n",
       "0        AH2430,Women's,Blazing Trail Shoes,Size 9,2020-04-13T15:06:15\n",
       "1          G27341,Men's,Forest Trail Shoes,Size 11,2020-04-13T15:06:18\n",
       "2        CM0081,Women's,Swift Running Shoes,Size 7,2020-04-13T15:06:20\n",
       "3         B44832,Women's,Running Hard Shoes,Size 6,2020-04-13T15:06:23\n",
       "4           D98205,Men's,Lite Racing Shoes,Size 10,2020-04-13T15:06:26\n",
       "5       B75586,Men's,Running Rebound Shoes,Size 12,2020-04-13T15:06:30\n",
       "6     CG4051,Women's,Inspired Victory Shoes,Size 8,2020-04-13T15:06:33\n",
       "7     CM0080,Women's,Responsive Trail Shoes,Size 9,2020-04-13T15:06:36\n",
       "8  B75990,Men's,Energy Boost Running Shoes,Size 13,2020-04-13T15:06:40\n",
       "9   EE5761,Men's,Pure Bouncer Running Shoes,Size 9,2020-04-13T15:06:45"
      ]
     },
     "execution_count": 105,
     "metadata": {},
     "output_type": "execute_result"
    }
   ],
   "source": [
    "# Set the column width\n",
    "pd.options.display.max_colwidth = 200\n",
    "# Read in the dataset.\n",
    "orders_df = pd.read_excel(\"../Resources/running_shoes.xlsx\")\n",
    "orders_df"
   ]
  },
  {
   "cell_type": "code",
   "execution_count": 106,
   "id": "c5ba9991-70fd-4916-b2dd-f0255dd1d918",
   "metadata": {},
   "outputs": [
    {
     "name": "stdout",
     "output_type": "stream",
     "text": [
      "<class 'pandas.core.frame.DataFrame'>\n",
      "RangeIndex: 10 entries, 0 to 9\n",
      "Data columns (total 1 columns):\n",
      " #   Column                                         Non-Null Count  Dtype \n",
      "---  ------                                         --------------  ----- \n",
      " 0   Product ID,Category,Product,Size,Last Visited  10 non-null     object\n",
      "dtypes: object(1)\n",
      "memory usage: 208.0+ bytes\n"
     ]
    }
   ],
   "source": [
    "orders_df.info()"
   ]
  },
  {
   "cell_type": "code",
   "execution_count": 107,
   "id": "1a9fd31d-ca9b-4832-800b-f3a87fb0d3bc",
   "metadata": {},
   "outputs": [],
   "source": [
    "# convert the colums to a list\n",
    "shoe_order_cols = orders_df.columns.tolist()"
   ]
  },
  {
   "cell_type": "code",
   "execution_count": 108,
   "id": "2ccedd4f-76a2-4702-8c5b-618c7abcfa3c",
   "metadata": {},
   "outputs": [
    {
     "data": {
      "text/plain": [
       "'Product ID,Category,Product,Size,Last Visited'"
      ]
     },
     "execution_count": 108,
     "metadata": {},
     "output_type": "execute_result"
    }
   ],
   "source": [
    "# the first element of the list contain the column names as a string\n",
    "shoe_order_cols[0]"
   ]
  },
  {
   "cell_type": "code",
   "execution_count": 109,
   "id": "c9667153-1458-4a10-809f-f958743ec207",
   "metadata": {},
   "outputs": [],
   "source": [
    "# split the string into a list of column names\n",
    "new_columns = shoe_order_cols[0].split(\",\")"
   ]
  },
  {
   "cell_type": "code",
   "execution_count": 110,
   "id": "756e5b28-2e7f-4563-ab5d-fb402eba4526",
   "metadata": {},
   "outputs": [
    {
     "data": {
      "text/plain": [
       "['Product ID', 'Category', 'Product', 'Size', 'Last Visited']"
      ]
     },
     "execution_count": 110,
     "metadata": {},
     "output_type": "execute_result"
    }
   ],
   "source": [
    "# display the new column names\n",
    "new_columns"
   ]
  },
  {
   "cell_type": "code",
   "execution_count": 111,
   "id": "d0eb0787-66fa-4935-86c7-b47eb589a1bf",
   "metadata": {},
   "outputs": [
    {
     "data": {
      "text/plain": [
       "[[\"AH2430,Women's,Blazing Trail Shoes,Size 9,2020-04-13T15:06:15\"],\n",
       " [\"G27341,Men's,Forest Trail Shoes,Size 11,2020-04-13T15:06:18\"],\n",
       " [\"CM0081,Women's,Swift Running Shoes,Size 7,2020-04-13T15:06:20\"],\n",
       " [\"B44832,Women's,Running Hard Shoes,Size 6,2020-04-13T15:06:23\"],\n",
       " [\"D98205,Men's,Lite Racing Shoes,Size 10,2020-04-13T15:06:26\"],\n",
       " [\"B75586,Men's,Running Rebound Shoes,Size 12,2020-04-13T15:06:30\"],\n",
       " [\"CG4051,Women's,Inspired Victory Shoes,Size 8,2020-04-13T15:06:33\"],\n",
       " [\"CM0080,Women's,Responsive Trail Shoes,Size 9,2020-04-13T15:06:36\"],\n",
       " [\"B75990,Men's,Energy Boost Running Shoes,Size 13,2020-04-13T15:06:40\"],\n",
       " [\"EE5761,Men's,Pure Bouncer Running Shoes,Size 9,2020-04-13T15:06:45\"]]"
      ]
     },
     "execution_count": 111,
     "metadata": {},
     "output_type": "execute_result"
    }
   ],
   "source": [
    "# transform the cells into a list of lists\n",
    "shoe_orders_values = orders_df.values.tolist()\n",
    "shoe_orders_values"
   ]
  },
  {
   "cell_type": "code",
   "execution_count": 112,
   "id": "7a3a46ef",
   "metadata": {},
   "outputs": [
    {
     "data": {
      "text/plain": [
       "['AH2430', \"Women's\", 'Blazing Trail Shoes', 'Size 9', '2020-04-13T15:06:15']"
      ]
     },
     "execution_count": 112,
     "metadata": {},
     "output_type": "execute_result"
    }
   ],
   "source": [
    "# display the first element of the list\n",
    "shoe_orders_values[0][0].split(\",\")"
   ]
  },
  {
   "cell_type": "code",
   "execution_count": 113,
   "id": "2731614a-1076-489f-b117-8b6f8794a096",
   "metadata": {},
   "outputs": [],
   "source": [
    "# create a new list to split and hold the transformed data for each row\n",
    "shoe_orders_list = []\n",
    "for _ in shoe_orders_values:\n",
    "    shoe_orders_list.append(shoe_orders_values[0][0].split(\",\"))"
   ]
  },
  {
   "cell_type": "code",
   "execution_count": 114,
   "id": "ffbbb018-9c20-4bf1-8054-ef8852d7e773",
   "metadata": {},
   "outputs": [
    {
     "data": {
      "text/plain": [
       "[['AH2430', \"Women's\", 'Blazing Trail Shoes', 'Size 9', '2020-04-13T15:06:15'],\n",
       " ['AH2430', \"Women's\", 'Blazing Trail Shoes', 'Size 9', '2020-04-13T15:06:15'],\n",
       " ['AH2430', \"Women's\", 'Blazing Trail Shoes', 'Size 9', '2020-04-13T15:06:15'],\n",
       " ['AH2430', \"Women's\", 'Blazing Trail Shoes', 'Size 9', '2020-04-13T15:06:15'],\n",
       " ['AH2430', \"Women's\", 'Blazing Trail Shoes', 'Size 9', '2020-04-13T15:06:15'],\n",
       " ['AH2430', \"Women's\", 'Blazing Trail Shoes', 'Size 9', '2020-04-13T15:06:15'],\n",
       " ['AH2430', \"Women's\", 'Blazing Trail Shoes', 'Size 9', '2020-04-13T15:06:15'],\n",
       " ['AH2430', \"Women's\", 'Blazing Trail Shoes', 'Size 9', '2020-04-13T15:06:15'],\n",
       " ['AH2430', \"Women's\", 'Blazing Trail Shoes', 'Size 9', '2020-04-13T15:06:15'],\n",
       " ['AH2430', \"Women's\", 'Blazing Trail Shoes', 'Size 9', '2020-04-13T15:06:15']]"
      ]
     },
     "execution_count": 114,
     "metadata": {},
     "output_type": "execute_result"
    }
   ],
   "source": [
    "# display the list\n",
    "shoe_orders_list"
   ]
  },
  {
   "cell_type": "code",
   "execution_count": 115,
   "id": "0f1c1b19-a8ce-4f2f-bbe9-b46371d5c316",
   "metadata": {},
   "outputs": [
    {
     "data": {
      "text/html": [
       "<div>\n",
       "<style scoped>\n",
       "    .dataframe tbody tr th:only-of-type {\n",
       "        vertical-align: middle;\n",
       "    }\n",
       "\n",
       "    .dataframe tbody tr th {\n",
       "        vertical-align: top;\n",
       "    }\n",
       "\n",
       "    .dataframe thead th {\n",
       "        text-align: right;\n",
       "    }\n",
       "</style>\n",
       "<table border=\"1\" class=\"dataframe\">\n",
       "  <thead>\n",
       "    <tr style=\"text-align: right;\">\n",
       "      <th></th>\n",
       "      <th>Product ID</th>\n",
       "      <th>Category</th>\n",
       "      <th>Product</th>\n",
       "      <th>Size</th>\n",
       "      <th>Last Visited</th>\n",
       "    </tr>\n",
       "  </thead>\n",
       "  <tbody>\n",
       "    <tr>\n",
       "      <th>0</th>\n",
       "      <td>AH2430</td>\n",
       "      <td>Women's</td>\n",
       "      <td>Blazing Trail Shoes</td>\n",
       "      <td>Size 9</td>\n",
       "      <td>2020-04-13T15:06:15</td>\n",
       "    </tr>\n",
       "    <tr>\n",
       "      <th>1</th>\n",
       "      <td>AH2430</td>\n",
       "      <td>Women's</td>\n",
       "      <td>Blazing Trail Shoes</td>\n",
       "      <td>Size 9</td>\n",
       "      <td>2020-04-13T15:06:15</td>\n",
       "    </tr>\n",
       "    <tr>\n",
       "      <th>2</th>\n",
       "      <td>AH2430</td>\n",
       "      <td>Women's</td>\n",
       "      <td>Blazing Trail Shoes</td>\n",
       "      <td>Size 9</td>\n",
       "      <td>2020-04-13T15:06:15</td>\n",
       "    </tr>\n",
       "    <tr>\n",
       "      <th>3</th>\n",
       "      <td>AH2430</td>\n",
       "      <td>Women's</td>\n",
       "      <td>Blazing Trail Shoes</td>\n",
       "      <td>Size 9</td>\n",
       "      <td>2020-04-13T15:06:15</td>\n",
       "    </tr>\n",
       "    <tr>\n",
       "      <th>4</th>\n",
       "      <td>AH2430</td>\n",
       "      <td>Women's</td>\n",
       "      <td>Blazing Trail Shoes</td>\n",
       "      <td>Size 9</td>\n",
       "      <td>2020-04-13T15:06:15</td>\n",
       "    </tr>\n",
       "    <tr>\n",
       "      <th>5</th>\n",
       "      <td>AH2430</td>\n",
       "      <td>Women's</td>\n",
       "      <td>Blazing Trail Shoes</td>\n",
       "      <td>Size 9</td>\n",
       "      <td>2020-04-13T15:06:15</td>\n",
       "    </tr>\n",
       "    <tr>\n",
       "      <th>6</th>\n",
       "      <td>AH2430</td>\n",
       "      <td>Women's</td>\n",
       "      <td>Blazing Trail Shoes</td>\n",
       "      <td>Size 9</td>\n",
       "      <td>2020-04-13T15:06:15</td>\n",
       "    </tr>\n",
       "    <tr>\n",
       "      <th>7</th>\n",
       "      <td>AH2430</td>\n",
       "      <td>Women's</td>\n",
       "      <td>Blazing Trail Shoes</td>\n",
       "      <td>Size 9</td>\n",
       "      <td>2020-04-13T15:06:15</td>\n",
       "    </tr>\n",
       "    <tr>\n",
       "      <th>8</th>\n",
       "      <td>AH2430</td>\n",
       "      <td>Women's</td>\n",
       "      <td>Blazing Trail Shoes</td>\n",
       "      <td>Size 9</td>\n",
       "      <td>2020-04-13T15:06:15</td>\n",
       "    </tr>\n",
       "    <tr>\n",
       "      <th>9</th>\n",
       "      <td>AH2430</td>\n",
       "      <td>Women's</td>\n",
       "      <td>Blazing Trail Shoes</td>\n",
       "      <td>Size 9</td>\n",
       "      <td>2020-04-13T15:06:15</td>\n",
       "    </tr>\n",
       "  </tbody>\n",
       "</table>\n",
       "</div>"
      ],
      "text/plain": [
       "  Product ID Category              Product    Size         Last Visited\n",
       "0     AH2430  Women's  Blazing Trail Shoes  Size 9  2020-04-13T15:06:15\n",
       "1     AH2430  Women's  Blazing Trail Shoes  Size 9  2020-04-13T15:06:15\n",
       "2     AH2430  Women's  Blazing Trail Shoes  Size 9  2020-04-13T15:06:15\n",
       "3     AH2430  Women's  Blazing Trail Shoes  Size 9  2020-04-13T15:06:15\n",
       "4     AH2430  Women's  Blazing Trail Shoes  Size 9  2020-04-13T15:06:15\n",
       "5     AH2430  Women's  Blazing Trail Shoes  Size 9  2020-04-13T15:06:15\n",
       "6     AH2430  Women's  Blazing Trail Shoes  Size 9  2020-04-13T15:06:15\n",
       "7     AH2430  Women's  Blazing Trail Shoes  Size 9  2020-04-13T15:06:15\n",
       "8     AH2430  Women's  Blazing Trail Shoes  Size 9  2020-04-13T15:06:15\n",
       "9     AH2430  Women's  Blazing Trail Shoes  Size 9  2020-04-13T15:06:15"
      ]
     },
     "execution_count": 115,
     "metadata": {},
     "output_type": "execute_result"
    }
   ],
   "source": [
    "# create a new DataFrame with the new column names and the transformed data\n",
    "shoe_orders_df = pd.DataFrame(shoe_orders_list, columns=new_columns)\n",
    "shoe_orders_df"
   ]
  },
  {
   "cell_type": "code",
   "execution_count": 116,
   "id": "a85c592d-3124-4ff8-8b45-d111ed026bd8",
   "metadata": {},
   "outputs": [
    {
     "data": {
      "text/plain": [
       "Index(['Product ID', 'Category', 'Product', 'Size', 'Last Visited'], dtype='object')"
      ]
     },
     "execution_count": 116,
     "metadata": {},
     "output_type": "execute_result"
    }
   ],
   "source": [
    "# Get the column names.\n",
    "shoe_orders_df.columns"
   ]
  },
  {
   "cell_type": "code",
   "execution_count": 117,
   "id": "1cfcc736-80d8-4798-b07a-a46fb9bfbecd",
   "metadata": {},
   "outputs": [
    {
     "data": {
      "text/html": [
       "<div>\n",
       "<style scoped>\n",
       "    .dataframe tbody tr th:only-of-type {\n",
       "        vertical-align: middle;\n",
       "    }\n",
       "\n",
       "    .dataframe tbody tr th {\n",
       "        vertical-align: top;\n",
       "    }\n",
       "\n",
       "    .dataframe thead th {\n",
       "        text-align: right;\n",
       "    }\n",
       "</style>\n",
       "<table border=\"1\" class=\"dataframe\">\n",
       "  <thead>\n",
       "    <tr style=\"text-align: right;\">\n",
       "      <th></th>\n",
       "      <th>productID</th>\n",
       "      <th>category</th>\n",
       "      <th>product</th>\n",
       "      <th>size</th>\n",
       "      <th>lastvisited</th>\n",
       "    </tr>\n",
       "  </thead>\n",
       "  <tbody>\n",
       "    <tr>\n",
       "      <th>0</th>\n",
       "      <td>AH2430</td>\n",
       "      <td>Women's</td>\n",
       "      <td>Blazing Trail Shoes</td>\n",
       "      <td>Size 9</td>\n",
       "      <td>2020-04-13T15:06:15</td>\n",
       "    </tr>\n",
       "    <tr>\n",
       "      <th>1</th>\n",
       "      <td>AH2430</td>\n",
       "      <td>Women's</td>\n",
       "      <td>Blazing Trail Shoes</td>\n",
       "      <td>Size 9</td>\n",
       "      <td>2020-04-13T15:06:15</td>\n",
       "    </tr>\n",
       "    <tr>\n",
       "      <th>2</th>\n",
       "      <td>AH2430</td>\n",
       "      <td>Women's</td>\n",
       "      <td>Blazing Trail Shoes</td>\n",
       "      <td>Size 9</td>\n",
       "      <td>2020-04-13T15:06:15</td>\n",
       "    </tr>\n",
       "    <tr>\n",
       "      <th>3</th>\n",
       "      <td>AH2430</td>\n",
       "      <td>Women's</td>\n",
       "      <td>Blazing Trail Shoes</td>\n",
       "      <td>Size 9</td>\n",
       "      <td>2020-04-13T15:06:15</td>\n",
       "    </tr>\n",
       "    <tr>\n",
       "      <th>4</th>\n",
       "      <td>AH2430</td>\n",
       "      <td>Women's</td>\n",
       "      <td>Blazing Trail Shoes</td>\n",
       "      <td>Size 9</td>\n",
       "      <td>2020-04-13T15:06:15</td>\n",
       "    </tr>\n",
       "    <tr>\n",
       "      <th>5</th>\n",
       "      <td>AH2430</td>\n",
       "      <td>Women's</td>\n",
       "      <td>Blazing Trail Shoes</td>\n",
       "      <td>Size 9</td>\n",
       "      <td>2020-04-13T15:06:15</td>\n",
       "    </tr>\n",
       "    <tr>\n",
       "      <th>6</th>\n",
       "      <td>AH2430</td>\n",
       "      <td>Women's</td>\n",
       "      <td>Blazing Trail Shoes</td>\n",
       "      <td>Size 9</td>\n",
       "      <td>2020-04-13T15:06:15</td>\n",
       "    </tr>\n",
       "    <tr>\n",
       "      <th>7</th>\n",
       "      <td>AH2430</td>\n",
       "      <td>Women's</td>\n",
       "      <td>Blazing Trail Shoes</td>\n",
       "      <td>Size 9</td>\n",
       "      <td>2020-04-13T15:06:15</td>\n",
       "    </tr>\n",
       "    <tr>\n",
       "      <th>8</th>\n",
       "      <td>AH2430</td>\n",
       "      <td>Women's</td>\n",
       "      <td>Blazing Trail Shoes</td>\n",
       "      <td>Size 9</td>\n",
       "      <td>2020-04-13T15:06:15</td>\n",
       "    </tr>\n",
       "    <tr>\n",
       "      <th>9</th>\n",
       "      <td>AH2430</td>\n",
       "      <td>Women's</td>\n",
       "      <td>Blazing Trail Shoes</td>\n",
       "      <td>Size 9</td>\n",
       "      <td>2020-04-13T15:06:15</td>\n",
       "    </tr>\n",
       "  </tbody>\n",
       "</table>\n",
       "</div>"
      ],
      "text/plain": [
       "  productID category              product    size          lastvisited\n",
       "0    AH2430  Women's  Blazing Trail Shoes  Size 9  2020-04-13T15:06:15\n",
       "1    AH2430  Women's  Blazing Trail Shoes  Size 9  2020-04-13T15:06:15\n",
       "2    AH2430  Women's  Blazing Trail Shoes  Size 9  2020-04-13T15:06:15\n",
       "3    AH2430  Women's  Blazing Trail Shoes  Size 9  2020-04-13T15:06:15\n",
       "4    AH2430  Women's  Blazing Trail Shoes  Size 9  2020-04-13T15:06:15\n",
       "5    AH2430  Women's  Blazing Trail Shoes  Size 9  2020-04-13T15:06:15\n",
       "6    AH2430  Women's  Blazing Trail Shoes  Size 9  2020-04-13T15:06:15\n",
       "7    AH2430  Women's  Blazing Trail Shoes  Size 9  2020-04-13T15:06:15\n",
       "8    AH2430  Women's  Blazing Trail Shoes  Size 9  2020-04-13T15:06:15\n",
       "9    AH2430  Women's  Blazing Trail Shoes  Size 9  2020-04-13T15:06:15"
      ]
     },
     "execution_count": 117,
     "metadata": {},
     "output_type": "execute_result"
    }
   ],
   "source": [
    "# Rename the columns.\n",
    "shoe_orders_df.rename(columns={'Product ID': \"productID\",\n",
    "                            'Category': \"category\",\n",
    "                            'Product': \"product\",\n",
    "                            'Size': \"size\",\n",
    "                            'Last Visited': \"lastvisited\"}, inplace=True)\n",
    "shoe_orders_df"
   ]
  },
  {
   "cell_type": "code",
   "execution_count": 118,
   "id": "5f884987-0f58-4ff5-883b-eaa50239d6fc",
   "metadata": {},
   "outputs": [
    {
     "name": "stdout",
     "output_type": "stream",
     "text": [
      "<class 'pandas.core.frame.DataFrame'>\n",
      "RangeIndex: 10 entries, 0 to 9\n",
      "Data columns (total 5 columns):\n",
      " #   Column       Non-Null Count  Dtype \n",
      "---  ------       --------------  ----- \n",
      " 0   productID    10 non-null     object\n",
      " 1   category     10 non-null     object\n",
      " 2   product      10 non-null     object\n",
      " 3   size         10 non-null     object\n",
      " 4   lastvisited  10 non-null     object\n",
      "dtypes: object(5)\n",
      "memory usage: 528.0+ bytes\n"
     ]
    }
   ],
   "source": [
    "# check the data types of the dataframe\n",
    "shoe_orders_df.info()"
   ]
  },
  {
   "cell_type": "code",
   "execution_count": 119,
   "id": "4fad524b-0b91-4905-9a5d-3729f88d0304",
   "metadata": {},
   "outputs": [],
   "source": [
    "# Remove the word \"Size \" and trailing whitespace from the the \"size\" column.\n",
    "shoe_orders_df[\"size\"]  = shoe_orders_df[\"size\"].str.replace(\"Size \",\"\").astype(int)\n"
   ]
  },
  {
   "cell_type": "code",
   "execution_count": 120,
   "id": "f92d585a-3c06-453b-a3d0-2788434110fe",
   "metadata": {},
   "outputs": [
    {
     "name": "stdout",
     "output_type": "stream",
     "text": [
      "<class 'pandas.core.frame.DataFrame'>\n",
      "RangeIndex: 10 entries, 0 to 9\n",
      "Data columns (total 5 columns):\n",
      " #   Column       Non-Null Count  Dtype \n",
      "---  ------       --------------  ----- \n",
      " 0   productID    10 non-null     object\n",
      " 1   category     10 non-null     object\n",
      " 2   product      10 non-null     object\n",
      " 3   size         10 non-null     int64 \n",
      " 4   lastvisited  10 non-null     object\n",
      "dtypes: int64(1), object(4)\n",
      "memory usage: 528.0+ bytes\n"
     ]
    }
   ],
   "source": [
    "shoe_orders_df.info()"
   ]
  },
  {
   "cell_type": "code",
   "execution_count": 121,
   "id": "758c6b68-e6b7-4aa6-9e87-a9b1972bdaca",
   "metadata": {},
   "outputs": [
    {
     "name": "stdout",
     "output_type": "stream",
     "text": [
      "<class 'pandas.core.frame.DataFrame'>\n",
      "RangeIndex: 10 entries, 0 to 9\n",
      "Data columns (total 5 columns):\n",
      " #   Column       Non-Null Count  Dtype         \n",
      "---  ------       --------------  -----         \n",
      " 0   productID    10 non-null     object        \n",
      " 1   category     10 non-null     object        \n",
      " 2   product      10 non-null     object        \n",
      " 3   size         10 non-null     int64         \n",
      " 4   lastvisited  10 non-null     datetime64[ns]\n",
      "dtypes: datetime64[ns](1), int64(1), object(3)\n",
      "memory usage: 528.0+ bytes\n"
     ]
    }
   ],
   "source": [
    "# Convert the \"lastvisited\" column to a datetime datatype.\n",
    "shoe_orders_df[\"lastvisited\"]  = pd.to_datetime(shoe_orders_df[\"lastvisited\"])\n",
    "shoe_orders_df.info()"
   ]
  },
  {
   "cell_type": "code",
   "execution_count": 122,
   "id": "1f53afe0-e004-48a0-821e-a079d64c4ef1",
   "metadata": {},
   "outputs": [
    {
     "data": {
      "text/html": [
       "<div>\n",
       "<style scoped>\n",
       "    .dataframe tbody tr th:only-of-type {\n",
       "        vertical-align: middle;\n",
       "    }\n",
       "\n",
       "    .dataframe tbody tr th {\n",
       "        vertical-align: top;\n",
       "    }\n",
       "\n",
       "    .dataframe thead th {\n",
       "        text-align: right;\n",
       "    }\n",
       "</style>\n",
       "<table border=\"1\" class=\"dataframe\">\n",
       "  <thead>\n",
       "    <tr style=\"text-align: right;\">\n",
       "      <th></th>\n",
       "      <th>productID</th>\n",
       "      <th>category</th>\n",
       "      <th>product</th>\n",
       "      <th>size</th>\n",
       "      <th>lastvisited</th>\n",
       "    </tr>\n",
       "  </thead>\n",
       "  <tbody>\n",
       "    <tr>\n",
       "      <th>0</th>\n",
       "      <td>AH2430</td>\n",
       "      <td>Women's</td>\n",
       "      <td>Blazing Trail Shoes</td>\n",
       "      <td>9</td>\n",
       "      <td>2020-04-13 15:06:15</td>\n",
       "    </tr>\n",
       "    <tr>\n",
       "      <th>1</th>\n",
       "      <td>AH2430</td>\n",
       "      <td>Women's</td>\n",
       "      <td>Blazing Trail Shoes</td>\n",
       "      <td>9</td>\n",
       "      <td>2020-04-13 15:06:15</td>\n",
       "    </tr>\n",
       "    <tr>\n",
       "      <th>2</th>\n",
       "      <td>AH2430</td>\n",
       "      <td>Women's</td>\n",
       "      <td>Blazing Trail Shoes</td>\n",
       "      <td>9</td>\n",
       "      <td>2020-04-13 15:06:15</td>\n",
       "    </tr>\n",
       "    <tr>\n",
       "      <th>3</th>\n",
       "      <td>AH2430</td>\n",
       "      <td>Women's</td>\n",
       "      <td>Blazing Trail Shoes</td>\n",
       "      <td>9</td>\n",
       "      <td>2020-04-13 15:06:15</td>\n",
       "    </tr>\n",
       "    <tr>\n",
       "      <th>4</th>\n",
       "      <td>AH2430</td>\n",
       "      <td>Women's</td>\n",
       "      <td>Blazing Trail Shoes</td>\n",
       "      <td>9</td>\n",
       "      <td>2020-04-13 15:06:15</td>\n",
       "    </tr>\n",
       "    <tr>\n",
       "      <th>5</th>\n",
       "      <td>AH2430</td>\n",
       "      <td>Women's</td>\n",
       "      <td>Blazing Trail Shoes</td>\n",
       "      <td>9</td>\n",
       "      <td>2020-04-13 15:06:15</td>\n",
       "    </tr>\n",
       "    <tr>\n",
       "      <th>6</th>\n",
       "      <td>AH2430</td>\n",
       "      <td>Women's</td>\n",
       "      <td>Blazing Trail Shoes</td>\n",
       "      <td>9</td>\n",
       "      <td>2020-04-13 15:06:15</td>\n",
       "    </tr>\n",
       "    <tr>\n",
       "      <th>7</th>\n",
       "      <td>AH2430</td>\n",
       "      <td>Women's</td>\n",
       "      <td>Blazing Trail Shoes</td>\n",
       "      <td>9</td>\n",
       "      <td>2020-04-13 15:06:15</td>\n",
       "    </tr>\n",
       "    <tr>\n",
       "      <th>8</th>\n",
       "      <td>AH2430</td>\n",
       "      <td>Women's</td>\n",
       "      <td>Blazing Trail Shoes</td>\n",
       "      <td>9</td>\n",
       "      <td>2020-04-13 15:06:15</td>\n",
       "    </tr>\n",
       "    <tr>\n",
       "      <th>9</th>\n",
       "      <td>AH2430</td>\n",
       "      <td>Women's</td>\n",
       "      <td>Blazing Trail Shoes</td>\n",
       "      <td>9</td>\n",
       "      <td>2020-04-13 15:06:15</td>\n",
       "    </tr>\n",
       "  </tbody>\n",
       "</table>\n",
       "</div>"
      ],
      "text/plain": [
       "  productID category              product  size         lastvisited\n",
       "0    AH2430  Women's  Blazing Trail Shoes     9 2020-04-13 15:06:15\n",
       "1    AH2430  Women's  Blazing Trail Shoes     9 2020-04-13 15:06:15\n",
       "2    AH2430  Women's  Blazing Trail Shoes     9 2020-04-13 15:06:15\n",
       "3    AH2430  Women's  Blazing Trail Shoes     9 2020-04-13 15:06:15\n",
       "4    AH2430  Women's  Blazing Trail Shoes     9 2020-04-13 15:06:15\n",
       "5    AH2430  Women's  Blazing Trail Shoes     9 2020-04-13 15:06:15\n",
       "6    AH2430  Women's  Blazing Trail Shoes     9 2020-04-13 15:06:15\n",
       "7    AH2430  Women's  Blazing Trail Shoes     9 2020-04-13 15:06:15\n",
       "8    AH2430  Women's  Blazing Trail Shoes     9 2020-04-13 15:06:15\n",
       "9    AH2430  Women's  Blazing Trail Shoes     9 2020-04-13 15:06:15"
      ]
     },
     "execution_count": 122,
     "metadata": {},
     "output_type": "execute_result"
    }
   ],
   "source": [
    "shoe_orders_df"
   ]
  },
  {
   "cell_type": "code",
   "execution_count": null,
   "id": "496b489a-4bb8-4a0f-bfd4-777b6ce0f4f6",
   "metadata": {},
   "outputs": [],
   "source": []
  }
 ],
 "metadata": {
  "kernelspec": {
   "display_name": "Python 3 (ipykernel)",
   "language": "python",
   "name": "python3"
  },
  "language_info": {
   "codemirror_mode": {
    "name": "ipython",
    "version": 3
   },
   "file_extension": ".py",
   "mimetype": "text/x-python",
   "name": "python",
   "nbconvert_exporter": "python",
   "pygments_lexer": "ipython3",
   "version": "3.10.13"
  }
 },
 "nbformat": 4,
 "nbformat_minor": 5
}
