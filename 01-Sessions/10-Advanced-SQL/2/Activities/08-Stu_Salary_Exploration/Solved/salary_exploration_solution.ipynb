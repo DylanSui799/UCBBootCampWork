{
 "cells": [
  {
   "cell_type": "code",
   "execution_count": 22,
   "metadata": {},
   "outputs": [],
   "source": [
    "# Import SQLAlchemy `automap` and other dependencies\n",
    "import sqlalchemy\n",
    "from sqlalchemy.ext.automap import automap_base\n",
    "from sqlalchemy.orm import Session\n",
    "from sqlalchemy import create_engine, inspect"
   ]
  },
  {
   "cell_type": "code",
   "execution_count": 23,
   "metadata": {},
   "outputs": [],
   "source": [
    "# Create the connection engine\n",
    "engine = create_engine(\"sqlite:///../Resources/employee_compensation.sqlite\")"
   ]
  },
  {
   "cell_type": "code",
   "execution_count": 24,
   "metadata": {
    "nbgrader": {
     "grade": false,
     "grade_id": "cell-fbdf0ba8126481cf",
     "locked": false,
     "schema_version": 1,
     "solution": true
    }
   },
   "outputs": [],
   "source": [
    "# Create the inspector and connect it to the engine\n",
    "inspector = inspect(engine)"
   ]
  },
  {
   "cell_type": "code",
   "execution_count": 25,
   "metadata": {
    "nbgrader": {
     "grade": false,
     "grade_id": "cell-b7dac605f16a05c6",
     "locked": false,
     "schema_version": 1,
     "solution": true
    }
   },
   "outputs": [
    {
     "data": {
      "text/plain": [
       "['salaries']"
      ]
     },
     "execution_count": 25,
     "metadata": {},
     "output_type": "execute_result"
    }
   ],
   "source": [
    "# Collect the names of tables within the database\n",
    "inspector.get_table_names()"
   ]
  },
  {
   "cell_type": "code",
   "execution_count": 26,
   "metadata": {
    "nbgrader": {
     "grade": false,
     "grade_id": "cell-2f9c9a505e8b0862",
     "locked": false,
     "schema_version": 1,
     "solution": true
    }
   },
   "outputs": [
    {
     "name": "stdout",
     "output_type": "stream",
     "text": [
      "id INTEGER\n",
      "OrganisationGroupCode INTEGER\n",
      "JobFamilyCode TEXT\n",
      "JobCode TEXT\n",
      "YearType TEXT\n",
      "Year INTEGER\n",
      "OrganisationGroup TEXT\n",
      "DepartmentCode TEXT\n",
      "Department TEXT\n",
      "UnionCode FLOAT\n",
      "Union TEXT\n",
      "JobFamily TEXT\n",
      "Job TEXT\n",
      "EmployeeIdentifier INTEGER\n",
      "Salaries FLOAT\n",
      "Overtime FLOAT\n",
      "OtherSalaries FLOAT\n",
      "TotalSalary FLOAT\n",
      "Retirement FLOAT\n",
      "HealthAndDental FLOAT\n",
      "OtherBenefits FLOAT\n",
      "TotalBenefits FLOAT\n",
      "TotalCompensation FLOAT\n"
     ]
    }
   ],
   "source": [
    "# Using the inspector to print the column names within the 'Salaries' table and its types\n",
    "columns = inspector.get_columns('Salaries')\n",
    "for column in columns:\n",
    "    print(column[\"name\"], column[\"type\"])"
   ]
  },
  {
   "cell_type": "markdown",
   "metadata": {},
   "source": []
  },
  {
   "cell_type": "code",
   "execution_count": 27,
   "metadata": {},
   "outputs": [
    {
     "name": "stdout",
     "output_type": "stream",
     "text": [
      "<class 'pandas.core.frame.DataFrame'>\n",
      "RangeIndex: 39930 entries, 0 to 39929\n",
      "Data columns (total 23 columns):\n",
      " #   Column                 Non-Null Count  Dtype  \n",
      "---  ------                 --------------  -----  \n",
      " 0   id                     39930 non-null  int64  \n",
      " 1   OrganisationGroupCode  39930 non-null  int64  \n",
      " 2   JobFamilyCode          39930 non-null  object \n",
      " 3   JobCode                39930 non-null  object \n",
      " 4   YearType               39930 non-null  object \n",
      " 5   Year                   39930 non-null  int64  \n",
      " 6   OrganisationGroup      39930 non-null  object \n",
      " 7   DepartmentCode         39930 non-null  object \n",
      " 8   Department             39930 non-null  object \n",
      " 9   UnionCode              39930 non-null  float64\n",
      " 10  Union                  39930 non-null  object \n",
      " 11  JobFamily              39930 non-null  object \n",
      " 12  Job                    39930 non-null  object \n",
      " 13  EmployeeIdentifier     39930 non-null  int64  \n",
      " 14  Salaries               39930 non-null  float64\n",
      " 15  Overtime               39930 non-null  float64\n",
      " 16  OtherSalaries          39930 non-null  float64\n",
      " 17  TotalSalary            39930 non-null  float64\n",
      " 18  Retirement             39930 non-null  float64\n",
      " 19  HealthAndDental        39930 non-null  float64\n",
      " 20  OtherBenefits          39930 non-null  float64\n",
      " 21  TotalBenefits          39930 non-null  float64\n",
      " 22  TotalCompensation      39930 non-null  float64\n",
      "dtypes: float64(10), int64(4), object(9)\n",
      "memory usage: 7.0+ MB\n"
     ]
    }
   ],
   "source": [
    "# Using pandas and SQLAlchemy SQL statement to load data into DataFrame\n",
    "import pandas as pd\n",
    "salaries_df = pd.read_sql_query(\"SELECT * FROM salaries\", engine)\n",
    "\n",
    "salaries_df.info()"
   ]
  },
  {
   "cell_type": "code",
   "execution_count": 28,
   "metadata": {},
   "outputs": [
    {
     "name": "stdout",
     "output_type": "stream",
     "text": [
      "                      Department  HighestSalary\n",
      "0                  Public Health      475116.00\n",
      "1             Airport Commission      360288.02\n",
      "2            Retirement Services      355496.00\n",
      "3                          Mayor      351116.04\n",
      "4  Municipal Transportation Agcy      350694.05\n"
     ]
    }
   ],
   "source": [
    "# SQL query to extract the top 5 departments with highest salaries\n",
    "query = \"\"\"\n",
    "    SELECT Department, MAX(Salaries) AS HighestSalary\n",
    "    FROM salaries\n",
    "    GROUP BY Department\n",
    "    ORDER BY HighestSalary DESC\n",
    "    LIMIT 5\n",
    "\"\"\"\n",
    "\n",
    "# Using pandas and SQLAlchemy SQL statement to load data into DataFrame\n",
    "result_df = pd.read_sql_query(query, engine)\n",
    "\n",
    "# Print the DataFrame\n",
    "print(result_df)"
   ]
  }
 ],
 "metadata": {
  "celltoolbar": "Create Assignment",
  "interpreter": {
   "hash": "3d597f4c481aa0f25dceb95d2a0067e73c0966dcbd003d741d821a7208527ecf"
  },
  "kernelspec": {
   "display_name": "Python 3 (ipykernel)",
   "language": "python",
   "name": "python3"
  },
  "language_info": {
   "codemirror_mode": {
    "name": "ipython",
    "version": 3
   },
   "file_extension": ".py",
   "mimetype": "text/x-python",
   "name": "python",
   "nbconvert_exporter": "python",
   "pygments_lexer": "ipython3",
   "version": "3.10.13"
  },
  "name": "stu_salary_explorer.ipynb",
  "varInspector": {
   "cols": {
    "lenName": 16,
    "lenType": 16,
    "lenVar": 40
   },
   "kernels_config": {
    "python": {
     "delete_cmd_postfix": "",
     "delete_cmd_prefix": "del ",
     "library": "var_list.py",
     "varRefreshCmd": "print(var_dic_list())"
    },
    "r": {
     "delete_cmd_postfix": ") ",
     "delete_cmd_prefix": "rm(",
     "library": "var_list.r",
     "varRefreshCmd": "cat(var_dic_list()) "
    }
   },
   "types_to_exclude": [
    "module",
    "function",
    "builtin_function_or_method",
    "instance",
    "_Feature"
   ],
   "window_display": false
  }
 },
 "nbformat": 4,
 "nbformat_minor": 2
}
