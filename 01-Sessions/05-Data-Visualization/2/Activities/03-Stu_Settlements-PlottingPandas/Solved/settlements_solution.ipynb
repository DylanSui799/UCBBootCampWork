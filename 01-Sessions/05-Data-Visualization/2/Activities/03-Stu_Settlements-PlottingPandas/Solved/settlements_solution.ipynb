{
 "cells": [
  {
   "cell_type": "code",
   "execution_count": 10,
   "metadata": {},
   "outputs": [],
   "source": [
    "%matplotlib inline"
   ]
  },
  {
   "cell_type": "code",
   "execution_count": 2,
   "metadata": {},
   "outputs": [],
   "source": [
    "# Dependencies\n",
    "import matplotlib.pyplot as plt\n",
    "import numpy as np\n",
    "import pandas as pd"
   ]
  },
  {
   "cell_type": "code",
   "execution_count": 3,
   "metadata": {},
   "outputs": [
    {
     "data": {
      "text/html": [
       "<div>\n",
       "<style scoped>\n",
       "    .dataframe tbody tr th:only-of-type {\n",
       "        vertical-align: middle;\n",
       "    }\n",
       "\n",
       "    .dataframe tbody tr th {\n",
       "        vertical-align: top;\n",
       "    }\n",
       "\n",
       "    .dataframe thead th {\n",
       "        text-align: right;\n",
       "    }\n",
       "</style>\n",
       "<table border=\"1\" class=\"dataframe\">\n",
       "  <thead>\n",
       "    <tr style=\"text-align: right;\">\n",
       "      <th></th>\n",
       "      <th>SCHEDULE NUMBER</th>\n",
       "      <th>NEGOTIATION NUMBER</th>\n",
       "      <th>BLANK1</th>\n",
       "      <th>COMPANY IDENTIFYING INFORMATION</th>\n",
       "      <th>SIC Code</th>\n",
       "      <th>BLANK2</th>\n",
       "      <th>SIC Code.1</th>\n",
       "      <th>SIC Code.2</th>\n",
       "      <th>BLANK3</th>\n",
       "      <th>TYPE OF BARGAINING UNIT</th>\n",
       "      <th>...</th>\n",
       "      <th>BLANK16</th>\n",
       "      <th>CPI FORMULA</th>\n",
       "      <th>BLANK17</th>\n",
       "      <th>DATE OF FIRST COST-OF-LIVING REVIEW</th>\n",
       "      <th>BLANK18</th>\n",
       "      <th>DATE OF LAST COST-OF-LIVING REVIEW</th>\n",
       "      <th>BLANK19</th>\n",
       "      <th>WORK STOPPAGE BEGINNING DATE</th>\n",
       "      <th>BLANK20</th>\n",
       "      <th>WORK STOPPAGE ENDING DATE</th>\n",
       "    </tr>\n",
       "  </thead>\n",
       "  <tbody>\n",
       "    <tr>\n",
       "      <th>0</th>\n",
       "      <td>17031</td>\n",
       "      <td>51</td>\n",
       "      <td>NaN</td>\n",
       "      <td>ELEVATOR MANUFACTORS ASSN    LU 1        4799-3</td>\n",
       "      <td>NaN</td>\n",
       "      <td>NaN</td>\n",
       "      <td>Construction Special Trade Contractors</td>\n",
       "      <td>96</td>\n",
       "      <td>NaN</td>\n",
       "      <td>MORE THAN ONE COMPANY</td>\n",
       "      <td>...</td>\n",
       "      <td>NaN</td>\n",
       "      <td>NaN</td>\n",
       "      <td>NaN</td>\n",
       "      <td>NaN</td>\n",
       "      <td>NaN</td>\n",
       "      <td>NaN</td>\n",
       "      <td>NaN</td>\n",
       "      <td>NaN</td>\n",
       "      <td>NaN</td>\n",
       "      <td>NaN</td>\n",
       "    </tr>\n",
       "    <tr>\n",
       "      <th>1</th>\n",
       "      <td>17031</td>\n",
       "      <td>52</td>\n",
       "      <td>NaN</td>\n",
       "      <td>ELEVATOR MANUFACTURING ASSN    LU 1      (4799)</td>\n",
       "      <td>NaN</td>\n",
       "      <td>NaN</td>\n",
       "      <td>Construction Special Trade Contractors</td>\n",
       "      <td>96</td>\n",
       "      <td>NaN</td>\n",
       "      <td>MORE THAN ONE COMPANY</td>\n",
       "      <td>...</td>\n",
       "      <td>NaN</td>\n",
       "      <td>NaN</td>\n",
       "      <td>NaN</td>\n",
       "      <td>NaN</td>\n",
       "      <td>NaN</td>\n",
       "      <td>NaN</td>\n",
       "      <td>NaN</td>\n",
       "      <td>NaN</td>\n",
       "      <td>NaN</td>\n",
       "      <td>NaN</td>\n",
       "    </tr>\n",
       "    <tr>\n",
       "      <th>2</th>\n",
       "      <td>17031</td>\n",
       "      <td>53</td>\n",
       "      <td>NaN</td>\n",
       "      <td>ELEVATOR MANUFACTURERS ASSN</td>\n",
       "      <td>50.0</td>\n",
       "      <td>NaN</td>\n",
       "      <td>Construction Special Trade Contractors</td>\n",
       "      <td>96</td>\n",
       "      <td>NaN</td>\n",
       "      <td>MORE THAN ONE COMPANY</td>\n",
       "      <td>...</td>\n",
       "      <td>NaN</td>\n",
       "      <td>NaN</td>\n",
       "      <td>NaN</td>\n",
       "      <td>NaN</td>\n",
       "      <td>NaN</td>\n",
       "      <td>NaN</td>\n",
       "      <td>NaN</td>\n",
       "      <td>NaN</td>\n",
       "      <td>NaN</td>\n",
       "      <td>NaN</td>\n",
       "    </tr>\n",
       "    <tr>\n",
       "      <th>3</th>\n",
       "      <td>17031</td>\n",
       "      <td>54</td>\n",
       "      <td>NaN</td>\n",
       "      <td>ELEVATOR MFRS ASSN  LU 1</td>\n",
       "      <td>50.0</td>\n",
       "      <td>NaN</td>\n",
       "      <td>Construction Special Trade Contractors</td>\n",
       "      <td>96</td>\n",
       "      <td>NaN</td>\n",
       "      <td>MORE THAN ONE COMPANY</td>\n",
       "      <td>...</td>\n",
       "      <td>NaN</td>\n",
       "      <td>NaN</td>\n",
       "      <td>NaN</td>\n",
       "      <td>NaN</td>\n",
       "      <td>NaN</td>\n",
       "      <td>NaN</td>\n",
       "      <td>NaN</td>\n",
       "      <td>NaN</td>\n",
       "      <td>NaN</td>\n",
       "      <td>NaN</td>\n",
       "    </tr>\n",
       "    <tr>\n",
       "      <th>4</th>\n",
       "      <td>17031</td>\n",
       "      <td>55</td>\n",
       "      <td>NaN</td>\n",
       "      <td>ELEVATOR MFRS ASSN OF NYC  LU1</td>\n",
       "      <td>50.0</td>\n",
       "      <td>NaN</td>\n",
       "      <td>Construction Special Trade Contractors</td>\n",
       "      <td>96</td>\n",
       "      <td>NaN</td>\n",
       "      <td>MORE THAN ONE COMPANY</td>\n",
       "      <td>...</td>\n",
       "      <td>NaN</td>\n",
       "      <td>NaN</td>\n",
       "      <td>NaN</td>\n",
       "      <td>NaN</td>\n",
       "      <td>NaN</td>\n",
       "      <td>NaN</td>\n",
       "      <td>NaN</td>\n",
       "      <td>NaN</td>\n",
       "      <td>NaN</td>\n",
       "      <td>NaN</td>\n",
       "    </tr>\n",
       "  </tbody>\n",
       "</table>\n",
       "<p>5 rows × 46 columns</p>\n",
       "</div>"
      ],
      "text/plain": [
       "   SCHEDULE NUMBER  NEGOTIATION NUMBER  BLANK1  \\\n",
       "0            17031                  51     NaN   \n",
       "1            17031                  52     NaN   \n",
       "2            17031                  53     NaN   \n",
       "3            17031                  54     NaN   \n",
       "4            17031                  55     NaN   \n",
       "\n",
       "                  COMPANY IDENTIFYING INFORMATION   SIC Code  BLANK2  \\\n",
       "0  ELEVATOR MANUFACTORS ASSN    LU 1        4799-3       NaN     NaN   \n",
       "1  ELEVATOR MANUFACTURING ASSN    LU 1      (4799)       NaN     NaN   \n",
       "2                      ELEVATOR MANUFACTURERS ASSN      50.0     NaN   \n",
       "3                         ELEVATOR MFRS ASSN  LU 1      50.0     NaN   \n",
       "4                   ELEVATOR MFRS ASSN OF NYC  LU1      50.0     NaN   \n",
       "\n",
       "                               SIC Code.1  SIC Code.2  BLANK3  \\\n",
       "0  Construction Special Trade Contractors          96     NaN   \n",
       "1  Construction Special Trade Contractors          96     NaN   \n",
       "2  Construction Special Trade Contractors          96     NaN   \n",
       "3  Construction Special Trade Contractors          96     NaN   \n",
       "4  Construction Special Trade Contractors          96     NaN   \n",
       "\n",
       "  TYPE OF BARGAINING UNIT  ...  BLANK16 CPI FORMULA  BLANK17  \\\n",
       "0   MORE THAN ONE COMPANY  ...      NaN         NaN      NaN   \n",
       "1   MORE THAN ONE COMPANY  ...      NaN         NaN      NaN   \n",
       "2   MORE THAN ONE COMPANY  ...      NaN         NaN      NaN   \n",
       "3   MORE THAN ONE COMPANY  ...      NaN         NaN      NaN   \n",
       "4   MORE THAN ONE COMPANY  ...      NaN         NaN      NaN   \n",
       "\n",
       "  DATE OF FIRST COST-OF-LIVING REVIEW  BLANK18  \\\n",
       "0                                 NaN      NaN   \n",
       "1                                 NaN      NaN   \n",
       "2                                 NaN      NaN   \n",
       "3                                 NaN      NaN   \n",
       "4                                 NaN      NaN   \n",
       "\n",
       "  DATE OF LAST COST-OF-LIVING REVIEW  BLANK19 WORK STOPPAGE BEGINNING DATE  \\\n",
       "0                                NaN      NaN                          NaN   \n",
       "1                                NaN      NaN                          NaN   \n",
       "2                                NaN      NaN                          NaN   \n",
       "3                                NaN      NaN                          NaN   \n",
       "4                                NaN      NaN                          NaN   \n",
       "\n",
       "   BLANK20  WORK STOPPAGE ENDING DATE  \n",
       "0      NaN                        NaN  \n",
       "1      NaN                        NaN  \n",
       "2      NaN                        NaN  \n",
       "3      NaN                        NaN  \n",
       "4      NaN                        NaN  \n",
       "\n",
       "[5 rows x 46 columns]"
      ]
     },
     "execution_count": 3,
     "metadata": {},
     "output_type": "execute_result"
    }
   ],
   "source": [
    "# Read CSV\n",
    "settlement_data = pd.read_csv(\"Resources/union_settlements_1995.csv\")\n",
    "settlement_data.head()"
   ]
  },
  {
   "cell_type": "code",
   "execution_count": 4,
   "metadata": {},
   "outputs": [
    {
     "name": "stdout",
     "output_type": "stream",
     "text": [
      "<class 'pandas.core.frame.DataFrame'>\n",
      "RangeIndex: 526 entries, 0 to 525\n",
      "Data columns (total 46 columns):\n",
      " #   Column                               Non-Null Count  Dtype  \n",
      "---  ------                               --------------  -----  \n",
      " 0   SCHEDULE NUMBER                      526 non-null    int64  \n",
      " 1   NEGOTIATION NUMBER                   526 non-null    int64  \n",
      " 2   BLANK1                               0 non-null      float64\n",
      " 3   COMPANY IDENTIFYING INFORMATION      526 non-null    object \n",
      " 4   SIC Code                             400 non-null    float64\n",
      " 5   BLANK2                               0 non-null      float64\n",
      " 6   SIC Code.1                           526 non-null    object \n",
      " 7   SIC Code.2                           526 non-null    int64  \n",
      " 8   BLANK3                               0 non-null      float64\n",
      " 9   TYPE OF BARGAINING UNIT              526 non-null    object \n",
      " 10  BLANK4                               0 non-null      float64\n",
      " 11  REGIONAL OR STATE                    526 non-null    object \n",
      " 12  BLANK5                               0 non-null      float64\n",
      " 13  LOCATION                             526 non-null    object \n",
      " 14  BLANK6                               0 non-null      float64\n",
      " 15  UNION                                526 non-null    object \n",
      " 16  BLANK7                               0 non-null      float64\n",
      " 17  UNION CODE                           526 non-null    object \n",
      " 18  BLANK8                               0 non-null      float64\n",
      " 19  NUMBER OF EMPLOYEES                  526 non-null    int64  \n",
      " 20  BLANK9                               0 non-null      float64\n",
      " 21  NEGOTIATION DATE                     526 non-null    object \n",
      " 22  BLANK10                              0 non-null      float64\n",
      " 23  AGREEMENT EFFECTIVE DATE             526 non-null    object \n",
      " 24  BLANK11                              0 non-null      float64\n",
      " 25  NEW EXPIRATION DATE                  526 non-null    object \n",
      " 26  BLANK12                              0 non-null      float64\n",
      " 27  REOPENING DATE                       32 non-null     object \n",
      " 28  BLANK13                              0 non-null      float64\n",
      " 29  ESCALATOR OVERALL CONTROL            300 non-null    object \n",
      " 30  INDEX CODE                           281 non-null    object \n",
      " 31  BLANK14                              0 non-null      float64\n",
      " 32  TYPE OF ESCALATOR CLAUSE             286 non-null    object \n",
      " 33  MINIMUM AND/OR MAXIMUM CODE          281 non-null    object \n",
      " 34  BLANK15                              0 non-null      float64\n",
      " 35  CPI BASE YEAR                        281 non-null    object \n",
      " 36  BLANK16                              0 non-null      float64\n",
      " 37  CPI FORMULA                          281 non-null    object \n",
      " 38  BLANK17                              0 non-null      float64\n",
      " 39  DATE OF FIRST COST-OF-LIVING REVIEW  281 non-null    object \n",
      " 40  BLANK18                              0 non-null      float64\n",
      " 41  DATE OF LAST COST-OF-LIVING REVIEW   281 non-null    object \n",
      " 42  BLANK19                              0 non-null      float64\n",
      " 43  WORK STOPPAGE BEGINNING DATE         53 non-null     object \n",
      " 44  BLANK20                              0 non-null      float64\n",
      " 45  WORK STOPPAGE ENDING DATE            53 non-null     object \n",
      "dtypes: float64(21), int64(4), object(21)\n",
      "memory usage: 189.2+ KB\n"
     ]
    }
   ],
   "source": [
    "settlement_data.info()"
   ]
  },
  {
   "cell_type": "code",
   "execution_count": 5,
   "metadata": {},
   "outputs": [
    {
     "data": {
      "text/plain": [
       "Index(['SCHEDULE NUMBER', 'NEGOTIATION NUMBER', 'BLANK1',\n",
       "       'COMPANY IDENTIFYING INFORMATION ', 'SIC Code', 'BLANK2', 'SIC Code.1',\n",
       "       'SIC Code.2', 'BLANK3', 'TYPE OF BARGAINING UNIT', 'BLANK4',\n",
       "       'REGIONAL OR STATE', 'BLANK5', 'LOCATION', 'BLANK6', 'UNION', 'BLANK7',\n",
       "       'UNION CODE', 'BLANK8', 'NUMBER OF EMPLOYEES', 'BLANK9',\n",
       "       'NEGOTIATION DATE', 'BLANK10', 'AGREEMENT EFFECTIVE DATE', 'BLANK11',\n",
       "       'NEW EXPIRATION DATE', 'BLANK12', 'REOPENING DATE', 'BLANK13',\n",
       "       'ESCALATOR OVERALL CONTROL', 'INDEX CODE', 'BLANK14',\n",
       "       'TYPE OF ESCALATOR CLAUSE', 'MINIMUM AND/OR MAXIMUM CODE', 'BLANK15',\n",
       "       'CPI BASE YEAR', 'BLANK16', 'CPI FORMULA', 'BLANK17',\n",
       "       'DATE OF FIRST COST-OF-LIVING REVIEW', 'BLANK18',\n",
       "       'DATE OF LAST COST-OF-LIVING REVIEW', 'BLANK19',\n",
       "       'WORK STOPPAGE BEGINNING DATE', 'BLANK20', 'WORK STOPPAGE ENDING DATE'],\n",
       "      dtype='object')"
      ]
     },
     "execution_count": 5,
     "metadata": {},
     "output_type": "execute_result"
    }
   ],
   "source": [
    "# List columns\n",
    "settlement_data.columns"
   ]
  },
  {
   "cell_type": "code",
   "execution_count": 6,
   "metadata": {},
   "outputs": [],
   "source": [
    "# Get total settlements by union\n",
    "union_data = settlement_data[\"UNION\"].value_counts()"
   ]
  },
  {
   "cell_type": "code",
   "execution_count": 7,
   "metadata": {},
   "outputs": [
    {
     "data": {
      "text/plain": [
       "UNION\n",
       "AUTO WORKERS                                                    322\n",
       "CLOTHING AND TEXTILE WORKERS                                    120\n",
       "AIR LINE PILOTS                                                  49\n",
       "BAKERY, CONFECTIONERY WORKERS INTERNATIONAL UNION OF AMERICA     19\n",
       "ELEVATOR CONSTRUCTORS                                             8\n",
       "ACTORS EQUITY ASSOCIATION                                         8\n",
       "Name: count, dtype: int64"
      ]
     },
     "execution_count": 7,
     "metadata": {},
     "output_type": "execute_result"
    }
   ],
   "source": [
    "union_data"
   ]
  },
  {
   "cell_type": "code",
   "execution_count": 23,
   "metadata": {},
   "outputs": [
    {
     "data": {
      "image/png": "[encoded data removed]",
      "text/plain": [
       "<Figure size 640x480 with 1 Axes>"
      ]
     },
     "metadata": {},
     "output_type": "display_data"
    }
   ],
   "source": [
    "figure = union_data.plot(kind=\"bar\")\n",
    "\n",
    "xticklabels = union_data.index\n",
    "figure.set_xticklabels(xticklabels, rotation=35, ha=\"right\", wrap=True )\n",
    "\n",
    "plt.show()"
   ]
  },
  {
   "cell_type": "code",
   "execution_count": 14,
   "metadata": {},
   "outputs": [
    {
     "data": {
      "text/plain": [
       "Index(['AUTO WORKERS', 'CLOTHING AND TEXTILE WORKERS', 'AIR LINE PILOTS',\n",
       "       'BAKERY, CONFECTIONERY WORKERS INTERNATIONAL UNION OF AMERICA',\n",
       "       'ELEVATOR CONSTRUCTORS', 'ACTORS EQUITY ASSOCIATION'],\n",
       "      dtype='object', name='UNION')"
      ]
     },
     "execution_count": 14,
     "metadata": {},
     "output_type": "execute_result"
    }
   ],
   "source": [
    "xticklabels"
   ]
  },
  {
   "cell_type": "code",
   "execution_count": null,
   "metadata": {
    "scrolled": true
   },
   "outputs": [],
   "source": [
    "# Configure plot, figsize, title, and axis labels\n",
    "figure1 = union_data.plot(kind=\"bar\", facecolor=\"red\", figsize=(8,6),\n",
    "                                title=\"Major Collective Bargaining Settlements (1995)\",\n",
    "                                xlabel=\"Union\",\n",
    "                                ylabel=\"Settlements\")\n",
    "\n",
    "# Configure x-tick rotation\n",
    "xticklabels = union_data.index\n",
    "figure1.set_xticklabels(xticklabels, rotation=45, rotation_mode=\"anchor\", ha=\"right\", wrap=True)\n",
    "\n",
    "# Show plot\n",
    "plt.show()"
   ]
  },
  {
   "cell_type": "code",
   "execution_count": null,
   "metadata": {},
   "outputs": [],
   "source": [
    "# Resize plot to display labels\n",
    "plt.tight_layout()\n",
    "plt.show()"
   ]
  },
  {
   "cell_type": "code",
   "execution_count": null,
   "metadata": {},
   "outputs": [],
   "source": []
  }
 ],
 "metadata": {
  "kernelspec": {
   "display_name": "Python 3 (ipykernel)",
   "language": "python",
   "name": "python3"
  },
  "language_info": {
   "codemirror_mode": {
    "name": "ipython",
    "version": 3
   },
   "file_extension": ".py",
   "mimetype": "text/x-python",
   "name": "python",
   "nbconvert_exporter": "python",
   "pygments_lexer": "ipython3",
   "version": "3.10.13"
  }
 },
 "nbformat": 4,
 "nbformat_minor": 4
}
